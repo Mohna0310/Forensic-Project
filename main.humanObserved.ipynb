{
 "cells": [
  {
   "cell_type": "code",
   "execution_count": 164,
   "metadata": {},
   "outputs": [],
   "source": [
    "import math\n",
    "import numpy as np\n",
    "import pandas as pd\n",
    "import tensorflow as tf\n",
    "from tqdm import tqdm_notebook\n",
    "from keras.utils import np_utils\n",
    "from sklearn.cluster import KMeans\n",
    "from matplotlib import pyplot as plt\n",
    "% matplotlib inline"
   ]
  },
  {
   "cell_type": "markdown",
   "metadata": {},
   "source": [
    "# Making feature dataset after concatenation"
   ]
  },
  {
   "cell_type": "code",
   "execution_count": 755,
   "metadata": {},
   "outputs": [],
   "source": [
    "# Importing HumanObserved-Features-Data.csv file\n",
    "\n",
    "humanObservedFeaturesData = pd.read_csv(\"HumanObserved-Features-Data.csv\")"
   ]
  },
  {
   "cell_type": "code",
   "execution_count": 756,
   "metadata": {},
   "outputs": [
    {
     "data": {
      "text/html": [
       "<div>\n",
       "<style scoped>\n",
       "    .dataframe tbody tr th:only-of-type {\n",
       "        vertical-align: middle;\n",
       "    }\n",
       "\n",
       "    .dataframe tbody tr th {\n",
       "        vertical-align: top;\n",
       "    }\n",
       "\n",
       "    .dataframe thead th {\n",
       "        text-align: right;\n",
       "    }\n",
       "</style>\n",
       "<table border=\"1\" class=\"dataframe\">\n",
       "  <thead>\n",
       "    <tr style=\"text-align: right;\">\n",
       "      <th></th>\n",
       "      <th>Unnamed: 0</th>\n",
       "      <th>img_id</th>\n",
       "      <th>f1</th>\n",
       "      <th>f2</th>\n",
       "      <th>f3</th>\n",
       "      <th>f4</th>\n",
       "      <th>f5</th>\n",
       "      <th>f6</th>\n",
       "      <th>f7</th>\n",
       "      <th>f8</th>\n",
       "      <th>f9</th>\n",
       "    </tr>\n",
       "  </thead>\n",
       "  <tbody>\n",
       "    <tr>\n",
       "      <th>0</th>\n",
       "      <td>0</td>\n",
       "      <td>0359a</td>\n",
       "      <td>2</td>\n",
       "      <td>1</td>\n",
       "      <td>1</td>\n",
       "      <td>0</td>\n",
       "      <td>2</td>\n",
       "      <td>2</td>\n",
       "      <td>0</td>\n",
       "      <td>2</td>\n",
       "      <td>2</td>\n",
       "    </tr>\n",
       "    <tr>\n",
       "      <th>1</th>\n",
       "      <td>1</td>\n",
       "      <td>0577a</td>\n",
       "      <td>2</td>\n",
       "      <td>1</td>\n",
       "      <td>1</td>\n",
       "      <td>0</td>\n",
       "      <td>2</td>\n",
       "      <td>2</td>\n",
       "      <td>0</td>\n",
       "      <td>1</td>\n",
       "      <td>2</td>\n",
       "    </tr>\n",
       "    <tr>\n",
       "      <th>2</th>\n",
       "      <td>2</td>\n",
       "      <td>1120a</td>\n",
       "      <td>2</td>\n",
       "      <td>1</td>\n",
       "      <td>1</td>\n",
       "      <td>3</td>\n",
       "      <td>2</td>\n",
       "      <td>2</td>\n",
       "      <td>0</td>\n",
       "      <td>2</td>\n",
       "      <td>2</td>\n",
       "    </tr>\n",
       "    <tr>\n",
       "      <th>3</th>\n",
       "      <td>3</td>\n",
       "      <td>1120b</td>\n",
       "      <td>1</td>\n",
       "      <td>1</td>\n",
       "      <td>1</td>\n",
       "      <td>0</td>\n",
       "      <td>2</td>\n",
       "      <td>2</td>\n",
       "      <td>0</td>\n",
       "      <td>2</td>\n",
       "      <td>2</td>\n",
       "    </tr>\n",
       "    <tr>\n",
       "      <th>4</th>\n",
       "      <td>4</td>\n",
       "      <td>1120c</td>\n",
       "      <td>2</td>\n",
       "      <td>1</td>\n",
       "      <td>1</td>\n",
       "      <td>0</td>\n",
       "      <td>2</td>\n",
       "      <td>2</td>\n",
       "      <td>0</td>\n",
       "      <td>0</td>\n",
       "      <td>2</td>\n",
       "    </tr>\n",
       "  </tbody>\n",
       "</table>\n",
       "</div>"
      ],
      "text/plain": [
       "   Unnamed: 0 img_id  f1  f2  f3  f4  f5  f6  f7  f8  f9\n",
       "0           0  0359a   2   1   1   0   2   2   0   2   2\n",
       "1           1  0577a   2   1   1   0   2   2   0   1   2\n",
       "2           2  1120a   2   1   1   3   2   2   0   2   2\n",
       "3           3  1120b   1   1   1   0   2   2   0   2   2\n",
       "4           4  1120c   2   1   1   0   2   2   0   0   2"
      ]
     },
     "execution_count": 756,
     "metadata": {},
     "output_type": "execute_result"
    }
   ],
   "source": [
    "humanObservedFeaturesData.head()"
   ]
  },
  {
   "cell_type": "code",
   "execution_count": 757,
   "metadata": {},
   "outputs": [
    {
     "data": {
      "text/plain": [
       "(1026, 11)"
      ]
     },
     "execution_count": 757,
     "metadata": {},
     "output_type": "execute_result"
    }
   ],
   "source": [
    "humanObservedFeaturesData.shape"
   ]
  },
  {
   "cell_type": "code",
   "execution_count": 758,
   "metadata": {},
   "outputs": [],
   "source": [
    "humanObservedFeaturesData = humanObservedFeaturesData.drop('Unnamed: 0',axis=1)"
   ]
  },
  {
   "cell_type": "code",
   "execution_count": 759,
   "metadata": {},
   "outputs": [
    {
     "data": {
      "text/html": [
       "<div>\n",
       "<style scoped>\n",
       "    .dataframe tbody tr th:only-of-type {\n",
       "        vertical-align: middle;\n",
       "    }\n",
       "\n",
       "    .dataframe tbody tr th {\n",
       "        vertical-align: top;\n",
       "    }\n",
       "\n",
       "    .dataframe thead th {\n",
       "        text-align: right;\n",
       "    }\n",
       "</style>\n",
       "<table border=\"1\" class=\"dataframe\">\n",
       "  <thead>\n",
       "    <tr style=\"text-align: right;\">\n",
       "      <th></th>\n",
       "      <th>img_id</th>\n",
       "      <th>f1</th>\n",
       "      <th>f2</th>\n",
       "      <th>f3</th>\n",
       "      <th>f4</th>\n",
       "      <th>f5</th>\n",
       "      <th>f6</th>\n",
       "      <th>f7</th>\n",
       "      <th>f8</th>\n",
       "      <th>f9</th>\n",
       "    </tr>\n",
       "  </thead>\n",
       "  <tbody>\n",
       "    <tr>\n",
       "      <th>0</th>\n",
       "      <td>0359a</td>\n",
       "      <td>2</td>\n",
       "      <td>1</td>\n",
       "      <td>1</td>\n",
       "      <td>0</td>\n",
       "      <td>2</td>\n",
       "      <td>2</td>\n",
       "      <td>0</td>\n",
       "      <td>2</td>\n",
       "      <td>2</td>\n",
       "    </tr>\n",
       "    <tr>\n",
       "      <th>1</th>\n",
       "      <td>0577a</td>\n",
       "      <td>2</td>\n",
       "      <td>1</td>\n",
       "      <td>1</td>\n",
       "      <td>0</td>\n",
       "      <td>2</td>\n",
       "      <td>2</td>\n",
       "      <td>0</td>\n",
       "      <td>1</td>\n",
       "      <td>2</td>\n",
       "    </tr>\n",
       "    <tr>\n",
       "      <th>2</th>\n",
       "      <td>1120a</td>\n",
       "      <td>2</td>\n",
       "      <td>1</td>\n",
       "      <td>1</td>\n",
       "      <td>3</td>\n",
       "      <td>2</td>\n",
       "      <td>2</td>\n",
       "      <td>0</td>\n",
       "      <td>2</td>\n",
       "      <td>2</td>\n",
       "    </tr>\n",
       "    <tr>\n",
       "      <th>3</th>\n",
       "      <td>1120b</td>\n",
       "      <td>1</td>\n",
       "      <td>1</td>\n",
       "      <td>1</td>\n",
       "      <td>0</td>\n",
       "      <td>2</td>\n",
       "      <td>2</td>\n",
       "      <td>0</td>\n",
       "      <td>2</td>\n",
       "      <td>2</td>\n",
       "    </tr>\n",
       "    <tr>\n",
       "      <th>4</th>\n",
       "      <td>1120c</td>\n",
       "      <td>2</td>\n",
       "      <td>1</td>\n",
       "      <td>1</td>\n",
       "      <td>0</td>\n",
       "      <td>2</td>\n",
       "      <td>2</td>\n",
       "      <td>0</td>\n",
       "      <td>0</td>\n",
       "      <td>2</td>\n",
       "    </tr>\n",
       "  </tbody>\n",
       "</table>\n",
       "</div>"
      ],
      "text/plain": [
       "  img_id  f1  f2  f3  f4  f5  f6  f7  f8  f9\n",
       "0  0359a   2   1   1   0   2   2   0   2   2\n",
       "1  0577a   2   1   1   0   2   2   0   1   2\n",
       "2  1120a   2   1   1   3   2   2   0   2   2\n",
       "3  1120b   1   1   1   0   2   2   0   2   2\n",
       "4  1120c   2   1   1   0   2   2   0   0   2"
      ]
     },
     "execution_count": 759,
     "metadata": {},
     "output_type": "execute_result"
    }
   ],
   "source": [
    "humanObservedFeaturesData.head()"
   ]
  },
  {
   "cell_type": "code",
   "execution_count": 760,
   "metadata": {},
   "outputs": [
    {
     "data": {
      "text/plain": [
       "(1026, 10)"
      ]
     },
     "execution_count": 760,
     "metadata": {},
     "output_type": "execute_result"
    }
   ],
   "source": [
    "humanObservedFeaturesData.shape"
   ]
  },
  {
   "cell_type": "code",
   "execution_count": 761,
   "metadata": {},
   "outputs": [],
   "source": [
    "# Importing same_pairs.csv file\n",
    "\n",
    "samePair = pd.read_csv(\"same_pairs.csv\")"
   ]
  },
  {
   "cell_type": "code",
   "execution_count": 762,
   "metadata": {},
   "outputs": [
    {
     "data": {
      "text/html": [
       "<div>\n",
       "<style scoped>\n",
       "    .dataframe tbody tr th:only-of-type {\n",
       "        vertical-align: middle;\n",
       "    }\n",
       "\n",
       "    .dataframe tbody tr th {\n",
       "        vertical-align: top;\n",
       "    }\n",
       "\n",
       "    .dataframe thead th {\n",
       "        text-align: right;\n",
       "    }\n",
       "</style>\n",
       "<table border=\"1\" class=\"dataframe\">\n",
       "  <thead>\n",
       "    <tr style=\"text-align: right;\">\n",
       "      <th></th>\n",
       "      <th>img_id_A</th>\n",
       "      <th>img_id_B</th>\n",
       "      <th>target</th>\n",
       "    </tr>\n",
       "  </thead>\n",
       "  <tbody>\n",
       "    <tr>\n",
       "      <th>0</th>\n",
       "      <td>0359a</td>\n",
       "      <td>0359b</td>\n",
       "      <td>1</td>\n",
       "    </tr>\n",
       "    <tr>\n",
       "      <th>1</th>\n",
       "      <td>0577a</td>\n",
       "      <td>0577b</td>\n",
       "      <td>1</td>\n",
       "    </tr>\n",
       "    <tr>\n",
       "      <th>2</th>\n",
       "      <td>0577a</td>\n",
       "      <td>0577c</td>\n",
       "      <td>1</td>\n",
       "    </tr>\n",
       "    <tr>\n",
       "      <th>3</th>\n",
       "      <td>1120a</td>\n",
       "      <td>1120b</td>\n",
       "      <td>1</td>\n",
       "    </tr>\n",
       "    <tr>\n",
       "      <th>4</th>\n",
       "      <td>1120a</td>\n",
       "      <td>1120c</td>\n",
       "      <td>1</td>\n",
       "    </tr>\n",
       "  </tbody>\n",
       "</table>\n",
       "</div>"
      ],
      "text/plain": [
       "  img_id_A img_id_B  target\n",
       "0    0359a    0359b       1\n",
       "1    0577a    0577b       1\n",
       "2    0577a    0577c       1\n",
       "3    1120a    1120b       1\n",
       "4    1120a    1120c       1"
      ]
     },
     "execution_count": 762,
     "metadata": {},
     "output_type": "execute_result"
    }
   ],
   "source": [
    "samePair.head()"
   ]
  },
  {
   "cell_type": "code",
   "execution_count": 763,
   "metadata": {},
   "outputs": [
    {
     "data": {
      "text/plain": [
       "(791, 3)"
      ]
     },
     "execution_count": 763,
     "metadata": {},
     "output_type": "execute_result"
    }
   ],
   "source": [
    "samePair.shape"
   ]
  },
  {
   "cell_type": "code",
   "execution_count": 764,
   "metadata": {},
   "outputs": [
    {
     "name": "stdout",
     "output_type": "stream",
     "text": [
      "(564,)\n",
      "(564,)\n"
     ]
    }
   ],
   "source": [
    "print(samePair['img_id_A'].unique().shape)  # It tells the number of distinct images in img_id_A column\n",
    "print(samePair['img_id_B'].unique().shape)  # It tells the number of distinct images in img_id_B column\n",
    "\n",
    "# Both columns have 564 distinct images out of 791 images"
   ]
  },
  {
   "cell_type": "code",
   "execution_count": 765,
   "metadata": {},
   "outputs": [],
   "source": [
    "# Importing diffn_pairs.csv file\n",
    "\n",
    "diffnPair = pd.read_csv(\"diffn_pairs.csv\")"
   ]
  },
  {
   "cell_type": "code",
   "execution_count": 766,
   "metadata": {},
   "outputs": [
    {
     "data": {
      "text/html": [
       "<div>\n",
       "<style scoped>\n",
       "    .dataframe tbody tr th:only-of-type {\n",
       "        vertical-align: middle;\n",
       "    }\n",
       "\n",
       "    .dataframe tbody tr th {\n",
       "        vertical-align: top;\n",
       "    }\n",
       "\n",
       "    .dataframe thead th {\n",
       "        text-align: right;\n",
       "    }\n",
       "</style>\n",
       "<table border=\"1\" class=\"dataframe\">\n",
       "  <thead>\n",
       "    <tr style=\"text-align: right;\">\n",
       "      <th></th>\n",
       "      <th>img_id_A</th>\n",
       "      <th>img_id_B</th>\n",
       "      <th>target</th>\n",
       "    </tr>\n",
       "  </thead>\n",
       "  <tbody>\n",
       "    <tr>\n",
       "      <th>0</th>\n",
       "      <td>0359a</td>\n",
       "      <td>0577a</td>\n",
       "      <td>0</td>\n",
       "    </tr>\n",
       "    <tr>\n",
       "      <th>1</th>\n",
       "      <td>0359a</td>\n",
       "      <td>1120a</td>\n",
       "      <td>0</td>\n",
       "    </tr>\n",
       "    <tr>\n",
       "      <th>2</th>\n",
       "      <td>0359a</td>\n",
       "      <td>1120b</td>\n",
       "      <td>0</td>\n",
       "    </tr>\n",
       "    <tr>\n",
       "      <th>3</th>\n",
       "      <td>0359a</td>\n",
       "      <td>1120c</td>\n",
       "      <td>0</td>\n",
       "    </tr>\n",
       "    <tr>\n",
       "      <th>4</th>\n",
       "      <td>0359a</td>\n",
       "      <td>1121a</td>\n",
       "      <td>0</td>\n",
       "    </tr>\n",
       "  </tbody>\n",
       "</table>\n",
       "</div>"
      ],
      "text/plain": [
       "  img_id_A img_id_B  target\n",
       "0    0359a    0577a       0\n",
       "1    0359a    1120a       0\n",
       "2    0359a    1120b       0\n",
       "3    0359a    1120c       0\n",
       "4    0359a    1121a       0"
      ]
     },
     "execution_count": 766,
     "metadata": {},
     "output_type": "execute_result"
    }
   ],
   "source": [
    "diffnPair.head()"
   ]
  },
  {
   "cell_type": "code",
   "execution_count": 767,
   "metadata": {},
   "outputs": [
    {
     "data": {
      "text/plain": [
       "(293032, 3)"
      ]
     },
     "execution_count": 767,
     "metadata": {},
     "output_type": "execute_result"
    }
   ],
   "source": [
    "diffnPair.shape"
   ]
  },
  {
   "cell_type": "code",
   "execution_count": 768,
   "metadata": {},
   "outputs": [],
   "source": [
    "# To make my feature dataset, here I am taking random 791 samples from diffnPair dataframe so that I can concatenate same pair\n",
    "# and different pair along row axis.\n",
    "\n",
    "humanObsFeatures = pd.concat([samePair, diffnPair[:791]])"
   ]
  },
  {
   "cell_type": "code",
   "execution_count": 769,
   "metadata": {},
   "outputs": [
    {
     "data": {
      "text/html": [
       "<div>\n",
       "<style scoped>\n",
       "    .dataframe tbody tr th:only-of-type {\n",
       "        vertical-align: middle;\n",
       "    }\n",
       "\n",
       "    .dataframe tbody tr th {\n",
       "        vertical-align: top;\n",
       "    }\n",
       "\n",
       "    .dataframe thead th {\n",
       "        text-align: right;\n",
       "    }\n",
       "</style>\n",
       "<table border=\"1\" class=\"dataframe\">\n",
       "  <thead>\n",
       "    <tr style=\"text-align: right;\">\n",
       "      <th></th>\n",
       "      <th>img_id_A</th>\n",
       "      <th>img_id_B</th>\n",
       "      <th>target</th>\n",
       "    </tr>\n",
       "  </thead>\n",
       "  <tbody>\n",
       "    <tr>\n",
       "      <th>0</th>\n",
       "      <td>0359a</td>\n",
       "      <td>0359b</td>\n",
       "      <td>1</td>\n",
       "    </tr>\n",
       "    <tr>\n",
       "      <th>1</th>\n",
       "      <td>0577a</td>\n",
       "      <td>0577b</td>\n",
       "      <td>1</td>\n",
       "    </tr>\n",
       "    <tr>\n",
       "      <th>2</th>\n",
       "      <td>0577a</td>\n",
       "      <td>0577c</td>\n",
       "      <td>1</td>\n",
       "    </tr>\n",
       "    <tr>\n",
       "      <th>3</th>\n",
       "      <td>1120a</td>\n",
       "      <td>1120b</td>\n",
       "      <td>1</td>\n",
       "    </tr>\n",
       "    <tr>\n",
       "      <th>4</th>\n",
       "      <td>1120a</td>\n",
       "      <td>1120c</td>\n",
       "      <td>1</td>\n",
       "    </tr>\n",
       "  </tbody>\n",
       "</table>\n",
       "</div>"
      ],
      "text/plain": [
       "  img_id_A img_id_B  target\n",
       "0    0359a    0359b       1\n",
       "1    0577a    0577b       1\n",
       "2    0577a    0577c       1\n",
       "3    1120a    1120b       1\n",
       "4    1120a    1120c       1"
      ]
     },
     "execution_count": 769,
     "metadata": {},
     "output_type": "execute_result"
    }
   ],
   "source": [
    "humanObsFeatures.head()  # We can see in the target column, series of 1's is appearing and then series of 0's"
   ]
  },
  {
   "cell_type": "code",
   "execution_count": 770,
   "metadata": {},
   "outputs": [
    {
     "data": {
      "text/plain": [
       "(1582, 3)"
      ]
     },
     "execution_count": 770,
     "metadata": {},
     "output_type": "execute_result"
    }
   ],
   "source": [
    "humanObsFeatures.shape  "
   ]
  },
  {
   "cell_type": "code",
   "execution_count": 771,
   "metadata": {},
   "outputs": [],
   "source": [
    "hod = humanObsFeatures.values\n",
    "np.random.shuffle(hod)          # Here I have shuffled the samples along row axis"
   ]
  },
  {
   "cell_type": "code",
   "execution_count": 772,
   "metadata": {},
   "outputs": [
    {
     "data": {
      "text/plain": [
       "array([['0359a', '0367c', 0],\n",
       "       ['0359a', '1320a', 0],\n",
       "       ['0359a', '0584b', 0],\n",
       "       ..., \n",
       "       ['0359a', '1229b', 0],\n",
       "       ['0507b', '0507c', 1],\n",
       "       ['0359a', '1260c', 0]], dtype=object)"
      ]
     },
     "execution_count": 772,
     "metadata": {},
     "output_type": "execute_result"
    }
   ],
   "source": [
    "hod     "
   ]
  },
  {
   "cell_type": "code",
   "execution_count": 773,
   "metadata": {},
   "outputs": [],
   "source": [
    "# We can clearly infer from above output that hod is shuffled."
   ]
  },
  {
   "cell_type": "code",
   "execution_count": 774,
   "metadata": {},
   "outputs": [
    {
     "data": {
      "text/plain": [
       "Index(['img_id_A', 'img_id_B', 'target'], dtype='object')"
      ]
     },
     "execution_count": 774,
     "metadata": {},
     "output_type": "execute_result"
    }
   ],
   "source": [
    "columnIndex = humanObsFeatures.columns\n",
    "columnIndex"
   ]
  },
  {
   "cell_type": "code",
   "execution_count": 775,
   "metadata": {},
   "outputs": [
    {
     "data": {
      "text/html": [
       "<div>\n",
       "<style scoped>\n",
       "    .dataframe tbody tr th:only-of-type {\n",
       "        vertical-align: middle;\n",
       "    }\n",
       "\n",
       "    .dataframe tbody tr th {\n",
       "        vertical-align: top;\n",
       "    }\n",
       "\n",
       "    .dataframe thead th {\n",
       "        text-align: right;\n",
       "    }\n",
       "</style>\n",
       "<table border=\"1\" class=\"dataframe\">\n",
       "  <thead>\n",
       "    <tr style=\"text-align: right;\">\n",
       "      <th></th>\n",
       "      <th>img_id_A</th>\n",
       "      <th>img_id_B</th>\n",
       "      <th>target</th>\n",
       "    </tr>\n",
       "  </thead>\n",
       "  <tbody>\n",
       "    <tr>\n",
       "      <th>0</th>\n",
       "      <td>0359a</td>\n",
       "      <td>0367c</td>\n",
       "      <td>0</td>\n",
       "    </tr>\n",
       "    <tr>\n",
       "      <th>1</th>\n",
       "      <td>0359a</td>\n",
       "      <td>1320a</td>\n",
       "      <td>0</td>\n",
       "    </tr>\n",
       "    <tr>\n",
       "      <th>2</th>\n",
       "      <td>0359a</td>\n",
       "      <td>0584b</td>\n",
       "      <td>0</td>\n",
       "    </tr>\n",
       "    <tr>\n",
       "      <th>3</th>\n",
       "      <td>0544a</td>\n",
       "      <td>0544c</td>\n",
       "      <td>1</td>\n",
       "    </tr>\n",
       "    <tr>\n",
       "      <th>4</th>\n",
       "      <td>0359a</td>\n",
       "      <td>0335c</td>\n",
       "      <td>0</td>\n",
       "    </tr>\n",
       "  </tbody>\n",
       "</table>\n",
       "</div>"
      ],
      "text/plain": [
       "  img_id_A img_id_B target\n",
       "0    0359a    0367c      0\n",
       "1    0359a    1320a      0\n",
       "2    0359a    0584b      0\n",
       "3    0544a    0544c      1\n",
       "4    0359a    0335c      0"
      ]
     },
     "execution_count": 775,
     "metadata": {},
     "output_type": "execute_result"
    }
   ],
   "source": [
    "humanObsFeatures =  pd.DataFrame(data = hod,columns=columnIndex)\n",
    "humanObsFeatures.head()"
   ]
  },
  {
   "cell_type": "code",
   "execution_count": 776,
   "metadata": {},
   "outputs": [],
   "source": [
    "# To make human observed dataset after concatenation of features of image_A and image_B, we have to fetch features of image A\n",
    "# and B from \"humanObservedFeaturesData\" dataframe."
   ]
  },
  {
   "cell_type": "code",
   "execution_count": 777,
   "metadata": {},
   "outputs": [],
   "source": [
    "img_id_A = humanObsFeatures['img_id_A'].values\n",
    "img_id_B = humanObsFeatures['img_id_B'].values"
   ]
  },
  {
   "cell_type": "code",
   "execution_count": 778,
   "metadata": {},
   "outputs": [
    {
     "data": {
      "text/html": [
       "<div>\n",
       "<style scoped>\n",
       "    .dataframe tbody tr th:only-of-type {\n",
       "        vertical-align: middle;\n",
       "    }\n",
       "\n",
       "    .dataframe tbody tr th {\n",
       "        vertical-align: top;\n",
       "    }\n",
       "\n",
       "    .dataframe thead th {\n",
       "        text-align: right;\n",
       "    }\n",
       "</style>\n",
       "<table border=\"1\" class=\"dataframe\">\n",
       "  <thead>\n",
       "    <tr style=\"text-align: right;\">\n",
       "      <th></th>\n",
       "      <th>img_id</th>\n",
       "      <th>f1</th>\n",
       "      <th>f2</th>\n",
       "      <th>f3</th>\n",
       "      <th>f4</th>\n",
       "      <th>f5</th>\n",
       "      <th>f6</th>\n",
       "      <th>f7</th>\n",
       "      <th>f8</th>\n",
       "      <th>f9</th>\n",
       "    </tr>\n",
       "  </thead>\n",
       "  <tbody>\n",
       "    <tr>\n",
       "      <th>0</th>\n",
       "      <td>0359a</td>\n",
       "      <td>2</td>\n",
       "      <td>1</td>\n",
       "      <td>1</td>\n",
       "      <td>0</td>\n",
       "      <td>2</td>\n",
       "      <td>2</td>\n",
       "      <td>0</td>\n",
       "      <td>2</td>\n",
       "      <td>2</td>\n",
       "    </tr>\n",
       "    <tr>\n",
       "      <th>1</th>\n",
       "      <td>0577a</td>\n",
       "      <td>2</td>\n",
       "      <td>1</td>\n",
       "      <td>1</td>\n",
       "      <td>0</td>\n",
       "      <td>2</td>\n",
       "      <td>2</td>\n",
       "      <td>0</td>\n",
       "      <td>1</td>\n",
       "      <td>2</td>\n",
       "    </tr>\n",
       "    <tr>\n",
       "      <th>2</th>\n",
       "      <td>1120a</td>\n",
       "      <td>2</td>\n",
       "      <td>1</td>\n",
       "      <td>1</td>\n",
       "      <td>3</td>\n",
       "      <td>2</td>\n",
       "      <td>2</td>\n",
       "      <td>0</td>\n",
       "      <td>2</td>\n",
       "      <td>2</td>\n",
       "    </tr>\n",
       "    <tr>\n",
       "      <th>3</th>\n",
       "      <td>1120b</td>\n",
       "      <td>1</td>\n",
       "      <td>1</td>\n",
       "      <td>1</td>\n",
       "      <td>0</td>\n",
       "      <td>2</td>\n",
       "      <td>2</td>\n",
       "      <td>0</td>\n",
       "      <td>2</td>\n",
       "      <td>2</td>\n",
       "    </tr>\n",
       "    <tr>\n",
       "      <th>4</th>\n",
       "      <td>1120c</td>\n",
       "      <td>2</td>\n",
       "      <td>1</td>\n",
       "      <td>1</td>\n",
       "      <td>0</td>\n",
       "      <td>2</td>\n",
       "      <td>2</td>\n",
       "      <td>0</td>\n",
       "      <td>0</td>\n",
       "      <td>2</td>\n",
       "    </tr>\n",
       "  </tbody>\n",
       "</table>\n",
       "</div>"
      ],
      "text/plain": [
       "  img_id  f1  f2  f3  f4  f5  f6  f7  f8  f9\n",
       "0  0359a   2   1   1   0   2   2   0   2   2\n",
       "1  0577a   2   1   1   0   2   2   0   1   2\n",
       "2  1120a   2   1   1   3   2   2   0   2   2\n",
       "3  1120b   1   1   1   0   2   2   0   2   2\n",
       "4  1120c   2   1   1   0   2   2   0   0   2"
      ]
     },
     "execution_count": 778,
     "metadata": {},
     "output_type": "execute_result"
    }
   ],
   "source": [
    "humanObservedFeaturesData.head()"
   ]
  },
  {
   "cell_type": "code",
   "execution_count": 779,
   "metadata": {},
   "outputs": [
    {
     "data": {
      "text/html": [
       "<div>\n",
       "<style scoped>\n",
       "    .dataframe tbody tr th:only-of-type {\n",
       "        vertical-align: middle;\n",
       "    }\n",
       "\n",
       "    .dataframe tbody tr th {\n",
       "        vertical-align: top;\n",
       "    }\n",
       "\n",
       "    .dataframe thead th {\n",
       "        text-align: right;\n",
       "    }\n",
       "</style>\n",
       "<table border=\"1\" class=\"dataframe\">\n",
       "  <thead>\n",
       "    <tr style=\"text-align: right;\">\n",
       "      <th></th>\n",
       "      <th>f1</th>\n",
       "      <th>f2</th>\n",
       "      <th>f3</th>\n",
       "      <th>f4</th>\n",
       "      <th>f5</th>\n",
       "      <th>f6</th>\n",
       "      <th>f7</th>\n",
       "      <th>f8</th>\n",
       "      <th>f9</th>\n",
       "    </tr>\n",
       "    <tr>\n",
       "      <th>img_id</th>\n",
       "      <th></th>\n",
       "      <th></th>\n",
       "      <th></th>\n",
       "      <th></th>\n",
       "      <th></th>\n",
       "      <th></th>\n",
       "      <th></th>\n",
       "      <th></th>\n",
       "      <th></th>\n",
       "    </tr>\n",
       "  </thead>\n",
       "  <tbody>\n",
       "    <tr>\n",
       "      <th>0359a</th>\n",
       "      <td>2</td>\n",
       "      <td>1</td>\n",
       "      <td>1</td>\n",
       "      <td>0</td>\n",
       "      <td>2</td>\n",
       "      <td>2</td>\n",
       "      <td>0</td>\n",
       "      <td>2</td>\n",
       "      <td>2</td>\n",
       "    </tr>\n",
       "    <tr>\n",
       "      <th>0577a</th>\n",
       "      <td>2</td>\n",
       "      <td>1</td>\n",
       "      <td>1</td>\n",
       "      <td>0</td>\n",
       "      <td>2</td>\n",
       "      <td>2</td>\n",
       "      <td>0</td>\n",
       "      <td>1</td>\n",
       "      <td>2</td>\n",
       "    </tr>\n",
       "    <tr>\n",
       "      <th>1120a</th>\n",
       "      <td>2</td>\n",
       "      <td>1</td>\n",
       "      <td>1</td>\n",
       "      <td>3</td>\n",
       "      <td>2</td>\n",
       "      <td>2</td>\n",
       "      <td>0</td>\n",
       "      <td>2</td>\n",
       "      <td>2</td>\n",
       "    </tr>\n",
       "    <tr>\n",
       "      <th>1120b</th>\n",
       "      <td>1</td>\n",
       "      <td>1</td>\n",
       "      <td>1</td>\n",
       "      <td>0</td>\n",
       "      <td>2</td>\n",
       "      <td>2</td>\n",
       "      <td>0</td>\n",
       "      <td>2</td>\n",
       "      <td>2</td>\n",
       "    </tr>\n",
       "    <tr>\n",
       "      <th>1120c</th>\n",
       "      <td>2</td>\n",
       "      <td>1</td>\n",
       "      <td>1</td>\n",
       "      <td>0</td>\n",
       "      <td>2</td>\n",
       "      <td>2</td>\n",
       "      <td>0</td>\n",
       "      <td>0</td>\n",
       "      <td>2</td>\n",
       "    </tr>\n",
       "  </tbody>\n",
       "</table>\n",
       "</div>"
      ],
      "text/plain": [
       "        f1  f2  f3  f4  f5  f6  f7  f8  f9\n",
       "img_id                                    \n",
       "0359a    2   1   1   0   2   2   0   2   2\n",
       "0577a    2   1   1   0   2   2   0   1   2\n",
       "1120a    2   1   1   3   2   2   0   2   2\n",
       "1120b    1   1   1   0   2   2   0   2   2\n",
       "1120c    2   1   1   0   2   2   0   0   2"
      ]
     },
     "execution_count": 779,
     "metadata": {},
     "output_type": "execute_result"
    }
   ],
   "source": [
    "# To fetch the features we have to reset the index\n",
    "\n",
    "features = humanObservedFeaturesData.set_index(keys='img_id')\n",
    "features.head()"
   ]
  },
  {
   "cell_type": "code",
   "execution_count": 780,
   "metadata": {},
   "outputs": [
    {
     "data": {
      "text/html": [
       "<div>\n",
       "<style scoped>\n",
       "    .dataframe tbody tr th:only-of-type {\n",
       "        vertical-align: middle;\n",
       "    }\n",
       "\n",
       "    .dataframe tbody tr th {\n",
       "        vertical-align: top;\n",
       "    }\n",
       "\n",
       "    .dataframe thead th {\n",
       "        text-align: right;\n",
       "    }\n",
       "</style>\n",
       "<table border=\"1\" class=\"dataframe\">\n",
       "  <thead>\n",
       "    <tr style=\"text-align: right;\">\n",
       "      <th></th>\n",
       "      <th>f1</th>\n",
       "      <th>f2</th>\n",
       "      <th>f3</th>\n",
       "      <th>f4</th>\n",
       "      <th>f5</th>\n",
       "      <th>f6</th>\n",
       "      <th>f7</th>\n",
       "      <th>f8</th>\n",
       "      <th>f9</th>\n",
       "    </tr>\n",
       "    <tr>\n",
       "      <th>img_id</th>\n",
       "      <th></th>\n",
       "      <th></th>\n",
       "      <th></th>\n",
       "      <th></th>\n",
       "      <th></th>\n",
       "      <th></th>\n",
       "      <th></th>\n",
       "      <th></th>\n",
       "      <th></th>\n",
       "    </tr>\n",
       "  </thead>\n",
       "  <tbody>\n",
       "    <tr>\n",
       "      <th>0359a</th>\n",
       "      <td>2</td>\n",
       "      <td>1</td>\n",
       "      <td>1</td>\n",
       "      <td>0</td>\n",
       "      <td>2</td>\n",
       "      <td>2</td>\n",
       "      <td>0</td>\n",
       "      <td>2</td>\n",
       "      <td>2</td>\n",
       "    </tr>\n",
       "    <tr>\n",
       "      <th>0359a</th>\n",
       "      <td>2</td>\n",
       "      <td>1</td>\n",
       "      <td>1</td>\n",
       "      <td>0</td>\n",
       "      <td>2</td>\n",
       "      <td>2</td>\n",
       "      <td>0</td>\n",
       "      <td>2</td>\n",
       "      <td>2</td>\n",
       "    </tr>\n",
       "    <tr>\n",
       "      <th>0359a</th>\n",
       "      <td>2</td>\n",
       "      <td>1</td>\n",
       "      <td>1</td>\n",
       "      <td>0</td>\n",
       "      <td>2</td>\n",
       "      <td>2</td>\n",
       "      <td>0</td>\n",
       "      <td>2</td>\n",
       "      <td>2</td>\n",
       "    </tr>\n",
       "    <tr>\n",
       "      <th>0544a</th>\n",
       "      <td>0</td>\n",
       "      <td>1</td>\n",
       "      <td>1</td>\n",
       "      <td>0</td>\n",
       "      <td>2</td>\n",
       "      <td>2</td>\n",
       "      <td>0</td>\n",
       "      <td>1</td>\n",
       "      <td>1</td>\n",
       "    </tr>\n",
       "    <tr>\n",
       "      <th>0359a</th>\n",
       "      <td>2</td>\n",
       "      <td>1</td>\n",
       "      <td>1</td>\n",
       "      <td>0</td>\n",
       "      <td>2</td>\n",
       "      <td>2</td>\n",
       "      <td>0</td>\n",
       "      <td>2</td>\n",
       "      <td>2</td>\n",
       "    </tr>\n",
       "  </tbody>\n",
       "</table>\n",
       "</div>"
      ],
      "text/plain": [
       "        f1  f2  f3  f4  f5  f6  f7  f8  f9\n",
       "img_id                                    \n",
       "0359a    2   1   1   0   2   2   0   2   2\n",
       "0359a    2   1   1   0   2   2   0   2   2\n",
       "0359a    2   1   1   0   2   2   0   2   2\n",
       "0544a    0   1   1   0   2   2   0   1   1\n",
       "0359a    2   1   1   0   2   2   0   2   2"
      ]
     },
     "execution_count": 780,
     "metadata": {},
     "output_type": "execute_result"
    }
   ],
   "source": [
    "# Fetching Images_A features\n",
    "\n",
    "img_id_A_features = features.loc[img_id_A]\n",
    "img_id_A_features.head()"
   ]
  },
  {
   "cell_type": "code",
   "execution_count": 781,
   "metadata": {},
   "outputs": [
    {
     "data": {
      "text/plain": [
       "(1582, 9)"
      ]
     },
     "execution_count": 781,
     "metadata": {},
     "output_type": "execute_result"
    }
   ],
   "source": [
    "img_id_A_features.shape"
   ]
  },
  {
   "cell_type": "code",
   "execution_count": 782,
   "metadata": {},
   "outputs": [
    {
     "data": {
      "text/html": [
       "<div>\n",
       "<style scoped>\n",
       "    .dataframe tbody tr th:only-of-type {\n",
       "        vertical-align: middle;\n",
       "    }\n",
       "\n",
       "    .dataframe tbody tr th {\n",
       "        vertical-align: top;\n",
       "    }\n",
       "\n",
       "    .dataframe thead th {\n",
       "        text-align: right;\n",
       "    }\n",
       "</style>\n",
       "<table border=\"1\" class=\"dataframe\">\n",
       "  <thead>\n",
       "    <tr style=\"text-align: right;\">\n",
       "      <th></th>\n",
       "      <th>f1</th>\n",
       "      <th>f2</th>\n",
       "      <th>f3</th>\n",
       "      <th>f4</th>\n",
       "      <th>f5</th>\n",
       "      <th>f6</th>\n",
       "      <th>f7</th>\n",
       "      <th>f8</th>\n",
       "      <th>f9</th>\n",
       "    </tr>\n",
       "    <tr>\n",
       "      <th>img_id</th>\n",
       "      <th></th>\n",
       "      <th></th>\n",
       "      <th></th>\n",
       "      <th></th>\n",
       "      <th></th>\n",
       "      <th></th>\n",
       "      <th></th>\n",
       "      <th></th>\n",
       "      <th></th>\n",
       "    </tr>\n",
       "  </thead>\n",
       "  <tbody>\n",
       "    <tr>\n",
       "      <th>0367c</th>\n",
       "      <td>3</td>\n",
       "      <td>1</td>\n",
       "      <td>1</td>\n",
       "      <td>3</td>\n",
       "      <td>2</td>\n",
       "      <td>2</td>\n",
       "      <td>0</td>\n",
       "      <td>1</td>\n",
       "      <td>2</td>\n",
       "    </tr>\n",
       "    <tr>\n",
       "      <th>1320a</th>\n",
       "      <td>1</td>\n",
       "      <td>1</td>\n",
       "      <td>1</td>\n",
       "      <td>3</td>\n",
       "      <td>2</td>\n",
       "      <td>1</td>\n",
       "      <td>0</td>\n",
       "      <td>3</td>\n",
       "      <td>2</td>\n",
       "    </tr>\n",
       "    <tr>\n",
       "      <th>0584b</th>\n",
       "      <td>2</td>\n",
       "      <td>1</td>\n",
       "      <td>1</td>\n",
       "      <td>1</td>\n",
       "      <td>2</td>\n",
       "      <td>2</td>\n",
       "      <td>1</td>\n",
       "      <td>2</td>\n",
       "      <td>2</td>\n",
       "    </tr>\n",
       "    <tr>\n",
       "      <th>0544c</th>\n",
       "      <td>1</td>\n",
       "      <td>4</td>\n",
       "      <td>1</td>\n",
       "      <td>3</td>\n",
       "      <td>2</td>\n",
       "      <td>2</td>\n",
       "      <td>2</td>\n",
       "      <td>0</td>\n",
       "      <td>1</td>\n",
       "    </tr>\n",
       "    <tr>\n",
       "      <th>0335c</th>\n",
       "      <td>3</td>\n",
       "      <td>1</td>\n",
       "      <td>1</td>\n",
       "      <td>0</td>\n",
       "      <td>2</td>\n",
       "      <td>1</td>\n",
       "      <td>1</td>\n",
       "      <td>3</td>\n",
       "      <td>2</td>\n",
       "    </tr>\n",
       "  </tbody>\n",
       "</table>\n",
       "</div>"
      ],
      "text/plain": [
       "        f1  f2  f3  f4  f5  f6  f7  f8  f9\n",
       "img_id                                    \n",
       "0367c    3   1   1   3   2   2   0   1   2\n",
       "1320a    1   1   1   3   2   1   0   3   2\n",
       "0584b    2   1   1   1   2   2   1   2   2\n",
       "0544c    1   4   1   3   2   2   2   0   1\n",
       "0335c    3   1   1   0   2   1   1   3   2"
      ]
     },
     "execution_count": 782,
     "metadata": {},
     "output_type": "execute_result"
    }
   ],
   "source": [
    "# Fetching Images_B features\n",
    "\n",
    "img_id_B_features = features.loc[img_id_B]\n",
    "img_id_B_features.head()"
   ]
  },
  {
   "cell_type": "code",
   "execution_count": 783,
   "metadata": {},
   "outputs": [
    {
     "data": {
      "text/plain": [
       "(1582, 9)"
      ]
     },
     "execution_count": 783,
     "metadata": {},
     "output_type": "execute_result"
    }
   ],
   "source": [
    "img_id_B_features.shape"
   ]
  },
  {
   "cell_type": "code",
   "execution_count": 784,
   "metadata": {},
   "outputs": [],
   "source": [
    "imageIds = humanObsFeatures[['img_id_A', 'img_id_B']].values\n",
    "target = humanObsFeatures[['target']].values"
   ]
  },
  {
   "cell_type": "code",
   "execution_count": 785,
   "metadata": {},
   "outputs": [
    {
     "data": {
      "text/plain": [
       "array([[1, 0, 0, ..., 0, 1, 0],\n",
       "       [1, 0, 0, ..., 0, 1, 0],\n",
       "       [0, 0, 0, ..., 1, 0, 0],\n",
       "       ..., \n",
       "       [1, 0, 0, ..., 0, 0, 0],\n",
       "       [3, 3, 0, ..., 1, 3, 0],\n",
       "       [1, 1, 0, ..., 1, 1, 0]], dtype=int64)"
      ]
     },
     "execution_count": 785,
     "metadata": {},
     "output_type": "execute_result"
    }
   ],
   "source": [
    "subtractedFeatures = np.abs(img_id_A_features.values - img_id_B_features.values)\n",
    "subtractedFeatures"
   ]
  },
  {
   "cell_type": "code",
   "execution_count": 786,
   "metadata": {},
   "outputs": [],
   "source": [
    "subtractedFeatures = np.hstack((imageIds, subtractedFeatures, target)) "
   ]
  },
  {
   "cell_type": "code",
   "execution_count": 787,
   "metadata": {},
   "outputs": [
    {
     "data": {
      "text/plain": [
       "array([['0359a', '0367c', 1, ..., 1, 0, 0],\n",
       "       ['0359a', '1320a', 1, ..., 1, 0, 0],\n",
       "       ['0359a', '0584b', 0, ..., 0, 0, 0],\n",
       "       ..., \n",
       "       ['0359a', '1229b', 1, ..., 0, 0, 0],\n",
       "       ['0507b', '0507c', 3, ..., 3, 0, 1],\n",
       "       ['0359a', '1260c', 1, ..., 1, 0, 0]], dtype=object)"
      ]
     },
     "execution_count": 787,
     "metadata": {},
     "output_type": "execute_result"
    }
   ],
   "source": [
    "subtractedFeatures"
   ]
  },
  {
   "cell_type": "code",
   "execution_count": 788,
   "metadata": {},
   "outputs": [
    {
     "data": {
      "text/plain": [
       "(1582, 12)"
      ]
     },
     "execution_count": 788,
     "metadata": {},
     "output_type": "execute_result"
    }
   ],
   "source": [
    "subtractedFeatures.shape"
   ]
  },
  {
   "cell_type": "code",
   "execution_count": 789,
   "metadata": {},
   "outputs": [],
   "source": [
    "Indexcol = ['img_id_A', 'img_id_B'] + list(img_id_A_features.columns) + ['target']"
   ]
  },
  {
   "cell_type": "code",
   "execution_count": 790,
   "metadata": {},
   "outputs": [
    {
     "data": {
      "text/plain": [
       "['img_id_A',\n",
       " 'img_id_B',\n",
       " 'f1',\n",
       " 'f2',\n",
       " 'f3',\n",
       " 'f4',\n",
       " 'f5',\n",
       " 'f6',\n",
       " 'f7',\n",
       " 'f8',\n",
       " 'f9',\n",
       " 'target']"
      ]
     },
     "execution_count": 790,
     "metadata": {},
     "output_type": "execute_result"
    }
   ],
   "source": [
    "Indexcol"
   ]
  },
  {
   "cell_type": "code",
   "execution_count": 791,
   "metadata": {},
   "outputs": [],
   "source": [
    "subtractedFeatures = pd.DataFrame(subtractedFeatures, columns = Indexcol)"
   ]
  },
  {
   "cell_type": "code",
   "execution_count": 792,
   "metadata": {},
   "outputs": [
    {
     "data": {
      "text/html": [
       "<div>\n",
       "<style scoped>\n",
       "    .dataframe tbody tr th:only-of-type {\n",
       "        vertical-align: middle;\n",
       "    }\n",
       "\n",
       "    .dataframe tbody tr th {\n",
       "        vertical-align: top;\n",
       "    }\n",
       "\n",
       "    .dataframe thead th {\n",
       "        text-align: right;\n",
       "    }\n",
       "</style>\n",
       "<table border=\"1\" class=\"dataframe\">\n",
       "  <thead>\n",
       "    <tr style=\"text-align: right;\">\n",
       "      <th></th>\n",
       "      <th>img_id_A</th>\n",
       "      <th>img_id_B</th>\n",
       "      <th>f1</th>\n",
       "      <th>f2</th>\n",
       "      <th>f3</th>\n",
       "      <th>f4</th>\n",
       "      <th>f5</th>\n",
       "      <th>f6</th>\n",
       "      <th>f7</th>\n",
       "      <th>f8</th>\n",
       "      <th>f9</th>\n",
       "      <th>target</th>\n",
       "    </tr>\n",
       "  </thead>\n",
       "  <tbody>\n",
       "    <tr>\n",
       "      <th>0</th>\n",
       "      <td>0359a</td>\n",
       "      <td>0367c</td>\n",
       "      <td>1</td>\n",
       "      <td>0</td>\n",
       "      <td>0</td>\n",
       "      <td>3</td>\n",
       "      <td>0</td>\n",
       "      <td>0</td>\n",
       "      <td>0</td>\n",
       "      <td>1</td>\n",
       "      <td>0</td>\n",
       "      <td>0</td>\n",
       "    </tr>\n",
       "    <tr>\n",
       "      <th>1</th>\n",
       "      <td>0359a</td>\n",
       "      <td>1320a</td>\n",
       "      <td>1</td>\n",
       "      <td>0</td>\n",
       "      <td>0</td>\n",
       "      <td>3</td>\n",
       "      <td>0</td>\n",
       "      <td>1</td>\n",
       "      <td>0</td>\n",
       "      <td>1</td>\n",
       "      <td>0</td>\n",
       "      <td>0</td>\n",
       "    </tr>\n",
       "    <tr>\n",
       "      <th>2</th>\n",
       "      <td>0359a</td>\n",
       "      <td>0584b</td>\n",
       "      <td>0</td>\n",
       "      <td>0</td>\n",
       "      <td>0</td>\n",
       "      <td>1</td>\n",
       "      <td>0</td>\n",
       "      <td>0</td>\n",
       "      <td>1</td>\n",
       "      <td>0</td>\n",
       "      <td>0</td>\n",
       "      <td>0</td>\n",
       "    </tr>\n",
       "    <tr>\n",
       "      <th>3</th>\n",
       "      <td>0544a</td>\n",
       "      <td>0544c</td>\n",
       "      <td>1</td>\n",
       "      <td>3</td>\n",
       "      <td>0</td>\n",
       "      <td>3</td>\n",
       "      <td>0</td>\n",
       "      <td>0</td>\n",
       "      <td>2</td>\n",
       "      <td>1</td>\n",
       "      <td>0</td>\n",
       "      <td>1</td>\n",
       "    </tr>\n",
       "    <tr>\n",
       "      <th>4</th>\n",
       "      <td>0359a</td>\n",
       "      <td>0335c</td>\n",
       "      <td>1</td>\n",
       "      <td>0</td>\n",
       "      <td>0</td>\n",
       "      <td>0</td>\n",
       "      <td>0</td>\n",
       "      <td>1</td>\n",
       "      <td>1</td>\n",
       "      <td>1</td>\n",
       "      <td>0</td>\n",
       "      <td>0</td>\n",
       "    </tr>\n",
       "  </tbody>\n",
       "</table>\n",
       "</div>"
      ],
      "text/plain": [
       "  img_id_A img_id_B f1 f2 f3 f4 f5 f6 f7 f8 f9 target\n",
       "0    0359a    0367c  1  0  0  3  0  0  0  1  0      0\n",
       "1    0359a    1320a  1  0  0  3  0  1  0  1  0      0\n",
       "2    0359a    0584b  0  0  0  1  0  0  1  0  0      0\n",
       "3    0544a    0544c  1  3  0  3  0  0  2  1  0      1\n",
       "4    0359a    0335c  1  0  0  0  0  1  1  1  0      0"
      ]
     },
     "execution_count": 792,
     "metadata": {},
     "output_type": "execute_result"
    }
   ],
   "source": [
    "subtractedFeatures.head()"
   ]
  },
  {
   "cell_type": "code",
   "execution_count": 793,
   "metadata": {},
   "outputs": [
    {
     "data": {
      "text/plain": [
       "(1582, 12)"
      ]
     },
     "execution_count": 793,
     "metadata": {},
     "output_type": "execute_result"
    }
   ],
   "source": [
    "subtractedFeatures.shape"
   ]
  },
  {
   "cell_type": "code",
   "execution_count": 794,
   "metadata": {},
   "outputs": [
    {
     "data": {
      "text/plain": [
       "'f1 f2 f3 f4 f5 f6 f7 f8 f9 f10 f11 f12 f13 f14 f15 f16 f17 f18 '"
      ]
     },
     "execution_count": 794,
     "metadata": {},
     "output_type": "execute_result"
    }
   ],
   "source": [
    "columnIndex = \"\"\n",
    "\n",
    "for i in range(1,19):\n",
    "    columnIndex = columnIndex + 'f' + str(i) + ' '\n",
    "columnIndex"
   ]
  },
  {
   "cell_type": "code",
   "execution_count": 795,
   "metadata": {},
   "outputs": [
    {
     "data": {
      "text/plain": [
       "array([[2, 1, 1, ..., 0, 2, 2],\n",
       "       [2, 1, 1, ..., 0, 2, 2],\n",
       "       [2, 1, 1, ..., 0, 2, 2],\n",
       "       ..., \n",
       "       [2, 1, 1, ..., 0, 2, 2],\n",
       "       [0, 1, 1, ..., 1, 4, 2],\n",
       "       [2, 1, 1, ..., 0, 2, 2]], dtype=int64)"
      ]
     },
     "execution_count": 795,
     "metadata": {},
     "output_type": "execute_result"
    }
   ],
   "source": [
    "img_id_A_features.values\n"
   ]
  },
  {
   "cell_type": "code",
   "execution_count": 796,
   "metadata": {},
   "outputs": [
    {
     "data": {
      "text/plain": [
       "array([[3, 1, 1, ..., 0, 1, 2],\n",
       "       [1, 1, 1, ..., 0, 3, 2],\n",
       "       [2, 1, 1, ..., 1, 2, 2],\n",
       "       ..., \n",
       "       [1, 1, 1, ..., 0, 2, 2],\n",
       "       [3, 4, 1, ..., 0, 1, 2],\n",
       "       [3, 2, 1, ..., 1, 1, 2]], dtype=int64)"
      ]
     },
     "execution_count": 796,
     "metadata": {},
     "output_type": "execute_result"
    }
   ],
   "source": [
    "img_id_B_features.values"
   ]
  },
  {
   "cell_type": "code",
   "execution_count": null,
   "metadata": {},
   "outputs": [],
   "source": []
  },
  {
   "cell_type": "code",
   "execution_count": 797,
   "metadata": {},
   "outputs": [],
   "source": [
    "ConcatenatedFeatures = np.hstack((imageIds, img_id_A_features.values, img_id_B_features.values, target)) "
   ]
  },
  {
   "cell_type": "code",
   "execution_count": 798,
   "metadata": {
    "scrolled": true
   },
   "outputs": [
    {
     "data": {
      "text/plain": [
       "array([['0359a', '0367c', 2, ..., 1, 2, 0],\n",
       "       ['0359a', '1320a', 2, ..., 3, 2, 0],\n",
       "       ['0359a', '0584b', 2, ..., 2, 2, 0],\n",
       "       ..., \n",
       "       ['0359a', '1229b', 2, ..., 2, 2, 0],\n",
       "       ['0507b', '0507c', 0, ..., 1, 2, 1],\n",
       "       ['0359a', '1260c', 2, ..., 1, 2, 0]], dtype=object)"
      ]
     },
     "execution_count": 798,
     "metadata": {},
     "output_type": "execute_result"
    }
   ],
   "source": [
    "ConcatenatedFeatures"
   ]
  },
  {
   "cell_type": "code",
   "execution_count": 799,
   "metadata": {},
   "outputs": [],
   "source": [
    "col = ['img_id_A', 'img_id_B']+columnIndex.split() + ['target']  # Index of Columns "
   ]
  },
  {
   "cell_type": "code",
   "execution_count": 800,
   "metadata": {},
   "outputs": [
    {
     "data": {
      "text/plain": [
       "['img_id_A',\n",
       " 'img_id_B',\n",
       " 'f1',\n",
       " 'f2',\n",
       " 'f3',\n",
       " 'f4',\n",
       " 'f5',\n",
       " 'f6',\n",
       " 'f7',\n",
       " 'f8',\n",
       " 'f9',\n",
       " 'f10',\n",
       " 'f11',\n",
       " 'f12',\n",
       " 'f13',\n",
       " 'f14',\n",
       " 'f15',\n",
       " 'f16',\n",
       " 'f17',\n",
       " 'f18',\n",
       " 'target']"
      ]
     },
     "execution_count": 800,
     "metadata": {},
     "output_type": "execute_result"
    }
   ],
   "source": [
    "col"
   ]
  },
  {
   "cell_type": "code",
   "execution_count": 801,
   "metadata": {},
   "outputs": [],
   "source": [
    "ConcatenatedFeatures = pd.DataFrame(ConcatenatedFeatures, columns = col)"
   ]
  },
  {
   "cell_type": "code",
   "execution_count": 802,
   "metadata": {},
   "outputs": [
    {
     "data": {
      "text/html": [
       "<div>\n",
       "<style scoped>\n",
       "    .dataframe tbody tr th:only-of-type {\n",
       "        vertical-align: middle;\n",
       "    }\n",
       "\n",
       "    .dataframe tbody tr th {\n",
       "        vertical-align: top;\n",
       "    }\n",
       "\n",
       "    .dataframe thead th {\n",
       "        text-align: right;\n",
       "    }\n",
       "</style>\n",
       "<table border=\"1\" class=\"dataframe\">\n",
       "  <thead>\n",
       "    <tr style=\"text-align: right;\">\n",
       "      <th></th>\n",
       "      <th>img_id_A</th>\n",
       "      <th>img_id_B</th>\n",
       "      <th>f1</th>\n",
       "      <th>f2</th>\n",
       "      <th>f3</th>\n",
       "      <th>f4</th>\n",
       "      <th>f5</th>\n",
       "      <th>f6</th>\n",
       "      <th>f7</th>\n",
       "      <th>f8</th>\n",
       "      <th>...</th>\n",
       "      <th>f10</th>\n",
       "      <th>f11</th>\n",
       "      <th>f12</th>\n",
       "      <th>f13</th>\n",
       "      <th>f14</th>\n",
       "      <th>f15</th>\n",
       "      <th>f16</th>\n",
       "      <th>f17</th>\n",
       "      <th>f18</th>\n",
       "      <th>target</th>\n",
       "    </tr>\n",
       "  </thead>\n",
       "  <tbody>\n",
       "    <tr>\n",
       "      <th>0</th>\n",
       "      <td>0359a</td>\n",
       "      <td>0367c</td>\n",
       "      <td>2</td>\n",
       "      <td>1</td>\n",
       "      <td>1</td>\n",
       "      <td>0</td>\n",
       "      <td>2</td>\n",
       "      <td>2</td>\n",
       "      <td>0</td>\n",
       "      <td>2</td>\n",
       "      <td>...</td>\n",
       "      <td>3</td>\n",
       "      <td>1</td>\n",
       "      <td>1</td>\n",
       "      <td>3</td>\n",
       "      <td>2</td>\n",
       "      <td>2</td>\n",
       "      <td>0</td>\n",
       "      <td>1</td>\n",
       "      <td>2</td>\n",
       "      <td>0</td>\n",
       "    </tr>\n",
       "    <tr>\n",
       "      <th>1</th>\n",
       "      <td>0359a</td>\n",
       "      <td>1320a</td>\n",
       "      <td>2</td>\n",
       "      <td>1</td>\n",
       "      <td>1</td>\n",
       "      <td>0</td>\n",
       "      <td>2</td>\n",
       "      <td>2</td>\n",
       "      <td>0</td>\n",
       "      <td>2</td>\n",
       "      <td>...</td>\n",
       "      <td>1</td>\n",
       "      <td>1</td>\n",
       "      <td>1</td>\n",
       "      <td>3</td>\n",
       "      <td>2</td>\n",
       "      <td>1</td>\n",
       "      <td>0</td>\n",
       "      <td>3</td>\n",
       "      <td>2</td>\n",
       "      <td>0</td>\n",
       "    </tr>\n",
       "    <tr>\n",
       "      <th>2</th>\n",
       "      <td>0359a</td>\n",
       "      <td>0584b</td>\n",
       "      <td>2</td>\n",
       "      <td>1</td>\n",
       "      <td>1</td>\n",
       "      <td>0</td>\n",
       "      <td>2</td>\n",
       "      <td>2</td>\n",
       "      <td>0</td>\n",
       "      <td>2</td>\n",
       "      <td>...</td>\n",
       "      <td>2</td>\n",
       "      <td>1</td>\n",
       "      <td>1</td>\n",
       "      <td>1</td>\n",
       "      <td>2</td>\n",
       "      <td>2</td>\n",
       "      <td>1</td>\n",
       "      <td>2</td>\n",
       "      <td>2</td>\n",
       "      <td>0</td>\n",
       "    </tr>\n",
       "    <tr>\n",
       "      <th>3</th>\n",
       "      <td>0544a</td>\n",
       "      <td>0544c</td>\n",
       "      <td>0</td>\n",
       "      <td>1</td>\n",
       "      <td>1</td>\n",
       "      <td>0</td>\n",
       "      <td>2</td>\n",
       "      <td>2</td>\n",
       "      <td>0</td>\n",
       "      <td>1</td>\n",
       "      <td>...</td>\n",
       "      <td>1</td>\n",
       "      <td>4</td>\n",
       "      <td>1</td>\n",
       "      <td>3</td>\n",
       "      <td>2</td>\n",
       "      <td>2</td>\n",
       "      <td>2</td>\n",
       "      <td>0</td>\n",
       "      <td>1</td>\n",
       "      <td>1</td>\n",
       "    </tr>\n",
       "    <tr>\n",
       "      <th>4</th>\n",
       "      <td>0359a</td>\n",
       "      <td>0335c</td>\n",
       "      <td>2</td>\n",
       "      <td>1</td>\n",
       "      <td>1</td>\n",
       "      <td>0</td>\n",
       "      <td>2</td>\n",
       "      <td>2</td>\n",
       "      <td>0</td>\n",
       "      <td>2</td>\n",
       "      <td>...</td>\n",
       "      <td>3</td>\n",
       "      <td>1</td>\n",
       "      <td>1</td>\n",
       "      <td>0</td>\n",
       "      <td>2</td>\n",
       "      <td>1</td>\n",
       "      <td>1</td>\n",
       "      <td>3</td>\n",
       "      <td>2</td>\n",
       "      <td>0</td>\n",
       "    </tr>\n",
       "  </tbody>\n",
       "</table>\n",
       "<p>5 rows × 21 columns</p>\n",
       "</div>"
      ],
      "text/plain": [
       "  img_id_A img_id_B f1 f2 f3 f4 f5 f6 f7 f8  ...   f10 f11 f12 f13 f14 f15  \\\n",
       "0    0359a    0367c  2  1  1  0  2  2  0  2  ...     3   1   1   3   2   2   \n",
       "1    0359a    1320a  2  1  1  0  2  2  0  2  ...     1   1   1   3   2   1   \n",
       "2    0359a    0584b  2  1  1  0  2  2  0  2  ...     2   1   1   1   2   2   \n",
       "3    0544a    0544c  0  1  1  0  2  2  0  1  ...     1   4   1   3   2   2   \n",
       "4    0359a    0335c  2  1  1  0  2  2  0  2  ...     3   1   1   0   2   1   \n",
       "\n",
       "  f16 f17 f18 target  \n",
       "0   0   1   2      0  \n",
       "1   0   3   2      0  \n",
       "2   1   2   2      0  \n",
       "3   2   0   1      1  \n",
       "4   1   3   2      0  \n",
       "\n",
       "[5 rows x 21 columns]"
      ]
     },
     "execution_count": 802,
     "metadata": {},
     "output_type": "execute_result"
    }
   ],
   "source": [
    "ConcatenatedFeatures.head()"
   ]
  },
  {
   "cell_type": "code",
   "execution_count": 645,
   "metadata": {},
   "outputs": [
    {
     "data": {
      "text/plain": [
       "(1582, 21)"
      ]
     },
     "execution_count": 645,
     "metadata": {},
     "output_type": "execute_result"
    }
   ],
   "source": [
    "ConcatenatedFeatures.shape"
   ]
  },
  {
   "cell_type": "code",
   "execution_count": 646,
   "metadata": {},
   "outputs": [
    {
     "data": {
      "text/plain": [
       "(1582, 12)"
      ]
     },
     "execution_count": 646,
     "metadata": {},
     "output_type": "execute_result"
    }
   ],
   "source": [
    "# Now we have both datasets ConcatenatedFeatures and subtractedFeatures\n",
    "subtractedFeatures.shape"
   ]
  },
  {
   "cell_type": "code",
   "execution_count": 647,
   "metadata": {},
   "outputs": [],
   "source": [
    "# Generation of target vector from ConcatenatedFeatures and subtractedFeatures for human observed data and GSC\n",
    "\n",
    "def getTargetVector(file):\n",
    "    targetVec = file['target'].values\n",
    "    return targetVec\n",
    "\n",
    "\n",
    "# Generation of raw data matrix from ConcatenatedFeatures and subtractedFeatures for human observed data and GSC\n",
    "\n",
    "def rawDataMatrix(file):\n",
    "    rawData = file[file.columns].values\n",
    "    return rawData[:,2:len(rawData[0])-1].T"
   ]
  },
  {
   "cell_type": "code",
   "execution_count": 648,
   "metadata": {},
   "outputs": [],
   "source": [
    "# Creating the training target variable(70% of target variable)\n",
    "\n",
    "def getTrainingTarget(rawTraining,TrainingPercent = 70): \n",
    "    TrainingLen = math.ceil(len(rawTraining)*(TrainingPercent*0.01))\n",
    "    t = rawTraining[:TrainingLen]\n",
    "    return t \n",
    "\n",
    "\n",
    "# Making the Training dataMatrix which is 70% of input dataset\n",
    "\n",
    "def TrainingDataMatrix(rawData, TrainingPercent = 70): \n",
    "    T_len = math.ceil(len(rawData[0])*0.01*TrainingPercent)\n",
    "    d2 = rawData[:,0:T_len]\n",
    "    return d2 \n",
    "\n",
    "\n",
    "# Making the Validation target(15% of input dataset)\n",
    "\n",
    "def getValTargetVector(rawData, ValPercent, TrainingCount): \n",
    "    valSize = math.ceil(len(rawData)*ValPercent*0.01)\n",
    "    V_End = TrainingCount + valSize\n",
    "    t =rawData[TrainingCount+1:V_End]\n",
    "    return t\n",
    "\n",
    "\n",
    "# Creating Validation dataMatrix(15% of input dataset)\n",
    "\n",
    "def ValDataMatrix(rawData, ValPercent, TrainingCount): \n",
    "    valSize = math.ceil(len(rawData[0])*ValPercent*0.01)\n",
    "    V_End = TrainingCount + valSize\n",
    "    dataMatrix = rawData[:,TrainingCount+1:V_End]  \n",
    "    return dataMatrix "
   ]
  },
  {
   "cell_type": "code",
   "execution_count": 649,
   "metadata": {},
   "outputs": [],
   "source": [
    "def getBigSigma(Data,TrainingPercent):\n",
    "    BigSigma    = np.zeros((len(Data),len(Data)))\n",
    "    DataT       = np.transpose(Data)\n",
    "    TrainingLen = math.ceil(len(DataT)*(TrainingPercent*0.01))        \n",
    "    varVect     = []\n",
    "    for i in range(0,len(DataT[0])):\n",
    "        vct = []\n",
    "        for j in range(0,TrainingLen):\n",
    "            vct.append(Data[i][j])    \n",
    "        varVect.append(np.var(vct))\n",
    "    \n",
    "    for j in range(len(Data)):\n",
    "        BigSigma[j][j] = varVect[j]  # BigSigma is getting assigned diagonally by all values of varVect\n",
    "        \n",
    "    \n",
    "    return BigSigma"
   ]
  },
  {
   "cell_type": "code",
   "execution_count": 650,
   "metadata": {},
   "outputs": [],
   "source": [
    "def getScalar(DataRow,Mu, BigSigInv):  \n",
    "    R = np.subtract(DataRow,Mu)\n",
    "    T = np.dot(BigSigInv,np.transpose(R))  \n",
    "    L = np.dot(R,T)\n",
    "    return L\n",
    "\n",
    "def getRadialBasisOut(DataRow,Mu, BigSigInv):    \n",
    "    phi_x = math.exp(-0.5*getScalar(DataRow,Mu,BigSigInv))\n",
    "    return phi_x\n",
    "\n",
    "def getPhiMatrix(Data, Mu, BigSigma, TrainingPercent = 70):\n",
    "    DataT = np.transpose(Data) \n",
    "    TrainingLen = math.ceil(len(DataT)*(TrainingPercent*0.01))        \n",
    "    PHI = np.zeros((TrainingLen,len(Mu))) \n",
    "    BigSigInv = np.linalg.inv(BigSigma) \n",
    "    for  C in range(len(Mu)):\n",
    "        for R in range(TrainingLen):\n",
    "            PHI[R][C] = getRadialBasisOut(DataT[R], Mu[C], BigSigInv)\n",
    "    \n",
    "    return PHI"
   ]
  },
  {
   "cell_type": "code",
   "execution_count": 651,
   "metadata": {},
   "outputs": [],
   "source": [
    "def getWeightsClosedForm(PHI, T, Lambda):\n",
    "    Lambda_I = np.identity(len(PHI[0]))\n",
    "    for i in range(0,len(PHI[0])):\n",
    "        Lambda_I[i][i] = Lambda\n",
    "    PHI_T       = np.transpose(PHI)\n",
    "    PHI_SQR     = np.dot(PHI_T,PHI)\n",
    "    PHI_SQR_LI  = np.add(Lambda_I,PHI_SQR)\n",
    "    PHI_SQR_INV = np.linalg.inv(PHI_SQR_LI)\n",
    "    INTER       = np.dot(PHI_SQR_INV, PHI_T)\n",
    "    W           = np.dot(INTER, T)\n",
    "    return W "
   ]
  },
  {
   "cell_type": "code",
   "execution_count": 652,
   "metadata": {},
   "outputs": [],
   "source": [
    "def getValTest(VAL_PHI,W):\n",
    "    Y = np.dot(W,np.transpose(VAL_PHI))\n",
    "    return Y\n",
    "\n",
    "\n",
    "# rms = root mean square\n",
    "\n",
    "def getErms(VAL_TEST_OUT,ValDataAct): \n",
    "    sum = 0.0\n",
    "    accuracy = 0.0\n",
    "    counter = 0\n",
    "    for i in range (0,len(VAL_TEST_OUT)):\n",
    "        sum = sum + math.pow((ValDataAct[i] - VAL_TEST_OUT[i]),2)\n",
    "        if(int(np.around(VAL_TEST_OUT[i], 0)) == ValDataAct[i]):\n",
    "            counter+=1\n",
    "    accuracy = (float((counter*100))/float(len(VAL_TEST_OUT)))\n",
    "    return (str(accuracy) + ',' +  str(math.sqrt(sum/len(VAL_TEST_OUT))))"
   ]
  },
  {
   "cell_type": "markdown",
   "metadata": {},
   "source": [
    "# Preparing Dataset"
   ]
  },
  {
   "cell_type": "code",
   "execution_count": 653,
   "metadata": {},
   "outputs": [],
   "source": [
    "# For concatenatedFeatures Dataset\n",
    "\n",
    "RawTargetConcat = getTargetVector(ConcatenatedFeatures)\n",
    "RawDataConcat   = rawDataMatrix(ConcatenatedFeatures)\n",
    "\n",
    "\n",
    "# For subtractedFeatures Dataset \n",
    "\n",
    "RawTargetSubtract = getTargetVector(subtractedFeatures)\n",
    "RawDataSubtract   = rawDataMatrix(subtractedFeatures)"
   ]
  },
  {
   "cell_type": "markdown",
   "metadata": {},
   "source": [
    "# Preparing Training Data"
   ]
  },
  {
   "cell_type": "code",
   "execution_count": 654,
   "metadata": {},
   "outputs": [
    {
     "name": "stdout",
     "output_type": "stream",
     "text": [
      "(1108,)\n",
      "(18, 1108)\n",
      "\n",
      "(1108,)\n",
      "(9, 1108)\n"
     ]
    }
   ],
   "source": [
    "# For concatenatedFeatures Dataset\n",
    "\n",
    "TrainingPercent=70\n",
    "TrainingTargetConcat = getTrainingTarget(RawTargetConcat,TrainingPercent)\n",
    "TrainingDataConcat   = TrainingDataMatrix(RawDataConcat,TrainingPercent)\n",
    "print(TrainingTargetConcat.shape)\n",
    "print(TrainingDataConcat.shape)\n",
    "\n",
    "print()\n",
    "# For subtractedFeatures Dataset \n",
    "\n",
    "TrainingTargetSubtract = getTrainingTarget(RawTargetSubtract,TrainingPercent)\n",
    "TrainingDataSubtract   = TrainingDataMatrix(RawDataSubtract,TrainingPercent)\n",
    "print(TrainingTargetSubtract.shape)\n",
    "print(TrainingDataSubtract.shape)"
   ]
  },
  {
   "cell_type": "markdown",
   "metadata": {},
   "source": [
    "# Preparing Validation Data"
   ]
  },
  {
   "cell_type": "code",
   "execution_count": 655,
   "metadata": {},
   "outputs": [
    {
     "name": "stdout",
     "output_type": "stream",
     "text": [
      "(237,)\n",
      "(18, 237)\n",
      "\n",
      "(237,)\n",
      "(9, 237)\n"
     ]
    }
   ],
   "source": [
    "# For concatenatedFeatures Dataset\n",
    "\n",
    "ValidationPercent= 15\n",
    "ValDataActConcat = getValTargetVector(RawTargetConcat,ValidationPercent, (len(TrainingTargetConcat)))\n",
    "ValDataConcat    = ValDataMatrix(RawDataConcat,ValidationPercent, (len(TrainingTargetConcat)))\n",
    "print(ValDataActConcat.shape)\n",
    "print(ValDataConcat.shape)\n",
    "\n",
    "print()\n",
    "# For subtractedFeatures Dataset \n",
    "\n",
    "ValDataActSubtract = getValTargetVector(RawTargetSubtract,ValidationPercent, (len(TrainingTargetSubtract)))\n",
    "ValDataSubtract   = ValDataMatrix(RawDataSubtract,ValidationPercent, (len(TrainingTargetSubtract)))\n",
    "print(ValDataActSubtract.shape)\n",
    "print(ValDataSubtract.shape)"
   ]
  },
  {
   "cell_type": "markdown",
   "metadata": {},
   "source": [
    "# Preparing Test Data"
   ]
  },
  {
   "cell_type": "code",
   "execution_count": 656,
   "metadata": {},
   "outputs": [
    {
     "name": "stdout",
     "output_type": "stream",
     "text": [
      "(236,)\n",
      "(18, 236)\n",
      "\n",
      "(236,)\n",
      "(9, 236)\n"
     ]
    }
   ],
   "source": [
    "# For concatenatedFeatures Dataset\n",
    "\n",
    "TestPercent = 15\n",
    "TestDataActConcat = getValTargetVector(RawTargetConcat,TestPercent, (len(TrainingTargetConcat)+len(ValDataActConcat)))\n",
    "TestDataConcat = ValDataMatrix(RawDataConcat,TestPercent, (len(TrainingTargetConcat)+len(ValDataActConcat)))\n",
    "print(TestDataActConcat.shape)\n",
    "print(TestDataConcat.shape)\n",
    "\n",
    "print()\n",
    "# For subtractedFeatures Dataset \n",
    "\n",
    "TestDataActSubtract = getValTargetVector(RawTargetSubtract,TestPercent, (len(TrainingTargetSubtract)+len(ValDataActSubtract)))\n",
    "TestDataSubtract = ValDataMatrix(RawDataSubtract,TestPercent, (len(TrainingTargetSubtract)+len(ValDataActSubtract)))\n",
    "print(TestDataActSubtract.shape)\n",
    "print(TestDataSubtract.shape)"
   ]
  },
  {
   "cell_type": "code",
   "execution_count": 657,
   "metadata": {},
   "outputs": [
    {
     "data": {
      "text/plain": [
       "Text(0.5,1,'WCSS Vs. Number of clusters M')"
      ]
     },
     "execution_count": 657,
     "metadata": {},
     "output_type": "execute_result"
    },
    {
     "data": {
      "image/png": "[encoded data removed]",
      "text/plain": [
       "<matplotlib.figure.Figure at 0x9c0865e320>"
      ]
     },
     "metadata": {
      "needs_background": "light"
     },
     "output_type": "display_data"
    }
   ],
   "source": [
    "# For concatenatedFeatures Dataset\n",
    "\n",
    "k_list = [2*M for M in range(1,23)]\n",
    "WCSS = [] # Within cluster sum of square\n",
    "for M in k_list:\n",
    "    kmeans = KMeans(n_clusters=M, random_state=0).fit(np.transpose(TrainingDataConcat))\n",
    "    WCSS.append(kmeans.inertia_)\n",
    "\n",
    "# Elbow Method\n",
    "plt.plot(k_list,WCSS,'o-')\n",
    "plt.xlabel(\"Number of clusters M----->\")\n",
    "plt.ylabel(\"Within cluster sum of square----->\")\n",
    "plt.title(\"WCSS Vs. Number of clusters M\")"
   ]
  },
  {
   "cell_type": "code",
   "execution_count": 658,
   "metadata": {},
   "outputs": [
    {
     "data": {
      "text/plain": [
       "Text(0.5,1,'WCSS Vs. Number of clusters M')"
      ]
     },
     "execution_count": 658,
     "metadata": {},
     "output_type": "execute_result"
    },
    {
     "data": {
      "image/png": "[encoded data removed]",
      "text/plain": [
       "<matplotlib.figure.Figure at 0x9c0865e400>"
      ]
     },
     "metadata": {
      "needs_background": "light"
     },
     "output_type": "display_data"
    }
   ],
   "source": [
    "# For subtractedFeatures Dataset\n",
    "\n",
    "k_list = [2*M for M in range(1,23)]\n",
    "WCSS = [] # Within cluster sum of square\n",
    "for M in k_list:\n",
    "    kmeans = KMeans(n_clusters=M, random_state=0).fit(np.transpose(TrainingDataSubtract))\n",
    "    WCSS.append(kmeans.inertia_)\n",
    "\n",
    "# Elbow Method\n",
    "plt.plot(k_list,WCSS,'o-')\n",
    "plt.xlabel(\"Number of clusters M----->\")\n",
    "plt.ylabel(\"Within cluster sum of square----->\")\n",
    "plt.title(\"WCSS Vs. Number of clusters M\")"
   ]
  },
  {
   "cell_type": "markdown",
   "metadata": {},
   "source": [
    "# Closed form Solution"
   ]
  },
  {
   "cell_type": "code",
   "execution_count": 659,
   "metadata": {},
   "outputs": [],
   "source": [
    "C_Lambda = 0.3\n",
    "TrainingPercent = 70\n",
    "ValidationPercent = 15\n",
    "TestPercent = 15\n",
    "\n",
    "\n",
    "# For concatenatedFeatures Dataset\n",
    "\n",
    "kmeans = KMeans(n_clusters=9, random_state=0).fit(np.transpose(TrainingDataConcat))\n",
    "\n",
    "Mu_c = kmeans.cluster_centers_\n",
    "BigSigmaConcat      = getBigSigma(RawDataConcat, TrainingPercent)\n",
    "TRAINING_PHI_Concat = getPhiMatrix(RawDataConcat, Mu_c, BigSigmaConcat, TrainingPercent)\n",
    "W_Concat            = getWeightsClosedForm(TRAINING_PHI_Concat,TrainingTargetConcat,(C_Lambda)) \n",
    "TEST_PHI_Concat     = getPhiMatrix(TestDataConcat, Mu_c, BigSigmaConcat,100) \n",
    "VAL_PHI_Concat      = getPhiMatrix(ValDataConcat, Mu_c, BigSigmaConcat,100)\n",
    "\n",
    "\n",
    "# For subtractedFeatures Dataset \n",
    "C_Lambda_ = 2.5\n",
    "kmeans_ = KMeans(n_clusters=7, random_state=0).fit(np.transpose(TrainingDataSubtract))\n",
    "\n",
    "Mu = kmeans_.cluster_centers_\n",
    "BigSigmaSubtract      = getBigSigma(RawDataSubtract, TrainingPercent)\n",
    "TRAINING_PHI_Subtract = getPhiMatrix(RawDataSubtract, Mu, BigSigmaSubtract, TrainingPercent)\n",
    "W_Subtract            = getWeightsClosedForm(TRAINING_PHI_Subtract,TrainingTargetSubtract,(C_Lambda_)) \n",
    "TEST_PHI_Subtract     = getPhiMatrix(TestDataSubtract, Mu, BigSigmaSubtract,100) \n",
    "VAL_PHI_Subtract      = getPhiMatrix(ValDataSubtract, Mu, BigSigmaSubtract,100)"
   ]
  },
  {
   "cell_type": "code",
   "execution_count": 660,
   "metadata": {},
   "outputs": [
    {
     "name": "stdout",
     "output_type": "stream",
     "text": [
      "(9, 18)\n",
      "(18, 18)\n",
      "(1108, 9)\n",
      "(9,)\n",
      "(237, 9)\n",
      "(236, 9)\n",
      "\n",
      "(7, 9)\n",
      "(9, 9)\n",
      "(1108, 7)\n",
      "(7,)\n",
      "(237, 7)\n",
      "(236, 7)\n"
     ]
    }
   ],
   "source": [
    "# For concatenatedFeatures Dataset\n",
    "\n",
    "print(Mu_c.shape)\n",
    "print(BigSigmaConcat.shape)\n",
    "print(TRAINING_PHI_Concat.shape)\n",
    "print(W_Concat.shape)\n",
    "print(VAL_PHI_Concat.shape)\n",
    "print(TEST_PHI_Concat.shape)\n",
    "print()\n",
    "\n",
    "# For subtractedFeatures Dataset \n",
    "\n",
    "print(Mu.shape)\n",
    "print(BigSigmaSubtract.shape)\n",
    "print(TRAINING_PHI_Subtract.shape)\n",
    "print(W_Subtract.shape)\n",
    "print(VAL_PHI_Subtract.shape)\n",
    "print(TEST_PHI_Subtract.shape)"
   ]
  },
  {
   "cell_type": "code",
   "execution_count": 661,
   "metadata": {},
   "outputs": [
    {
     "data": {
      "text/plain": [
       "Text(0.5,1,'Training Accuracy Vs. Lamda')"
      ]
     },
     "execution_count": 661,
     "metadata": {},
     "output_type": "execute_result"
    },
    {
     "data": {
      "image/png": "[encoded data removed]",
      "text/plain": [
       "<matplotlib.figure.Figure at 0x9c05e07390>"
      ]
     },
     "metadata": {
      "needs_background": "light"
     },
     "output_type": "display_data"
    }
   ],
   "source": [
    "# To choose a value of regularization parameter(Lamda) with COncatenated training set\n",
    "\n",
    "Lamda=[lamda*0.42 for lamda in range(1,21)]\n",
    "Training_Accuracy = []\n",
    "for lamda in Lamda:\n",
    "  Weight = getWeightsClosedForm(TRAINING_PHI_Concat,TrainingTargetConcat,lamda) \n",
    "  TR_TEST_OUT  = getValTest(TRAINING_PHI_Concat,Weight)\n",
    "  TrainingAcc= str(getErms(TR_TEST_OUT,TrainingTargetConcat))\n",
    "  Training_Accuracy.append(float(TrainingAcc.split(',')[0]))\n",
    "plt.plot(Lamda,Training_Accuracy,'ro-')\n",
    "plt.ylabel(\"Training_Accuracy\")\n",
    "plt.xlabel(\"Lamda\")\n",
    "plt.title(\"Training Accuracy Vs. Lamda\")"
   ]
  },
  {
   "cell_type": "code",
   "execution_count": 662,
   "metadata": {},
   "outputs": [
    {
     "data": {
      "text/plain": [
       "Text(0.5,1,'Training Accuracy Vs. Lamda')"
      ]
     },
     "execution_count": 662,
     "metadata": {},
     "output_type": "execute_result"
    },
    {
     "data": {
      "image/png": "[encoded data removed]",
      "text/plain": [
       "<matplotlib.figure.Figure at 0x9c05791438>"
      ]
     },
     "metadata": {
      "needs_background": "light"
     },
     "output_type": "display_data"
    }
   ],
   "source": [
    "# To choose a value of regularization parameter(Lamda) with Subtracted training set\n",
    "\n",
    "Lamda=[lamda*0.35 for lamda in range(1,21)]\n",
    "Training_Accuracy = []\n",
    "for lamda in Lamda:\n",
    "  Weight = getWeightsClosedForm(TRAINING_PHI_Subtract,TrainingTargetSubtract,lamda) \n",
    "  TR_TEST_OUT  = getValTest(TRAINING_PHI_Subtract,Weight)\n",
    "  TrainingAcc= str(getErms(TR_TEST_OUT,TrainingTargetSubtract))\n",
    "  Training_Accuracy.append(float(TrainingAcc.split(',')[0]))\n",
    "plt.plot(Lamda,Training_Accuracy,'ro-')\n",
    "plt.ylabel(\"Training_Accuracy\")\n",
    "plt.xlabel(\"Lamda\")\n",
    "plt.title(\"Training Accuracy Vs. Lamda\")"
   ]
  },
  {
   "cell_type": "markdown",
   "metadata": {},
   "source": [
    "# Finding Erms on training, validation and test set"
   ]
  },
  {
   "cell_type": "code",
   "execution_count": 665,
   "metadata": {},
   "outputs": [],
   "source": [
    "# For concatenatedFeatures Dataset\n",
    "\n",
    "TR_TEST_OUT_Concat  = getValTest(TRAINING_PHI_Concat,W_Concat)\n",
    "VAL_TEST_OUT_Concat = getValTest(VAL_PHI_Concat,W_Concat)\n",
    "TEST_OUT_Concat     = getValTest(TEST_PHI_Concat,W_Concat)\n",
    "\n",
    "TrainingAccuracy_Concat   = str(getErms(TR_TEST_OUT_Concat,TrainingTargetConcat))\n",
    "ValidationAccuracy_Concat = str(getErms(VAL_TEST_OUT_Concat,ValDataActConcat))\n",
    "TestAccuracy_Concat       = str(getErms(TEST_OUT_Concat,TestDataActConcat))\n",
    "\n",
    "# For subtractedFeatures Dataset \n",
    "\n",
    "TR_TEST_OUT_Subtract  = getValTest(TRAINING_PHI_Subtract,W_Subtract)\n",
    "VAL_TEST_OUT_Subtract = getValTest(VAL_PHI_Subtract,W_Subtract)\n",
    "TEST_OUT_Subtract     = getValTest(TEST_PHI_Subtract,W_Subtract)\n",
    "\n",
    "TrainingAccuracy_Subtract   = str(getErms(TR_TEST_OUT_Subtract,TrainingTargetSubtract))\n",
    "ValidationAccuracy_Subtract = str(getErms(VAL_TEST_OUT_Subtract,ValDataActSubtract))\n",
    "TestAccuracy_Subtract      = str(getErms(TEST_OUT_Subtract,TestDataActSubtract))"
   ]
  },
  {
   "cell_type": "code",
   "execution_count": 666,
   "metadata": {},
   "outputs": [
    {
     "name": "stdout",
     "output_type": "stream",
     "text": [
      "# Accuracy of concatenatedFeatures Dataset\n",
      "\n",
      "Training accuracy   = 49.63898916967509\n",
      "Validation accuracy = 51.89873417721519\n",
      "Test accuracy       = 49.57627118644068\n",
      "\n",
      "E_rms Training   = 0.7075236628056162\n",
      "E_rms Validation = 0.6925909289892813\n",
      "E_rms Testing    = 0.7083605821521434\n",
      "\n",
      "\n",
      "\n",
      "# Accuracy of subtractedFeatures Dataset\n",
      "\n",
      "Training accuracy   = 49.72924187725632\n",
      "Validation accuracy = 51.89873417721519\n",
      "Test accuracy       = 49.57627118644068\n",
      "\n",
      "E_rms Training   = 0.6745852488570461\n",
      "E_rms Validation = 0.6604702515472782\n",
      "E_rms Testing    = 0.6710279093477182\n"
     ]
    }
   ],
   "source": [
    "# For concatenatedFeatures Dataset\n",
    "\n",
    "print(\"# Accuracy of concatenatedFeatures Dataset\\n\")\n",
    "\n",
    "print(\"Training accuracy   = \" + TrainingAccuracy_Concat.split(',')[0])\n",
    "print(\"Validation accuracy = \" +  ValidationAccuracy_Concat.split(',')[0])\n",
    "print(\"Test accuracy       = \" +  TestAccuracy_Concat.split(',')[0]+\"\\n\")\n",
    "\n",
    "print (\"E_rms Training   = \" + str(float(TrainingAccuracy_Concat.split(',')[1])))\n",
    "print (\"E_rms Validation = \" + str(float(ValidationAccuracy_Concat.split(',')[1])))\n",
    "print (\"E_rms Testing    = \" + str(float(TestAccuracy_Concat.split(',')[1]))+\"\\n\\n\\n\")\n",
    "\n",
    "\n",
    "# For subtractedFeatures Dataset \n",
    "\n",
    "print(\"# Accuracy of subtractedFeatures Dataset\\n\")\n",
    "\n",
    "print(\"Training accuracy   = \" + TrainingAccuracy_Subtract.split(',')[0])\n",
    "print(\"Validation accuracy = \" +  ValidationAccuracy_Subtract.split(',')[0])\n",
    "print(\"Test accuracy       = \" +  TestAccuracy_Subtract.split(',')[0]+\"\\n\")\n",
    "\n",
    "print (\"E_rms Training   = \" + str(float(TrainingAccuracy_Subtract.split(',')[1])))\n",
    "print (\"E_rms Validation = \" + str(float(ValidationAccuracy_Subtract.split(',')[1])))\n",
    "print (\"E_rms Testing    = \" + str(float(TestAccuracy_Subtract.split(',')[1])))"
   ]
  },
  {
   "cell_type": "markdown",
   "metadata": {},
   "source": [
    "# Gradient Descent Solution"
   ]
  },
  {
   "cell_type": "code",
   "execution_count": 667,
   "metadata": {},
   "outputs": [],
   "source": [
    "# For Concatenated features dataset\n",
    "\n",
    "W_Now        = np.dot(220, W_Concat) # It intializes with random value\n",
    "La           = 2 # Lamda\n",
    "learningRate = 0.125\n",
    "L_Erms_Val   = []\n",
    "L_Erms_TR    = []\n",
    "L_Erms_Test  = []\n",
    "W_Mat        = []\n",
    "\n",
    "for i in range(0,400):\n",
    "    \n",
    "    #print ('---------Iteration: ' + str(i) + '--------------')\n",
    "    Delta_E_D     = -np.dot((TrainingTargetConcat[i] - np.dot(np.transpose(W_Now),TRAINING_PHI_Concat[i])),TRAINING_PHI_Concat[i])\n",
    "    La_Delta_E_W  = np.dot(La,W_Now)\n",
    "    Delta_E       = np.add(Delta_E_D,La_Delta_E_W)    \n",
    "    Delta_W       = -np.dot(learningRate,Delta_E)\n",
    "    W_T_Next      = W_Now + Delta_W\n",
    "    W_Now         = W_T_Next\n",
    "    \n",
    "    #-----------------TrainingData Accuracy---------------------#\n",
    "    TR_TEST_OUT   = getValTest(TRAINING_PHI_Concat,W_T_Next) \n",
    "    Erms_TR       = getErms(TR_TEST_OUT,TrainingTargetConcat)\n",
    "    L_Erms_TR.append(float(Erms_TR.split(',')[1]))\n",
    "    \n",
    "    #-----------------ValidationData Accuracy---------------------#\n",
    "    VAL_TEST_OUT  = getValTest(VAL_PHI_Concat,W_T_Next) \n",
    "    Erms_Val      = getErms(VAL_TEST_OUT,ValDataActConcat)\n",
    "    L_Erms_Val.append(float(Erms_Val.split(',')[1]))\n",
    "    \n",
    "    #-----------------TestingData Accuracy---------------------#\n",
    "    TEST_OUT      = getValTest(TEST_PHI_Concat,W_T_Next) \n",
    "    Erms_Test = getErms(TEST_OUT,TestDataActConcat)\n",
    "    L_Erms_Test.append(float(Erms_Test.split(',')[1]))"
   ]
  },
  {
   "cell_type": "code",
   "execution_count": 668,
   "metadata": {},
   "outputs": [
    {
     "data": {
      "text/plain": [
       "Text(0.5,1,'Training_Erms Vs. Learningrate')"
      ]
     },
     "execution_count": 668,
     "metadata": {},
     "output_type": "execute_result"
    },
    {
     "data": {
      "image/png": "[encoded data removed]",
      "text/plain": [
       "<matplotlib.figure.Figure at 0x9c0876cda0>"
      ]
     },
     "metadata": {
      "needs_background": "light"
     },
     "output_type": "display_data"
    }
   ],
   "source": [
    "# To find the learning rate for Concatenated features\n",
    "\n",
    "Learningrate = [0.009*i for i in range(1,21)]\n",
    "Training_Erms=[]\n",
    "for l in Learningrate:\n",
    "    \n",
    "    La_Delta_E_W  = np.dot(La,W_Now)\n",
    "    Delta_E       = np.add(Delta_E_D,La_Delta_E_W)    \n",
    "    Delta_W       = -np.dot(l,Delta_E)\n",
    "    W_T_Next      = W_Now + Delta_W\n",
    "    W_Now         = W_T_Next\n",
    "    \n",
    "    TR_TEST_OUT   = getValTest(TRAINING_PHI_Concat,W_T_Next) \n",
    "    Erms_TR       = getErms(TR_TEST_OUT,TrainingTargetConcat)\n",
    "    Training_Erms.append(float(Erms_TR.split(',')[1]))\n",
    "\n",
    "    \n",
    "plt.plot(Learningrate,Training_Erms,'ro-')\n",
    "plt.ylabel(\"Training_Erms\")\n",
    "plt.xlabel(\"Learningrate\")\n",
    "plt.title(\"Training_Erms Vs. Learningrate\")"
   ]
  },
  {
   "cell_type": "code",
   "execution_count": 669,
   "metadata": {},
   "outputs": [
    {
     "name": "stdout",
     "output_type": "stream",
     "text": [
      "----------Gradient Descent Solution for Concatenated features--------------------\n",
      "Accuracy\n",
      "Training accuracy   = 49.63898916967509\n",
      "Validation accuracy = 51.89873417721519\n",
      "Test accuracy       = 49.57627118644068\n",
      "\n",
      "E_rms Training   = 0.70443\n",
      "E_rms Validation = 0.69177\n",
      "E_rms Testing    = 0.7058\n"
     ]
    }
   ],
   "source": [
    "print ('----------Gradient Descent Solution for Concatenated features--------------------')\n",
    "print(\"Accuracy\")\n",
    "print(\"Training accuracy   = \" +TrainingAccuracy_Concat.split(',')[0])\n",
    "print(\"Validation accuracy = \" + ValidationAccuracy_Concat.split(',')[0])\n",
    "print(\"Test accuracy       = \" + TestAccuracy_Concat.split(',')[0]+\"\\n\")\n",
    "print (\"E_rms Training   = \" + str(np.around(min(L_Erms_TR),5)))\n",
    "print (\"E_rms Validation = \" + str(np.around(min(L_Erms_Val),5)))\n",
    "print (\"E_rms Testing    = \" + str(np.around(min(L_Erms_Test),5)))"
   ]
  },
  {
   "cell_type": "code",
   "execution_count": 670,
   "metadata": {},
   "outputs": [],
   "source": [
    "# For Subtracted features dataset\n",
    "\n",
    "W_Now_       = np.dot(220, W_Subtract) # It intializes with random value\n",
    "La           = 2 # Lamda\n",
    "learningRate = 0.01\n",
    "L_Erms_Val   = []\n",
    "L_Erms_TR    = []\n",
    "L_Erms_Test  = []\n",
    "W_Mat        = []\n",
    "\n",
    "for i in range(0,400):\n",
    "    \n",
    "    #print ('---------Iteration: ' + str(i) + '--------------')\n",
    "    Delta_E_D     = -np.dot((TrainingTargetSubtract[i] - np.dot(np.transpose(W_Now_),TRAINING_PHI_Subtract[i])),TRAINING_PHI_Subtract[i])\n",
    "    La_Delta_E_W  = np.dot(La,W_Now_)\n",
    "    Delta_E       = np.add(Delta_E_D,La_Delta_E_W)    \n",
    "    Delta_W       = -np.dot(learningRate,Delta_E)\n",
    "    W_T_Next      = W_Now_ + Delta_W\n",
    "    W_Now_        = W_T_Next\n",
    "    \n",
    "    #-----------------TrainingData Accuracy---------------------#\n",
    "    TR_TEST_OUT   = getValTest(TRAINING_PHI_Subtract,W_T_Next) \n",
    "    Erms_TR       = getErms(TR_TEST_OUT,TrainingTargetSubtract)\n",
    "    L_Erms_TR.append(float(Erms_TR.split(',')[1]))\n",
    "    \n",
    "    #-----------------ValidationData Accuracy---------------------#\n",
    "    VAL_TEST_OUT  = getValTest(VAL_PHI_Subtract,W_T_Next) \n",
    "    Erms_Val      = getErms(VAL_TEST_OUT,ValDataActSubtract)\n",
    "    L_Erms_Val.append(float(Erms_Val.split(',')[1]))\n",
    "    \n",
    "    #-----------------TestingData Accuracy---------------------#\n",
    "    TEST_OUT      = getValTest(TEST_PHI_Subtract,W_T_Next) \n",
    "    Erms_Test = getErms(TEST_OUT,TestDataActSubtract)\n",
    "    L_Erms_Test.append(float(Erms_Test.split(',')[1]))"
   ]
  },
  {
   "cell_type": "code",
   "execution_count": 671,
   "metadata": {},
   "outputs": [
    {
     "data": {
      "text/plain": [
       "Text(0.5,1,'Training_Erms Vs. Learningrate')"
      ]
     },
     "execution_count": 671,
     "metadata": {},
     "output_type": "execute_result"
    },
    {
     "data": {
      "image/png": "[encoded data removed]",
      "text/plain": [
       "<matplotlib.figure.Figure at 0x9c08793080>"
      ]
     },
     "metadata": {
      "needs_background": "light"
     },
     "output_type": "display_data"
    }
   ],
   "source": [
    "# To find the learning rate for Subtracted features\n",
    "\n",
    "Learningrate = [0.009*i for i in range(1,19)]\n",
    "Training_Erms=[]\n",
    "for l in Learningrate:\n",
    "    \n",
    "    La_Delta_E_W  = np.dot(La,W_Now_)\n",
    "    Delta_E       = np.add(Delta_E_D,La_Delta_E_W)    \n",
    "    Delta_W       = -np.dot(l,Delta_E)\n",
    "    W_T_Next      = W_Now_ + Delta_W\n",
    "    W_Now         = W_T_Next\n",
    "    \n",
    "    TR_TEST_OUT   = getValTest(TRAINING_PHI_Subtract,W_T_Next) \n",
    "    Erms_TR       = getErms(TR_TEST_OUT,TrainingTargetSubtract)\n",
    "    Training_Erms.append(float(Erms_TR.split(',')[1]))\n",
    "\n",
    "    \n",
    "plt.plot(Learningrate,Training_Erms,'ro-')\n",
    "plt.ylabel(\"Training_Erms\")\n",
    "plt.xlabel(\"Learningrate\")\n",
    "plt.title(\"Training_Erms Vs. Learningrate\")"
   ]
  },
  {
   "cell_type": "code",
   "execution_count": 672,
   "metadata": {},
   "outputs": [
    {
     "name": "stdout",
     "output_type": "stream",
     "text": [
      "----------Gradient Descent Solution for Subtracted features--------------------\n",
      "Accuracy\n",
      "Training accuracy   = 49.72924187725632\n",
      "Validation accuracy = 51.89873417721519\n",
      "Test accuracy       = 49.57627118644068\n",
      "\n",
      "E_rms Training   = 0.67047\n",
      "E_rms Validation = 0.65627\n",
      "E_rms Testing    = 0.66569\n"
     ]
    }
   ],
   "source": [
    "print ('----------Gradient Descent Solution for Subtracted features--------------------')\n",
    "print(\"Accuracy\")\n",
    "print(\"Training accuracy   = \" +TrainingAccuracy_Subtract.split(',')[0])\n",
    "print(\"Validation accuracy = \" + ValidationAccuracy_Subtract.split(',')[0])\n",
    "print(\"Test accuracy       = \" + TestAccuracy_Subtract.split(',')[0]+\"\\n\")\n",
    "print (\"E_rms Training   = \" + str(np.around(min(L_Erms_TR),5)))\n",
    "print (\"E_rms Validation = \" + str(np.around(min(L_Erms_Val),5)))\n",
    "print (\"E_rms Testing    = \" + str(np.around(min(L_Erms_Test),5)))"
   ]
  },
  {
   "cell_type": "code",
   "execution_count": null,
   "metadata": {},
   "outputs": [],
   "source": []
  },
  {
   "cell_type": "markdown",
   "metadata": {},
   "source": [
    "# Logistic Regression"
   ]
  },
  {
   "cell_type": "code",
   "execution_count": 673,
   "metadata": {},
   "outputs": [],
   "source": [
    "# We have our desirable dataset ConcatenaatedFeatures and SubtractedFearures"
   ]
  },
  {
   "cell_type": "code",
   "execution_count": 674,
   "metadata": {},
   "outputs": [
    {
     "data": {
      "text/html": [
       "<div>\n",
       "<style scoped>\n",
       "    .dataframe tbody tr th:only-of-type {\n",
       "        vertical-align: middle;\n",
       "    }\n",
       "\n",
       "    .dataframe tbody tr th {\n",
       "        vertical-align: top;\n",
       "    }\n",
       "\n",
       "    .dataframe thead th {\n",
       "        text-align: right;\n",
       "    }\n",
       "</style>\n",
       "<table border=\"1\" class=\"dataframe\">\n",
       "  <thead>\n",
       "    <tr style=\"text-align: right;\">\n",
       "      <th></th>\n",
       "      <th>img_id_A</th>\n",
       "      <th>img_id_B</th>\n",
       "      <th>f1</th>\n",
       "      <th>f2</th>\n",
       "      <th>f3</th>\n",
       "      <th>f4</th>\n",
       "      <th>f5</th>\n",
       "      <th>f6</th>\n",
       "      <th>f7</th>\n",
       "      <th>f8</th>\n",
       "      <th>...</th>\n",
       "      <th>f10</th>\n",
       "      <th>f11</th>\n",
       "      <th>f12</th>\n",
       "      <th>f13</th>\n",
       "      <th>f14</th>\n",
       "      <th>f15</th>\n",
       "      <th>f16</th>\n",
       "      <th>f17</th>\n",
       "      <th>f18</th>\n",
       "      <th>target</th>\n",
       "    </tr>\n",
       "  </thead>\n",
       "  <tbody>\n",
       "    <tr>\n",
       "      <th>0</th>\n",
       "      <td>1325a</td>\n",
       "      <td>1325c</td>\n",
       "      <td>3</td>\n",
       "      <td>1</td>\n",
       "      <td>1</td>\n",
       "      <td>0</td>\n",
       "      <td>1</td>\n",
       "      <td>2</td>\n",
       "      <td>0</td>\n",
       "      <td>1</td>\n",
       "      <td>...</td>\n",
       "      <td>1</td>\n",
       "      <td>4</td>\n",
       "      <td>1</td>\n",
       "      <td>3</td>\n",
       "      <td>2</td>\n",
       "      <td>3</td>\n",
       "      <td>1</td>\n",
       "      <td>2</td>\n",
       "      <td>2</td>\n",
       "      <td>1</td>\n",
       "    </tr>\n",
       "    <tr>\n",
       "      <th>1</th>\n",
       "      <td>0359a</td>\n",
       "      <td>1096a</td>\n",
       "      <td>2</td>\n",
       "      <td>1</td>\n",
       "      <td>1</td>\n",
       "      <td>0</td>\n",
       "      <td>2</td>\n",
       "      <td>2</td>\n",
       "      <td>0</td>\n",
       "      <td>2</td>\n",
       "      <td>...</td>\n",
       "      <td>2</td>\n",
       "      <td>1</td>\n",
       "      <td>1</td>\n",
       "      <td>1</td>\n",
       "      <td>2</td>\n",
       "      <td>3</td>\n",
       "      <td>0</td>\n",
       "      <td>4</td>\n",
       "      <td>2</td>\n",
       "      <td>0</td>\n",
       "    </tr>\n",
       "    <tr>\n",
       "      <th>2</th>\n",
       "      <td>0577a</td>\n",
       "      <td>1320c</td>\n",
       "      <td>2</td>\n",
       "      <td>1</td>\n",
       "      <td>1</td>\n",
       "      <td>0</td>\n",
       "      <td>2</td>\n",
       "      <td>2</td>\n",
       "      <td>0</td>\n",
       "      <td>1</td>\n",
       "      <td>...</td>\n",
       "      <td>2</td>\n",
       "      <td>2</td>\n",
       "      <td>1</td>\n",
       "      <td>0</td>\n",
       "      <td>2</td>\n",
       "      <td>2</td>\n",
       "      <td>0</td>\n",
       "      <td>3</td>\n",
       "      <td>2</td>\n",
       "      <td>0</td>\n",
       "    </tr>\n",
       "    <tr>\n",
       "      <th>3</th>\n",
       "      <td>1325b</td>\n",
       "      <td>1325c</td>\n",
       "      <td>0</td>\n",
       "      <td>1</td>\n",
       "      <td>1</td>\n",
       "      <td>1</td>\n",
       "      <td>2</td>\n",
       "      <td>2</td>\n",
       "      <td>1</td>\n",
       "      <td>2</td>\n",
       "      <td>...</td>\n",
       "      <td>1</td>\n",
       "      <td>4</td>\n",
       "      <td>1</td>\n",
       "      <td>3</td>\n",
       "      <td>2</td>\n",
       "      <td>3</td>\n",
       "      <td>1</td>\n",
       "      <td>2</td>\n",
       "      <td>2</td>\n",
       "      <td>1</td>\n",
       "    </tr>\n",
       "    <tr>\n",
       "      <th>4</th>\n",
       "      <td>0359a</td>\n",
       "      <td>1284c</td>\n",
       "      <td>2</td>\n",
       "      <td>1</td>\n",
       "      <td>1</td>\n",
       "      <td>0</td>\n",
       "      <td>2</td>\n",
       "      <td>2</td>\n",
       "      <td>0</td>\n",
       "      <td>2</td>\n",
       "      <td>...</td>\n",
       "      <td>3</td>\n",
       "      <td>1</td>\n",
       "      <td>1</td>\n",
       "      <td>0</td>\n",
       "      <td>2</td>\n",
       "      <td>1</td>\n",
       "      <td>1</td>\n",
       "      <td>2</td>\n",
       "      <td>2</td>\n",
       "      <td>0</td>\n",
       "    </tr>\n",
       "  </tbody>\n",
       "</table>\n",
       "<p>5 rows × 21 columns</p>\n",
       "</div>"
      ],
      "text/plain": [
       "  img_id_A img_id_B f1 f2 f3 f4 f5 f6 f7 f8  ...   f10 f11 f12 f13 f14 f15  \\\n",
       "0    1325a    1325c  3  1  1  0  1  2  0  1  ...     1   4   1   3   2   3   \n",
       "1    0359a    1096a  2  1  1  0  2  2  0  2  ...     2   1   1   1   2   3   \n",
       "2    0577a    1320c  2  1  1  0  2  2  0  1  ...     2   2   1   0   2   2   \n",
       "3    1325b    1325c  0  1  1  1  2  2  1  2  ...     1   4   1   3   2   3   \n",
       "4    0359a    1284c  2  1  1  0  2  2  0  2  ...     3   1   1   0   2   1   \n",
       "\n",
       "  f16 f17 f18 target  \n",
       "0   1   2   2      1  \n",
       "1   0   4   2      0  \n",
       "2   0   3   2      0  \n",
       "3   1   2   2      1  \n",
       "4   1   2   2      0  \n",
       "\n",
       "[5 rows x 21 columns]"
      ]
     },
     "execution_count": 674,
     "metadata": {},
     "output_type": "execute_result"
    }
   ],
   "source": [
    "ConcatenatedFeatures.head()"
   ]
  },
  {
   "cell_type": "code",
   "execution_count": 675,
   "metadata": {},
   "outputs": [
    {
     "data": {
      "text/html": [
       "<div>\n",
       "<style scoped>\n",
       "    .dataframe tbody tr th:only-of-type {\n",
       "        vertical-align: middle;\n",
       "    }\n",
       "\n",
       "    .dataframe tbody tr th {\n",
       "        vertical-align: top;\n",
       "    }\n",
       "\n",
       "    .dataframe thead th {\n",
       "        text-align: right;\n",
       "    }\n",
       "</style>\n",
       "<table border=\"1\" class=\"dataframe\">\n",
       "  <thead>\n",
       "    <tr style=\"text-align: right;\">\n",
       "      <th></th>\n",
       "      <th>img_id_A</th>\n",
       "      <th>img_id_B</th>\n",
       "      <th>f1</th>\n",
       "      <th>f2</th>\n",
       "      <th>f3</th>\n",
       "      <th>f4</th>\n",
       "      <th>f5</th>\n",
       "      <th>f6</th>\n",
       "      <th>f7</th>\n",
       "      <th>f8</th>\n",
       "      <th>f9</th>\n",
       "      <th>target</th>\n",
       "    </tr>\n",
       "  </thead>\n",
       "  <tbody>\n",
       "    <tr>\n",
       "      <th>0</th>\n",
       "      <td>1325a</td>\n",
       "      <td>1325c</td>\n",
       "      <td>2</td>\n",
       "      <td>3</td>\n",
       "      <td>0</td>\n",
       "      <td>3</td>\n",
       "      <td>1</td>\n",
       "      <td>1</td>\n",
       "      <td>1</td>\n",
       "      <td>1</td>\n",
       "      <td>0</td>\n",
       "      <td>1</td>\n",
       "    </tr>\n",
       "    <tr>\n",
       "      <th>1</th>\n",
       "      <td>0359a</td>\n",
       "      <td>1096a</td>\n",
       "      <td>0</td>\n",
       "      <td>0</td>\n",
       "      <td>0</td>\n",
       "      <td>1</td>\n",
       "      <td>0</td>\n",
       "      <td>1</td>\n",
       "      <td>0</td>\n",
       "      <td>2</td>\n",
       "      <td>0</td>\n",
       "      <td>0</td>\n",
       "    </tr>\n",
       "    <tr>\n",
       "      <th>2</th>\n",
       "      <td>0577a</td>\n",
       "      <td>1320c</td>\n",
       "      <td>0</td>\n",
       "      <td>1</td>\n",
       "      <td>0</td>\n",
       "      <td>0</td>\n",
       "      <td>0</td>\n",
       "      <td>0</td>\n",
       "      <td>0</td>\n",
       "      <td>2</td>\n",
       "      <td>0</td>\n",
       "      <td>0</td>\n",
       "    </tr>\n",
       "    <tr>\n",
       "      <th>3</th>\n",
       "      <td>1325b</td>\n",
       "      <td>1325c</td>\n",
       "      <td>1</td>\n",
       "      <td>3</td>\n",
       "      <td>0</td>\n",
       "      <td>2</td>\n",
       "      <td>0</td>\n",
       "      <td>1</td>\n",
       "      <td>0</td>\n",
       "      <td>0</td>\n",
       "      <td>1</td>\n",
       "      <td>1</td>\n",
       "    </tr>\n",
       "    <tr>\n",
       "      <th>4</th>\n",
       "      <td>0359a</td>\n",
       "      <td>1284c</td>\n",
       "      <td>1</td>\n",
       "      <td>0</td>\n",
       "      <td>0</td>\n",
       "      <td>0</td>\n",
       "      <td>0</td>\n",
       "      <td>1</td>\n",
       "      <td>1</td>\n",
       "      <td>0</td>\n",
       "      <td>0</td>\n",
       "      <td>0</td>\n",
       "    </tr>\n",
       "  </tbody>\n",
       "</table>\n",
       "</div>"
      ],
      "text/plain": [
       "  img_id_A img_id_B f1 f2 f3 f4 f5 f6 f7 f8 f9 target\n",
       "0    1325a    1325c  2  3  0  3  1  1  1  1  0      1\n",
       "1    0359a    1096a  0  0  0  1  0  1  0  2  0      0\n",
       "2    0577a    1320c  0  1  0  0  0  0  0  2  0      0\n",
       "3    1325b    1325c  1  3  0  2  0  1  0  0  1      1\n",
       "4    0359a    1284c  1  0  0  0  0  1  1  0  0      0"
      ]
     },
     "execution_count": 675,
     "metadata": {},
     "output_type": "execute_result"
    }
   ],
   "source": [
    "subtractedFeatures.head()"
   ]
  },
  {
   "cell_type": "code",
   "execution_count": 676,
   "metadata": {},
   "outputs": [
    {
     "data": {
      "text/html": [
       "<div>\n",
       "<style scoped>\n",
       "    .dataframe tbody tr th:only-of-type {\n",
       "        vertical-align: middle;\n",
       "    }\n",
       "\n",
       "    .dataframe tbody tr th {\n",
       "        vertical-align: top;\n",
       "    }\n",
       "\n",
       "    .dataframe thead th {\n",
       "        text-align: right;\n",
       "    }\n",
       "</style>\n",
       "<table border=\"1\" class=\"dataframe\">\n",
       "  <thead>\n",
       "    <tr style=\"text-align: right;\">\n",
       "      <th></th>\n",
       "      <th>Bias</th>\n",
       "    </tr>\n",
       "  </thead>\n",
       "  <tbody>\n",
       "    <tr>\n",
       "      <th>0</th>\n",
       "      <td>1.0</td>\n",
       "    </tr>\n",
       "    <tr>\n",
       "      <th>1</th>\n",
       "      <td>1.0</td>\n",
       "    </tr>\n",
       "    <tr>\n",
       "      <th>2</th>\n",
       "      <td>1.0</td>\n",
       "    </tr>\n",
       "    <tr>\n",
       "      <th>3</th>\n",
       "      <td>1.0</td>\n",
       "    </tr>\n",
       "    <tr>\n",
       "      <th>4</th>\n",
       "      <td>1.0</td>\n",
       "    </tr>\n",
       "  </tbody>\n",
       "</table>\n",
       "</div>"
      ],
      "text/plain": [
       "   Bias\n",
       "0   1.0\n",
       "1   1.0\n",
       "2   1.0\n",
       "3   1.0\n",
       "4   1.0"
      ]
     },
     "execution_count": 676,
     "metadata": {},
     "output_type": "execute_result"
    }
   ],
   "source": [
    "Bias = pd.DataFrame(np.ones((len(ConcatenatedFeatures),1)), columns = ['Bias'])\n",
    "Bias.head()"
   ]
  },
  {
   "cell_type": "code",
   "execution_count": 677,
   "metadata": {},
   "outputs": [
    {
     "data": {
      "text/plain": [
       "(1582, 1)"
      ]
     },
     "execution_count": 677,
     "metadata": {},
     "output_type": "execute_result"
    }
   ],
   "source": [
    "Bias.shape"
   ]
  },
  {
   "cell_type": "code",
   "execution_count": 678,
   "metadata": {},
   "outputs": [
    {
     "data": {
      "text/plain": [
       "(1582, 19)"
      ]
     },
     "execution_count": 678,
     "metadata": {},
     "output_type": "execute_result"
    }
   ],
   "source": [
    "# For ConccatenatedFeatures\n",
    "\n",
    "ConcatenatedFeatures_ = pd.concat([Bias, ConcatenatedFeatures[ConcatenatedFeatures.columns[2:-1]]], axis=1)\n",
    "ConcatenatedFeatures_.shape"
   ]
  },
  {
   "cell_type": "code",
   "execution_count": 679,
   "metadata": {},
   "outputs": [
    {
     "data": {
      "text/html": [
       "<div>\n",
       "<style scoped>\n",
       "    .dataframe tbody tr th:only-of-type {\n",
       "        vertical-align: middle;\n",
       "    }\n",
       "\n",
       "    .dataframe tbody tr th {\n",
       "        vertical-align: top;\n",
       "    }\n",
       "\n",
       "    .dataframe thead th {\n",
       "        text-align: right;\n",
       "    }\n",
       "</style>\n",
       "<table border=\"1\" class=\"dataframe\">\n",
       "  <thead>\n",
       "    <tr style=\"text-align: right;\">\n",
       "      <th></th>\n",
       "      <th>Bias</th>\n",
       "      <th>f1</th>\n",
       "      <th>f2</th>\n",
       "      <th>f3</th>\n",
       "      <th>f4</th>\n",
       "      <th>f5</th>\n",
       "      <th>f6</th>\n",
       "      <th>f7</th>\n",
       "      <th>f8</th>\n",
       "      <th>f9</th>\n",
       "      <th>f10</th>\n",
       "      <th>f11</th>\n",
       "      <th>f12</th>\n",
       "      <th>f13</th>\n",
       "      <th>f14</th>\n",
       "      <th>f15</th>\n",
       "      <th>f16</th>\n",
       "      <th>f17</th>\n",
       "      <th>f18</th>\n",
       "    </tr>\n",
       "  </thead>\n",
       "  <tbody>\n",
       "    <tr>\n",
       "      <th>0</th>\n",
       "      <td>1.0</td>\n",
       "      <td>3</td>\n",
       "      <td>1</td>\n",
       "      <td>1</td>\n",
       "      <td>0</td>\n",
       "      <td>1</td>\n",
       "      <td>2</td>\n",
       "      <td>0</td>\n",
       "      <td>1</td>\n",
       "      <td>2</td>\n",
       "      <td>1</td>\n",
       "      <td>4</td>\n",
       "      <td>1</td>\n",
       "      <td>3</td>\n",
       "      <td>2</td>\n",
       "      <td>3</td>\n",
       "      <td>1</td>\n",
       "      <td>2</td>\n",
       "      <td>2</td>\n",
       "    </tr>\n",
       "    <tr>\n",
       "      <th>1</th>\n",
       "      <td>1.0</td>\n",
       "      <td>2</td>\n",
       "      <td>1</td>\n",
       "      <td>1</td>\n",
       "      <td>0</td>\n",
       "      <td>2</td>\n",
       "      <td>2</td>\n",
       "      <td>0</td>\n",
       "      <td>2</td>\n",
       "      <td>2</td>\n",
       "      <td>2</td>\n",
       "      <td>1</td>\n",
       "      <td>1</td>\n",
       "      <td>1</td>\n",
       "      <td>2</td>\n",
       "      <td>3</td>\n",
       "      <td>0</td>\n",
       "      <td>4</td>\n",
       "      <td>2</td>\n",
       "    </tr>\n",
       "    <tr>\n",
       "      <th>2</th>\n",
       "      <td>1.0</td>\n",
       "      <td>2</td>\n",
       "      <td>1</td>\n",
       "      <td>1</td>\n",
       "      <td>0</td>\n",
       "      <td>2</td>\n",
       "      <td>2</td>\n",
       "      <td>0</td>\n",
       "      <td>1</td>\n",
       "      <td>2</td>\n",
       "      <td>2</td>\n",
       "      <td>2</td>\n",
       "      <td>1</td>\n",
       "      <td>0</td>\n",
       "      <td>2</td>\n",
       "      <td>2</td>\n",
       "      <td>0</td>\n",
       "      <td>3</td>\n",
       "      <td>2</td>\n",
       "    </tr>\n",
       "    <tr>\n",
       "      <th>3</th>\n",
       "      <td>1.0</td>\n",
       "      <td>0</td>\n",
       "      <td>1</td>\n",
       "      <td>1</td>\n",
       "      <td>1</td>\n",
       "      <td>2</td>\n",
       "      <td>2</td>\n",
       "      <td>1</td>\n",
       "      <td>2</td>\n",
       "      <td>1</td>\n",
       "      <td>1</td>\n",
       "      <td>4</td>\n",
       "      <td>1</td>\n",
       "      <td>3</td>\n",
       "      <td>2</td>\n",
       "      <td>3</td>\n",
       "      <td>1</td>\n",
       "      <td>2</td>\n",
       "      <td>2</td>\n",
       "    </tr>\n",
       "    <tr>\n",
       "      <th>4</th>\n",
       "      <td>1.0</td>\n",
       "      <td>2</td>\n",
       "      <td>1</td>\n",
       "      <td>1</td>\n",
       "      <td>0</td>\n",
       "      <td>2</td>\n",
       "      <td>2</td>\n",
       "      <td>0</td>\n",
       "      <td>2</td>\n",
       "      <td>2</td>\n",
       "      <td>3</td>\n",
       "      <td>1</td>\n",
       "      <td>1</td>\n",
       "      <td>0</td>\n",
       "      <td>2</td>\n",
       "      <td>1</td>\n",
       "      <td>1</td>\n",
       "      <td>2</td>\n",
       "      <td>2</td>\n",
       "    </tr>\n",
       "  </tbody>\n",
       "</table>\n",
       "</div>"
      ],
      "text/plain": [
       "   Bias f1 f2 f3 f4 f5 f6 f7 f8 f9 f10 f11 f12 f13 f14 f15 f16 f17 f18\n",
       "0   1.0  3  1  1  0  1  2  0  1  2   1   4   1   3   2   3   1   2   2\n",
       "1   1.0  2  1  1  0  2  2  0  2  2   2   1   1   1   2   3   0   4   2\n",
       "2   1.0  2  1  1  0  2  2  0  1  2   2   2   1   0   2   2   0   3   2\n",
       "3   1.0  0  1  1  1  2  2  1  2  1   1   4   1   3   2   3   1   2   2\n",
       "4   1.0  2  1  1  0  2  2  0  2  2   3   1   1   0   2   1   1   2   2"
      ]
     },
     "execution_count": 679,
     "metadata": {},
     "output_type": "execute_result"
    }
   ],
   "source": [
    "ConcatenatedFeatures_.head()"
   ]
  },
  {
   "cell_type": "code",
   "execution_count": 680,
   "metadata": {},
   "outputs": [
    {
     "data": {
      "text/plain": [
       "(1582, 10)"
      ]
     },
     "execution_count": 680,
     "metadata": {},
     "output_type": "execute_result"
    }
   ],
   "source": [
    "# For SubtractedFeatures\n",
    "subtractedFeatures_ = pd.concat([Bias, subtractedFeatures[subtractedFeatures.columns[2:-1]]], axis=1)\n",
    "subtractedFeatures_.shape"
   ]
  },
  {
   "cell_type": "code",
   "execution_count": 681,
   "metadata": {},
   "outputs": [
    {
     "data": {
      "text/html": [
       "<div>\n",
       "<style scoped>\n",
       "    .dataframe tbody tr th:only-of-type {\n",
       "        vertical-align: middle;\n",
       "    }\n",
       "\n",
       "    .dataframe tbody tr th {\n",
       "        vertical-align: top;\n",
       "    }\n",
       "\n",
       "    .dataframe thead th {\n",
       "        text-align: right;\n",
       "    }\n",
       "</style>\n",
       "<table border=\"1\" class=\"dataframe\">\n",
       "  <thead>\n",
       "    <tr style=\"text-align: right;\">\n",
       "      <th></th>\n",
       "      <th>Bias</th>\n",
       "      <th>f1</th>\n",
       "      <th>f2</th>\n",
       "      <th>f3</th>\n",
       "      <th>f4</th>\n",
       "      <th>f5</th>\n",
       "      <th>f6</th>\n",
       "      <th>f7</th>\n",
       "      <th>f8</th>\n",
       "      <th>f9</th>\n",
       "    </tr>\n",
       "  </thead>\n",
       "  <tbody>\n",
       "    <tr>\n",
       "      <th>0</th>\n",
       "      <td>1.0</td>\n",
       "      <td>2</td>\n",
       "      <td>3</td>\n",
       "      <td>0</td>\n",
       "      <td>3</td>\n",
       "      <td>1</td>\n",
       "      <td>1</td>\n",
       "      <td>1</td>\n",
       "      <td>1</td>\n",
       "      <td>0</td>\n",
       "    </tr>\n",
       "    <tr>\n",
       "      <th>1</th>\n",
       "      <td>1.0</td>\n",
       "      <td>0</td>\n",
       "      <td>0</td>\n",
       "      <td>0</td>\n",
       "      <td>1</td>\n",
       "      <td>0</td>\n",
       "      <td>1</td>\n",
       "      <td>0</td>\n",
       "      <td>2</td>\n",
       "      <td>0</td>\n",
       "    </tr>\n",
       "    <tr>\n",
       "      <th>2</th>\n",
       "      <td>1.0</td>\n",
       "      <td>0</td>\n",
       "      <td>1</td>\n",
       "      <td>0</td>\n",
       "      <td>0</td>\n",
       "      <td>0</td>\n",
       "      <td>0</td>\n",
       "      <td>0</td>\n",
       "      <td>2</td>\n",
       "      <td>0</td>\n",
       "    </tr>\n",
       "    <tr>\n",
       "      <th>3</th>\n",
       "      <td>1.0</td>\n",
       "      <td>1</td>\n",
       "      <td>3</td>\n",
       "      <td>0</td>\n",
       "      <td>2</td>\n",
       "      <td>0</td>\n",
       "      <td>1</td>\n",
       "      <td>0</td>\n",
       "      <td>0</td>\n",
       "      <td>1</td>\n",
       "    </tr>\n",
       "    <tr>\n",
       "      <th>4</th>\n",
       "      <td>1.0</td>\n",
       "      <td>1</td>\n",
       "      <td>0</td>\n",
       "      <td>0</td>\n",
       "      <td>0</td>\n",
       "      <td>0</td>\n",
       "      <td>1</td>\n",
       "      <td>1</td>\n",
       "      <td>0</td>\n",
       "      <td>0</td>\n",
       "    </tr>\n",
       "  </tbody>\n",
       "</table>\n",
       "</div>"
      ],
      "text/plain": [
       "   Bias f1 f2 f3 f4 f5 f6 f7 f8 f9\n",
       "0   1.0  2  3  0  3  1  1  1  1  0\n",
       "1   1.0  0  0  0  1  0  1  0  2  0\n",
       "2   1.0  0  1  0  0  0  0  0  2  0\n",
       "3   1.0  1  3  0  2  0  1  0  0  1\n",
       "4   1.0  1  0  0  0  0  1  1  0  0"
      ]
     },
     "execution_count": 681,
     "metadata": {},
     "output_type": "execute_result"
    }
   ],
   "source": [
    "subtractedFeatures_.head()"
   ]
  },
  {
   "cell_type": "code",
   "execution_count": 682,
   "metadata": {},
   "outputs": [],
   "source": [
    "# For concatenatedfeatures\n",
    "weight = np.zeros(19)  # Bceause 19 is the number of features including bias"
   ]
  },
  {
   "cell_type": "code",
   "execution_count": 683,
   "metadata": {},
   "outputs": [],
   "source": [
    "def sigmoidFunction(inputData, weight):\n",
    "    sigmoid = 1/(np.exp(-1 * np.matmul(inputData, weight)))\n",
    "    return sigmoid"
   ]
  },
  {
   "cell_type": "code",
   "execution_count": 684,
   "metadata": {},
   "outputs": [],
   "source": [
    "def cost_function(m,data,weight,Target):\n",
    "    J = 1/m*(-1*Target.T.dot(np.log(sigmoidFunction(data,weight))) - (1 - Target).T.dot(np.log(1-sigmoidFunction(data,weight))))\n",
    "    return J"
   ]
  },
  {
   "cell_type": "code",
   "execution_count": 685,
   "metadata": {},
   "outputs": [],
   "source": [
    "def gd(m,weight,X, Target, Learningrate): # gd stands for Gradient Descent\n",
    "    cost_functionList = [0]* 500 \n",
    "    for i in tqdm_notebook(range(500)):\n",
    "        weight = weight - (Learningrate/m) * ( X.T.dot((sigmoidFunction(X,weight) - Target)))\n",
    "        cost = cost_function(m,X,weight,Target)\n",
    "        cost_functionList[i] = cost\n",
    "    return weight, cost_functionList"
   ]
  },
  {
   "cell_type": "code",
   "execution_count": 686,
   "metadata": {},
   "outputs": [
    {
     "data": {
      "application/vnd.jupyter.widget-view+json": {
       "model_id": "62f5c97d815d4ff78493884ba34c13e1",
       "version_major": 2,
       "version_minor": 0
      },
      "text/html": [
       "<p>Failed to display Jupyter Widget of type <code>HBox</code>.</p>\n",
       "<p>\n",
       "  If you're reading this message in the Jupyter Notebook or JupyterLab Notebook, it may mean\n",
       "  that the widgets JavaScript is still loading. If this message persists, it\n",
       "  likely means that the widgets JavaScript library is either not installed or\n",
       "  not enabled. See the <a href=\"https://ipywidgets.readthedocs.io/en/stable/user_install.html\">Jupyter\n",
       "  Widgets Documentation</a> for setup instructions.\n",
       "</p>\n",
       "<p>\n",
       "  If you're reading this message in another frontend (for example, a static\n",
       "  rendering on GitHub or <a href=\"https://nbviewer.jupyter.org/\">NBViewer</a>),\n",
       "  it may mean that your frontend doesn't currently support widgets.\n",
       "</p>\n"
      ],
      "text/plain": [
       "HBox(children=(IntProgress(value=0, max=500), HTML(value='')))"
      ]
     },
     "metadata": {},
     "output_type": "display_data"
    },
    {
     "name": "stderr",
     "output_type": "stream",
     "text": [
      "C:\\Users\\abhi\\Anaconda3\\lib\\site-packages\\ipykernel\\__main__.py:2: RuntimeWarning: invalid value encountered in log\n",
      "  from ipykernel import kernelapp as app\n"
     ]
    },
    {
     "name": "stdout",
     "output_type": "stream",
     "text": [
      "\n"
     ]
    }
   ],
   "source": [
    "# For ConcatenatedFeatures training set\n",
    "m = len(ConcatenatedFeatures_) # number of training examples\n",
    "Target_ = ConcatenatedFeatures['target'].values.astype(float)\n",
    "TrainingPercent = int((80/100)*len(Target_))\n",
    "Target = Target_[:TrainingPercent]\n",
    "Learningrate = 0.002\n",
    "X_ = ConcatenatedFeatures_.values.astype(float)\n",
    "concatInput = X_[:TrainingPercent]\n",
    "New_weight_concat, costList_concat = gd(m,weight,concatInput,Target,Learningrate)"
   ]
  },
  {
   "cell_type": "code",
   "execution_count": 687,
   "metadata": {},
   "outputs": [],
   "source": [
    "# For subtractedFeatures\n",
    "\n",
    "weight_subtract = np.zeros(10)  # Bceause 10 is the number of features including bias"
   ]
  },
  {
   "cell_type": "code",
   "execution_count": 688,
   "metadata": {},
   "outputs": [
    {
     "data": {
      "application/vnd.jupyter.widget-view+json": {
       "model_id": "3e4279ae0a73433884c36e0a502397e8",
       "version_major": 2,
       "version_minor": 0
      },
      "text/html": [
       "<p>Failed to display Jupyter Widget of type <code>HBox</code>.</p>\n",
       "<p>\n",
       "  If you're reading this message in the Jupyter Notebook or JupyterLab Notebook, it may mean\n",
       "  that the widgets JavaScript is still loading. If this message persists, it\n",
       "  likely means that the widgets JavaScript library is either not installed or\n",
       "  not enabled. See the <a href=\"https://ipywidgets.readthedocs.io/en/stable/user_install.html\">Jupyter\n",
       "  Widgets Documentation</a> for setup instructions.\n",
       "</p>\n",
       "<p>\n",
       "  If you're reading this message in another frontend (for example, a static\n",
       "  rendering on GitHub or <a href=\"https://nbviewer.jupyter.org/\">NBViewer</a>),\n",
       "  it may mean that your frontend doesn't currently support widgets.\n",
       "</p>\n"
      ],
      "text/plain": [
       "HBox(children=(IntProgress(value=0, max=500), HTML(value='')))"
      ]
     },
     "metadata": {},
     "output_type": "display_data"
    },
    {
     "name": "stderr",
     "output_type": "stream",
     "text": [
      "C:\\Users\\abhi\\Anaconda3\\lib\\site-packages\\ipykernel\\__main__.py:2: RuntimeWarning: invalid value encountered in log\n",
      "  from ipykernel import kernelapp as app\n"
     ]
    },
    {
     "name": "stdout",
     "output_type": "stream",
     "text": [
      "\n"
     ]
    }
   ],
   "source": [
    "# For subtractedFeatures training set\n",
    "\n",
    "Learningrate_ = 0.05\n",
    "X_subtract = subtractedFeatures_.values.astype(float)\n",
    "subtractInput = X_subtract[:TrainingPercent]\n",
    "New_weight_subtract, costList_subtract = gd(m,weight_subtract,subtractInput,Target,Learningrate_)"
   ]
  },
  {
   "cell_type": "code",
   "execution_count": 689,
   "metadata": {},
   "outputs": [],
   "source": [
    "# For concatenated test set\n",
    "\n",
    "predict_concat = sigmoidFunction(X_[TrainingPercent+1:],New_weight_concat)\n",
    "\n",
    "# For subtracted test set\n",
    "\n",
    "predict_subtract = sigmoidFunction(X_subtract[TrainingPercent+1:],New_weight_subtract)"
   ]
  },
  {
   "cell_type": "code",
   "execution_count": 690,
   "metadata": {},
   "outputs": [],
   "source": [
    "def estimatedOutput(predict,Target):\n",
    "    right = 0\n",
    "    wrong = 0\n",
    "    \n",
    "    for i in range(len(Target)):\n",
    "        if np.around(predict[i]) == Target[i]:\n",
    "            right += 1\n",
    "        else:\n",
    "            wrong +=1\n",
    "    return right, wrong"
   ]
  },
  {
   "cell_type": "code",
   "execution_count": 691,
   "metadata": {
    "scrolled": true
   },
   "outputs": [
    {
     "name": "stdout",
     "output_type": "stream",
     "text": [
      "Accuracy is 79.74683544303798\n",
      "Error is 20.253164556962027\n",
      "\n",
      "Accuracy is 77.84810126582279\n",
      "Error is 22.151898734177212\n"
     ]
    }
   ],
   "source": [
    "# For concatenatedfeatures\n",
    "Target_concat = Target_[TrainingPercent+1:]\n",
    "Right, Wrong = estimatedOutput(predict_concat,Target_concat)\n",
    "print(\"Accuracy is \" + str(Right/len(Target_concat)*100))\n",
    "print(\"Error is \" + str(Wrong/len(Target_concat)*100))\n",
    "\n",
    "\n",
    "print()\n",
    "# For subtractedfeatures\n",
    "\n",
    "Target_subtract = Target_[TrainingPercent+1:]\n",
    "Right, Wrong = estimatedOutput(predict_subtract,Target_subtract)\n",
    "print(\"Accuracy is \" + str(Right/len(Target_subtract)*100))\n",
    "print(\"Error is \" + str(Wrong/len(Target_subtract)*100))"
   ]
  },
  {
   "cell_type": "code",
   "execution_count": 692,
   "metadata": {},
   "outputs": [
    {
     "data": {
      "text/plain": [
       "Text(0.5,1,'Cost funcion J Vs. Iterations')"
      ]
     },
     "execution_count": 692,
     "metadata": {},
     "output_type": "execute_result"
    },
    {
     "data": {
      "image/png": "[encoded data removed]",
      "text/plain": [
       "<matplotlib.figure.Figure at 0x9c087d9da0>"
      ]
     },
     "metadata": {
      "needs_background": "light"
     },
     "output_type": "display_data"
    }
   ],
   "source": [
    "# For Concatenated set\n",
    "\n",
    "Iterations = list(range(500))\n",
    "plt.plot(Iterations,costList_concat,'r-')\n",
    "plt.ylabel(\"Cost funcion Concat ----->\")\n",
    "plt.xlabel(\"Iterations ----->\")\n",
    "plt.title(\"Cost funcion J Vs. Iterations\")"
   ]
  },
  {
   "cell_type": "code",
   "execution_count": 693,
   "metadata": {},
   "outputs": [
    {
     "data": {
      "text/plain": [
       "Text(0.5,1,'Cost funcion J Vs. Iterations')"
      ]
     },
     "execution_count": 693,
     "metadata": {},
     "output_type": "execute_result"
    },
    {
     "data": {
      "image/png": "[encoded data removed]",
      "text/plain": [
       "<matplotlib.figure.Figure at 0x9c087d9978>"
      ]
     },
     "metadata": {
      "needs_background": "light"
     },
     "output_type": "display_data"
    }
   ],
   "source": [
    "# For Subtracted set\n",
    "\n",
    "Iterations = list(range(500))\n",
    "plt.plot(Iterations,costList_subtract,'r-')\n",
    "plt.ylabel(\"Cost funcion subtract ----->\")\n",
    "plt.xlabel(\"Iterations ----->\")\n",
    "plt.title(\"Cost funcion J Vs. Iterations\")"
   ]
  },
  {
   "cell_type": "code",
   "execution_count": null,
   "metadata": {},
   "outputs": [],
   "source": []
  },
  {
   "cell_type": "markdown",
   "metadata": {},
   "source": [
    "# Artificial Neural Network"
   ]
  },
  {
   "cell_type": "code",
   "execution_count": 694,
   "metadata": {},
   "outputs": [
    {
     "data": {
      "text/html": [
       "<div>\n",
       "<style scoped>\n",
       "    .dataframe tbody tr th:only-of-type {\n",
       "        vertical-align: middle;\n",
       "    }\n",
       "\n",
       "    .dataframe tbody tr th {\n",
       "        vertical-align: top;\n",
       "    }\n",
       "\n",
       "    .dataframe thead th {\n",
       "        text-align: right;\n",
       "    }\n",
       "</style>\n",
       "<table border=\"1\" class=\"dataframe\">\n",
       "  <thead>\n",
       "    <tr style=\"text-align: right;\">\n",
       "      <th></th>\n",
       "      <th>Bias</th>\n",
       "      <th>f1</th>\n",
       "      <th>f2</th>\n",
       "      <th>f3</th>\n",
       "      <th>f4</th>\n",
       "      <th>f5</th>\n",
       "      <th>f6</th>\n",
       "      <th>f7</th>\n",
       "      <th>f8</th>\n",
       "      <th>f9</th>\n",
       "      <th>f10</th>\n",
       "      <th>f11</th>\n",
       "      <th>f12</th>\n",
       "      <th>f13</th>\n",
       "      <th>f14</th>\n",
       "      <th>f15</th>\n",
       "      <th>f16</th>\n",
       "      <th>f17</th>\n",
       "      <th>f18</th>\n",
       "    </tr>\n",
       "  </thead>\n",
       "  <tbody>\n",
       "    <tr>\n",
       "      <th>0</th>\n",
       "      <td>1.0</td>\n",
       "      <td>3</td>\n",
       "      <td>1</td>\n",
       "      <td>1</td>\n",
       "      <td>0</td>\n",
       "      <td>1</td>\n",
       "      <td>2</td>\n",
       "      <td>0</td>\n",
       "      <td>1</td>\n",
       "      <td>2</td>\n",
       "      <td>1</td>\n",
       "      <td>4</td>\n",
       "      <td>1</td>\n",
       "      <td>3</td>\n",
       "      <td>2</td>\n",
       "      <td>3</td>\n",
       "      <td>1</td>\n",
       "      <td>2</td>\n",
       "      <td>2</td>\n",
       "    </tr>\n",
       "    <tr>\n",
       "      <th>1</th>\n",
       "      <td>1.0</td>\n",
       "      <td>2</td>\n",
       "      <td>1</td>\n",
       "      <td>1</td>\n",
       "      <td>0</td>\n",
       "      <td>2</td>\n",
       "      <td>2</td>\n",
       "      <td>0</td>\n",
       "      <td>2</td>\n",
       "      <td>2</td>\n",
       "      <td>2</td>\n",
       "      <td>1</td>\n",
       "      <td>1</td>\n",
       "      <td>1</td>\n",
       "      <td>2</td>\n",
       "      <td>3</td>\n",
       "      <td>0</td>\n",
       "      <td>4</td>\n",
       "      <td>2</td>\n",
       "    </tr>\n",
       "    <tr>\n",
       "      <th>2</th>\n",
       "      <td>1.0</td>\n",
       "      <td>2</td>\n",
       "      <td>1</td>\n",
       "      <td>1</td>\n",
       "      <td>0</td>\n",
       "      <td>2</td>\n",
       "      <td>2</td>\n",
       "      <td>0</td>\n",
       "      <td>1</td>\n",
       "      <td>2</td>\n",
       "      <td>2</td>\n",
       "      <td>2</td>\n",
       "      <td>1</td>\n",
       "      <td>0</td>\n",
       "      <td>2</td>\n",
       "      <td>2</td>\n",
       "      <td>0</td>\n",
       "      <td>3</td>\n",
       "      <td>2</td>\n",
       "    </tr>\n",
       "    <tr>\n",
       "      <th>3</th>\n",
       "      <td>1.0</td>\n",
       "      <td>0</td>\n",
       "      <td>1</td>\n",
       "      <td>1</td>\n",
       "      <td>1</td>\n",
       "      <td>2</td>\n",
       "      <td>2</td>\n",
       "      <td>1</td>\n",
       "      <td>2</td>\n",
       "      <td>1</td>\n",
       "      <td>1</td>\n",
       "      <td>4</td>\n",
       "      <td>1</td>\n",
       "      <td>3</td>\n",
       "      <td>2</td>\n",
       "      <td>3</td>\n",
       "      <td>1</td>\n",
       "      <td>2</td>\n",
       "      <td>2</td>\n",
       "    </tr>\n",
       "    <tr>\n",
       "      <th>4</th>\n",
       "      <td>1.0</td>\n",
       "      <td>2</td>\n",
       "      <td>1</td>\n",
       "      <td>1</td>\n",
       "      <td>0</td>\n",
       "      <td>2</td>\n",
       "      <td>2</td>\n",
       "      <td>0</td>\n",
       "      <td>2</td>\n",
       "      <td>2</td>\n",
       "      <td>3</td>\n",
       "      <td>1</td>\n",
       "      <td>1</td>\n",
       "      <td>0</td>\n",
       "      <td>2</td>\n",
       "      <td>1</td>\n",
       "      <td>1</td>\n",
       "      <td>2</td>\n",
       "      <td>2</td>\n",
       "    </tr>\n",
       "  </tbody>\n",
       "</table>\n",
       "</div>"
      ],
      "text/plain": [
       "   Bias f1 f2 f3 f4 f5 f6 f7 f8 f9 f10 f11 f12 f13 f14 f15 f16 f17 f18\n",
       "0   1.0  3  1  1  0  1  2  0  1  2   1   4   1   3   2   3   1   2   2\n",
       "1   1.0  2  1  1  0  2  2  0  2  2   2   1   1   1   2   3   0   4   2\n",
       "2   1.0  2  1  1  0  2  2  0  1  2   2   2   1   0   2   2   0   3   2\n",
       "3   1.0  0  1  1  1  2  2  1  2  1   1   4   1   3   2   3   1   2   2\n",
       "4   1.0  2  1  1  0  2  2  0  2  2   3   1   1   0   2   1   1   2   2"
      ]
     },
     "execution_count": 694,
     "metadata": {},
     "output_type": "execute_result"
    }
   ],
   "source": [
    "ConcatenatedFeatures_.head()"
   ]
  },
  {
   "cell_type": "code",
   "execution_count": 695,
   "metadata": {},
   "outputs": [
    {
     "data": {
      "text/html": [
       "<div>\n",
       "<style scoped>\n",
       "    .dataframe tbody tr th:only-of-type {\n",
       "        vertical-align: middle;\n",
       "    }\n",
       "\n",
       "    .dataframe tbody tr th {\n",
       "        vertical-align: top;\n",
       "    }\n",
       "\n",
       "    .dataframe thead th {\n",
       "        text-align: right;\n",
       "    }\n",
       "</style>\n",
       "<table border=\"1\" class=\"dataframe\">\n",
       "  <thead>\n",
       "    <tr style=\"text-align: right;\">\n",
       "      <th></th>\n",
       "      <th>Bias</th>\n",
       "      <th>f1</th>\n",
       "      <th>f2</th>\n",
       "      <th>f3</th>\n",
       "      <th>f4</th>\n",
       "      <th>f5</th>\n",
       "      <th>f6</th>\n",
       "      <th>f7</th>\n",
       "      <th>f8</th>\n",
       "      <th>f9</th>\n",
       "    </tr>\n",
       "  </thead>\n",
       "  <tbody>\n",
       "    <tr>\n",
       "      <th>0</th>\n",
       "      <td>1.0</td>\n",
       "      <td>2</td>\n",
       "      <td>3</td>\n",
       "      <td>0</td>\n",
       "      <td>3</td>\n",
       "      <td>1</td>\n",
       "      <td>1</td>\n",
       "      <td>1</td>\n",
       "      <td>1</td>\n",
       "      <td>0</td>\n",
       "    </tr>\n",
       "    <tr>\n",
       "      <th>1</th>\n",
       "      <td>1.0</td>\n",
       "      <td>0</td>\n",
       "      <td>0</td>\n",
       "      <td>0</td>\n",
       "      <td>1</td>\n",
       "      <td>0</td>\n",
       "      <td>1</td>\n",
       "      <td>0</td>\n",
       "      <td>2</td>\n",
       "      <td>0</td>\n",
       "    </tr>\n",
       "    <tr>\n",
       "      <th>2</th>\n",
       "      <td>1.0</td>\n",
       "      <td>0</td>\n",
       "      <td>1</td>\n",
       "      <td>0</td>\n",
       "      <td>0</td>\n",
       "      <td>0</td>\n",
       "      <td>0</td>\n",
       "      <td>0</td>\n",
       "      <td>2</td>\n",
       "      <td>0</td>\n",
       "    </tr>\n",
       "    <tr>\n",
       "      <th>3</th>\n",
       "      <td>1.0</td>\n",
       "      <td>1</td>\n",
       "      <td>3</td>\n",
       "      <td>0</td>\n",
       "      <td>2</td>\n",
       "      <td>0</td>\n",
       "      <td>1</td>\n",
       "      <td>0</td>\n",
       "      <td>0</td>\n",
       "      <td>1</td>\n",
       "    </tr>\n",
       "    <tr>\n",
       "      <th>4</th>\n",
       "      <td>1.0</td>\n",
       "      <td>1</td>\n",
       "      <td>0</td>\n",
       "      <td>0</td>\n",
       "      <td>0</td>\n",
       "      <td>0</td>\n",
       "      <td>1</td>\n",
       "      <td>1</td>\n",
       "      <td>0</td>\n",
       "      <td>0</td>\n",
       "    </tr>\n",
       "  </tbody>\n",
       "</table>\n",
       "</div>"
      ],
      "text/plain": [
       "   Bias f1 f2 f3 f4 f5 f6 f7 f8 f9\n",
       "0   1.0  2  3  0  3  1  1  1  1  0\n",
       "1   1.0  0  0  0  1  0  1  0  2  0\n",
       "2   1.0  0  1  0  0  0  0  0  2  0\n",
       "3   1.0  1  3  0  2  0  1  0  0  1\n",
       "4   1.0  1  0  0  0  0  1  1  0  0"
      ]
     },
     "execution_count": 695,
     "metadata": {},
     "output_type": "execute_result"
    }
   ],
   "source": [
    "subtractedFeatures_.head()"
   ]
  },
  {
   "cell_type": "code",
   "execution_count": 696,
   "metadata": {},
   "outputs": [
    {
     "data": {
      "text/plain": [
       "array([[2, 3, 0, ..., 1, 1, 0],\n",
       "       [0, 0, 0, ..., 0, 2, 0],\n",
       "       [0, 1, 0, ..., 0, 2, 0],\n",
       "       ..., \n",
       "       [0, 1, 0, ..., 0, 3, 1],\n",
       "       [0, 0, 0, ..., 1, 2, 0],\n",
       "       [1, 0, 0, ..., 0, 3, 0]], dtype=object)"
      ]
     },
     "execution_count": 696,
     "metadata": {},
     "output_type": "execute_result"
    }
   ],
   "source": [
    "subtractedFeatures_.values[:,1:]"
   ]
  },
  {
   "cell_type": "markdown",
   "metadata": {},
   "source": [
    "# Training the Model"
   ]
  },
  {
   "cell_type": "code",
   "execution_count": 697,
   "metadata": {},
   "outputs": [],
   "source": [
    "from sklearn.model_selection import train_test_split"
   ]
  },
  {
   "cell_type": "code",
   "execution_count": 698,
   "metadata": {},
   "outputs": [],
   "source": [
    "# For concatenated set\n",
    "\n",
    "X_train_concat, X_test_concat, y_train_concat, y_test_concat = train_test_split(ConcatenatedFeatures_.values[:,1:], ConcatenatedFeatures['target'].values,test_size =0.2,random_state=0)"
   ]
  },
  {
   "cell_type": "code",
   "execution_count": 699,
   "metadata": {},
   "outputs": [],
   "source": [
    "# For subtracted set\n",
    "\n",
    "X_train_subtract, X_test_subtract, y_train_subtract, y_test_subtract = train_test_split(subtractedFeatures_.values[:,1:], subtractedFeatures['target'].values,test_size =0.2,random_state=0)"
   ]
  },
  {
   "cell_type": "code",
   "execution_count": 700,
   "metadata": {},
   "outputs": [],
   "source": [
    "import keras\n",
    "from keras.models import Sequential\n",
    "from keras.layers import Dense"
   ]
  },
  {
   "cell_type": "code",
   "execution_count": 701,
   "metadata": {},
   "outputs": [],
   "source": [
    "# Initialising the ANN"
   ]
  },
  {
   "cell_type": "code",
   "execution_count": 702,
   "metadata": {},
   "outputs": [],
   "source": [
    "classifier_concat = Sequential()\n",
    "classifier_subtract =Sequential()"
   ]
  },
  {
   "cell_type": "code",
   "execution_count": 703,
   "metadata": {},
   "outputs": [],
   "source": [
    "# Adding the input layer and the first hidden layer"
   ]
  },
  {
   "cell_type": "code",
   "execution_count": 731,
   "metadata": {},
   "outputs": [],
   "source": [
    "# For concatenated dataset\n",
    "\n",
    "classifier_concat.add(Dense(units=64, kernel_initializer='uniform',activation='relu',input_dim=18))\n",
    "\n",
    "# For subtracted dataset\n",
    "\n",
    "classifier_subtract.add(Dense(units=64, kernel_initializer='uniform',activation='relu',input_dim=9))"
   ]
  },
  {
   "cell_type": "code",
   "execution_count": 732,
   "metadata": {},
   "outputs": [],
   "source": [
    "# For concatenated dataset\n",
    "\n",
    "classifier_concat.add(Dense(units=1, kernel_initializer='uniform',activation='sigmoid'))\n",
    "\n",
    "# For subtracted dataset\n",
    "\n",
    "classifier_subtract.add(Dense(units=1, kernel_initializer='uniform',activation='sigmoid'))"
   ]
  },
  {
   "cell_type": "code",
   "execution_count": 733,
   "metadata": {},
   "outputs": [],
   "source": [
    "# Compiling the ANN"
   ]
  },
  {
   "cell_type": "code",
   "execution_count": 734,
   "metadata": {},
   "outputs": [],
   "source": [
    "# For concatenated dataset\n",
    "\n",
    "classifier_concat.compile(optimizer='sgd',loss ='binary_crossentropy', metrics=['accuracy'])\n",
    "\n",
    "# For subtracted dataset\n",
    "\n",
    "classifier_subtract.compile(optimizer='sgd',loss ='binary_crossentropy', metrics=['accuracy'])"
   ]
  },
  {
   "cell_type": "code",
   "execution_count": 735,
   "metadata": {},
   "outputs": [
    {
     "name": "stdout",
     "output_type": "stream",
     "text": [
      "Epoch 1/100\n",
      "1265/1265 [==============================] - ETA: 38s - loss: 0.6926 - acc: 0.54 - ETA: 0s - loss: 0.6924 - acc: 0.6744 - ETA: 0s - loss: 0.6922 - acc: 0.761 - 1s 687us/step - loss: 0.6921 - acc: 0.7858\n",
      "Epoch 2/100\n",
      "1265/1265 [==============================] - ETA: 0s - loss: 0.6913 - acc: 0.958 - ETA: 0s - loss: 0.6912 - acc: 0.943 - ETA: 0s - loss: 0.6911 - acc: 0.951 - ETA: 0s - loss: 0.6909 - acc: 0.963 - 0s 165us/step - loss: 0.6908 - acc: 0.9644\n",
      "Epoch 3/100\n",
      "1265/1265 [==============================] - ETA: 0s - loss: 0.6903 - acc: 1.000 - ETA: 0s - loss: 0.6898 - acc: 0.954 - ETA: 0s - loss: 0.6895 - acc: 0.830 - 0s 102us/step - loss: 0.6894 - acc: 0.8545\n",
      "Epoch 4/100\n",
      "1265/1265 [==============================] - ETA: 0s - loss: 0.6885 - acc: 0.958 - ETA: 0s - loss: 0.6884 - acc: 0.981 - ETA: 0s - loss: 0.6880 - acc: 0.986 - 0s 108us/step - loss: 0.6878 - acc: 0.9858\n",
      "Epoch 5/100\n",
      "1265/1265 [==============================] - ETA: 0s - loss: 0.6860 - acc: 1.000 - ETA: 0s - loss: 0.6864 - acc: 0.989 - ETA: 0s - loss: 0.6860 - acc: 0.987 - 0s 102us/step - loss: 0.6859 - acc: 0.9850\n",
      "Epoch 6/100\n",
      "1265/1265 [==============================] - ETA: 0s - loss: 0.6840 - acc: 0.958 - ETA: 0s - loss: 0.6843 - acc: 0.978 - ETA: 0s - loss: 0.6838 - acc: 0.983 - 0s 102us/step - loss: 0.6836 - acc: 0.9850\n",
      "Epoch 7/100\n",
      "1265/1265 [==============================] - ETA: 0s - loss: 0.6812 - acc: 1.000 - ETA: 0s - loss: 0.6815 - acc: 0.987 - ETA: 0s - loss: 0.6811 - acc: 0.984 - 0s 103us/step - loss: 0.6809 - acc: 0.9842\n",
      "Epoch 8/100\n",
      "1265/1265 [==============================] - ETA: 0s - loss: 0.6789 - acc: 1.000 - ETA: 0s - loss: 0.6786 - acc: 0.984 - ETA: 0s - loss: 0.6777 - acc: 0.983 - 0s 99us/step - loss: 0.6776 - acc: 0.9850\n",
      "Epoch 9/100\n",
      "1265/1265 [==============================] - ETA: 0s - loss: 0.6750 - acc: 0.958 - ETA: 0s - loss: 0.6749 - acc: 0.979 - 0s 72us/step - loss: 0.6735 - acc: 0.9842\n",
      "Epoch 10/100\n",
      "1265/1265 [==============================] - ETA: 0s - loss: 0.6715 - acc: 1.000 - ETA: 0s - loss: 0.6702 - acc: 0.983 - 0s 79us/step - loss: 0.6685 - acc: 0.9850\n",
      "Epoch 11/100\n",
      "1265/1265 [==============================] - ETA: 0s - loss: 0.6599 - acc: 1.000 - ETA: 0s - loss: 0.6645 - acc: 0.987 - ETA: 0s - loss: 0.6633 - acc: 0.984 - 0s 106us/step - loss: 0.6624 - acc: 0.9850\n",
      "Epoch 12/100\n",
      "1265/1265 [==============================] - ETA: 0s - loss: 0.6621 - acc: 0.958 - ETA: 0s - loss: 0.6588 - acc: 0.983 - ETA: 0s - loss: 0.6558 - acc: 0.983 - 0s 105us/step - loss: 0.6550 - acc: 0.9850\n",
      "Epoch 13/100\n",
      "1265/1265 [==============================] - ETA: 0s - loss: 0.6466 - acc: 1.000 - ETA: 0s - loss: 0.6486 - acc: 0.986 - ETA: 0s - loss: 0.6467 - acc: 0.984 - 0s 97us/step - loss: 0.6461 - acc: 0.9850\n",
      "Epoch 14/100\n",
      "1265/1265 [==============================] - ETA: 0s - loss: 0.6434 - acc: 1.000 - ETA: 0s - loss: 0.6382 - acc: 0.982 - ETA: 0s - loss: 0.6357 - acc: 0.985 - 0s 103us/step - loss: 0.6354 - acc: 0.9850\n",
      "Epoch 15/100\n",
      "1265/1265 [==============================] - ETA: 0s - loss: 0.6212 - acc: 1.000 - ETA: 0s - loss: 0.6272 - acc: 0.989 - ETA: 0s - loss: 0.6230 - acc: 0.986 - 0s 100us/step - loss: 0.6229 - acc: 0.9858\n",
      "Epoch 16/100\n",
      "1265/1265 [==============================] - ETA: 0s - loss: 0.6228 - acc: 1.000 - ETA: 0s - loss: 0.6141 - acc: 0.986 - ETA: 0s - loss: 0.6100 - acc: 0.984 - 0s 102us/step - loss: 0.6082 - acc: 0.9850\n",
      "Epoch 17/100\n",
      "1265/1265 [==============================] - ETA: 0s - loss: 0.6170 - acc: 1.000 - ETA: 0s - loss: 0.5971 - acc: 0.987 - ETA: 0s - loss: 0.5918 - acc: 0.987 - 0s 100us/step - loss: 0.5913 - acc: 0.9850\n",
      "Epoch 18/100\n",
      "1265/1265 [==============================] - ETA: 0s - loss: 0.5825 - acc: 0.958 - ETA: 0s - loss: 0.5748 - acc: 0.978 - ETA: 0s - loss: 0.5737 - acc: 0.985 - 0s 102us/step - loss: 0.5724 - acc: 0.9850\n",
      "Epoch 19/100\n",
      "1265/1265 [==============================] - ETA: 0s - loss: 0.5570 - acc: 0.958 - ETA: 0s - loss: 0.5539 - acc: 0.989 - ETA: 0s - loss: 0.5529 - acc: 0.983 - 0s 104us/step - loss: 0.5516 - acc: 0.9850\n",
      "Epoch 20/100\n",
      "1265/1265 [==============================] - ETA: 0s - loss: 0.5463 - acc: 1.000 - ETA: 0s - loss: 0.5373 - acc: 0.982 - ETA: 0s - loss: 0.5303 - acc: 0.981 - 0s 100us/step - loss: 0.5293 - acc: 0.9842\n",
      "Epoch 21/100\n",
      "1265/1265 [==============================] - ETA: 0s - loss: 0.4857 - acc: 1.000 - ETA: 0s - loss: 0.5119 - acc: 0.986 - ETA: 0s - loss: 0.5068 - acc: 0.984 - 0s 101us/step - loss: 0.5057 - acc: 0.9850\n",
      "Epoch 22/100\n",
      "1265/1265 [==============================] - ETA: 0s - loss: 0.4934 - acc: 1.000 - ETA: 0s - loss: 0.4929 - acc: 0.986 - ETA: 0s - loss: 0.4828 - acc: 0.985 - 0s 98us/step - loss: 0.4814 - acc: 0.9842\n",
      "Epoch 23/100\n",
      "1265/1265 [==============================] - ETA: 0s - loss: 0.5235 - acc: 0.916 - ETA: 0s - loss: 0.4622 - acc: 0.987 - ETA: 0s - loss: 0.4572 - acc: 0.986 - 0s 98us/step - loss: 0.4570 - acc: 0.9850\n",
      "Epoch 24/100\n",
      "1265/1265 [==============================] - ETA: 0s - loss: 0.4536 - acc: 1.000 - ETA: 0s - loss: 0.4400 - acc: 0.989 - ETA: 0s - loss: 0.4363 - acc: 0.986 - 0s 100us/step - loss: 0.4330 - acc: 0.9842\n",
      "Epoch 25/100\n",
      "1265/1265 [==============================] - ETA: 0s - loss: 0.4069 - acc: 1.000 - ETA: 0s - loss: 0.4244 - acc: 0.985 - ETA: 0s - loss: 0.4119 - acc: 0.983 - 0s 103us/step - loss: 0.4096 - acc: 0.9842\n",
      "Epoch 26/100\n",
      "1265/1265 [==============================] - ETA: 0s - loss: 0.3849 - acc: 1.000 - ETA: 0s - loss: 0.3975 - acc: 0.981 - ETA: 0s - loss: 0.3895 - acc: 0.983 - 0s 103us/step - loss: 0.3873 - acc: 0.9842\n",
      "Epoch 27/100\n",
      "1265/1265 [==============================] - ETA: 0s - loss: 0.3254 - acc: 1.000 - ETA: 0s - loss: 0.3726 - acc: 0.981 - ETA: 0s - loss: 0.3704 - acc: 0.984 - 0s 104us/step - loss: 0.3662 - acc: 0.9842\n",
      "Epoch 28/100\n",
      "1265/1265 [==============================] - ETA: 0s - loss: 0.3053 - acc: 1.000 - ETA: 0s - loss: 0.3454 - acc: 0.989 - ETA: 0s - loss: 0.3474 - acc: 0.984 - 0s 98us/step - loss: 0.3464 - acc: 0.9842\n",
      "Epoch 29/100\n",
      "1265/1265 [==============================] - ETA: 0s - loss: 0.3346 - acc: 0.958 - ETA: 0s - loss: 0.3302 - acc: 0.988 - ETA: 0s - loss: 0.3295 - acc: 0.982 - 0s 100us/step - loss: 0.3279 - acc: 0.9842\n",
      "Epoch 30/100\n",
      "1265/1265 [==============================] - ETA: 0s - loss: 0.3412 - acc: 0.916 - ETA: 0s - loss: 0.3128 - acc: 0.990 - ETA: 0s - loss: 0.3140 - acc: 0.983 - 0s 98us/step - loss: 0.3107 - acc: 0.9842\n",
      "Epoch 31/100\n",
      "1265/1265 [==============================] - ETA: 0s - loss: 0.2493 - acc: 1.000 - ETA: 0s - loss: 0.2956 - acc: 0.984 - ETA: 0s - loss: 0.2981 - acc: 0.982 - 0s 105us/step - loss: 0.2948 - acc: 0.9842\n",
      "Epoch 32/100\n",
      "1265/1265 [==============================] - ETA: 0s - loss: 0.2540 - acc: 1.000 - ETA: 0s - loss: 0.2856 - acc: 0.985 - ETA: 0s - loss: 0.2803 - acc: 0.983 - 0s 101us/step - loss: 0.2800 - acc: 0.9850\n",
      "Epoch 33/100\n",
      "1265/1265 [==============================] - ETA: 0s - loss: 0.3201 - acc: 0.958 - ETA: 0s - loss: 0.2672 - acc: 0.986 - ETA: 0s - loss: 0.2668 - acc: 0.985 - 0s 100us/step - loss: 0.2665 - acc: 0.9842\n",
      "Epoch 34/100\n",
      "1265/1265 [==============================] - ETA: 0s - loss: 0.3087 - acc: 1.000 - ETA: 0s - loss: 0.2615 - acc: 0.985 - ETA: 0s - loss: 0.2562 - acc: 0.984 - 0s 97us/step - loss: 0.2538 - acc: 0.9842\n",
      "Epoch 35/100\n",
      "1265/1265 [==============================] - ETA: 0s - loss: 0.2168 - acc: 1.000 - ETA: 0s - loss: 0.2466 - acc: 0.984 - ETA: 0s - loss: 0.2444 - acc: 0.984 - 0s 106us/step - loss: 0.2421 - acc: 0.9842\n",
      "Epoch 36/100\n",
      "1265/1265 [==============================] - ETA: 0s - loss: 0.2914 - acc: 0.958 - ETA: 0s - loss: 0.2372 - acc: 0.986 - ETA: 0s - loss: 0.2318 - acc: 0.985 - 0s 99us/step - loss: 0.2314 - acc: 0.9842\n",
      "Epoch 37/100\n",
      "1265/1265 [==============================] - ETA: 0s - loss: 0.2156 - acc: 1.000 - ETA: 0s - loss: 0.2232 - acc: 0.990 - ETA: 0s - loss: 0.2213 - acc: 0.982 - 0s 99us/step - loss: 0.2214 - acc: 0.9842\n",
      "Epoch 38/100\n",
      "1265/1265 [==============================] - ETA: 0s - loss: 0.1847 - acc: 1.000 - ETA: 0s - loss: 0.2124 - acc: 0.987 - ETA: 0s - loss: 0.2142 - acc: 0.984 - 0s 101us/step - loss: 0.2120 - acc: 0.9858\n",
      "Epoch 39/100\n",
      "1265/1265 [==============================] - ETA: 0s - loss: 0.2479 - acc: 0.958 - ETA: 0s - loss: 0.2034 - acc: 0.986 - ETA: 0s - loss: 0.2038 - acc: 0.985 - 0s 104us/step - loss: 0.2033 - acc: 0.9850\n",
      "Epoch 40/100\n",
      "1265/1265 [==============================] - ETA: 0s - loss: 0.1892 - acc: 1.000 - ETA: 0s - loss: 0.1938 - acc: 0.985 - ETA: 0s - loss: 0.1951 - acc: 0.986 - 0s 107us/step - loss: 0.1953 - acc: 0.9850\n",
      "Epoch 41/100\n",
      "1265/1265 [==============================] - ETA: 0s - loss: 0.2082 - acc: 1.000 - ETA: 0s - loss: 0.1969 - acc: 0.985 - ETA: 0s - loss: 0.1878 - acc: 0.986 - 0s 101us/step - loss: 0.1881 - acc: 0.9858\n",
      "Epoch 42/100\n",
      "1265/1265 [==============================] - ETA: 0s - loss: 0.1571 - acc: 1.000 - ETA: 0s - loss: 0.1898 - acc: 0.981 - ETA: 0s - loss: 0.1822 - acc: 0.985 - 0s 104us/step - loss: 0.1809 - acc: 0.9858\n",
      "Epoch 43/100\n",
      "1265/1265 [==============================] - ETA: 0s - loss: 0.2024 - acc: 0.958 - ETA: 0s - loss: 0.1757 - acc: 0.990 - ETA: 0s - loss: 0.1752 - acc: 0.988 - 0s 104us/step - loss: 0.1742 - acc: 0.9866\n",
      "Epoch 44/100\n",
      "1265/1265 [==============================] - ETA: 0s - loss: 0.1536 - acc: 1.000 - ETA: 0s - loss: 0.1786 - acc: 0.984 - ETA: 0s - loss: 0.1653 - acc: 0.989 - 0s 104us/step - loss: 0.1683 - acc: 0.9866\n",
      "Epoch 45/100\n",
      "1265/1265 [==============================] - ETA: 0s - loss: 0.1518 - acc: 1.000 - ETA: 0s - loss: 0.1638 - acc: 0.987 - ETA: 0s - loss: 0.1606 - acc: 0.988 - 0s 104us/step - loss: 0.1621 - acc: 0.9874\n",
      "Epoch 46/100\n",
      "1265/1265 [==============================] - ETA: 0s - loss: 0.1336 - acc: 1.000 - ETA: 0s - loss: 0.1562 - acc: 0.990 - ETA: 0s - loss: 0.1582 - acc: 0.986 - 0s 102us/step - loss: 0.1567 - acc: 0.9866\n",
      "Epoch 47/100\n",
      "1265/1265 [==============================] - ETA: 0s - loss: 0.1701 - acc: 1.000 - ETA: 0s - loss: 0.1510 - acc: 0.986 - ETA: 0s - loss: 0.1548 - acc: 0.985 - 0s 104us/step - loss: 0.1514 - acc: 0.9874\n",
      "Epoch 48/100\n",
      "1265/1265 [==============================] - ETA: 0s - loss: 0.1304 - acc: 1.000 - ETA: 0s - loss: 0.1438 - acc: 0.990 - ETA: 0s - loss: 0.1453 - acc: 0.987 - 0s 102us/step - loss: 0.1468 - acc: 0.9866\n",
      "Epoch 49/100\n",
      "1265/1265 [==============================] - ETA: 0s - loss: 0.1241 - acc: 1.000 - ETA: 0s - loss: 0.1375 - acc: 0.990 - ETA: 0s - loss: 0.1396 - acc: 0.988 - 0s 102us/step - loss: 0.1421 - acc: 0.9866\n",
      "Epoch 50/100\n",
      "1265/1265 [==============================] - ETA: 0s - loss: 0.1267 - acc: 1.000 - ETA: 0s - loss: 0.1405 - acc: 0.984 - ETA: 0s - loss: 0.1399 - acc: 0.985 - 0s 108us/step - loss: 0.1383 - acc: 0.9866\n",
      "Epoch 51/100\n",
      "1265/1265 [==============================] - ETA: 0s - loss: 0.1505 - acc: 0.958 - ETA: 0s - loss: 0.1347 - acc: 0.987 - 0s 78us/step - loss: 0.1339 - acc: 0.9874\n",
      "Epoch 52/100\n",
      "1265/1265 [==============================] - ETA: 0s - loss: 0.1161 - acc: 1.000 - ETA: 0s - loss: 0.1340 - acc: 0.986 - ETA: 0s - loss: 0.1304 - acc: 0.988 - 0s 103us/step - loss: 0.1300 - acc: 0.9881\n",
      "Epoch 53/100\n",
      "1265/1265 [==============================] - ETA: 0s - loss: 0.1183 - acc: 1.000 - ETA: 0s - loss: 0.1294 - acc: 0.986 - ETA: 0s - loss: 0.1243 - acc: 0.989 - 0s 100us/step - loss: 0.1258 - acc: 0.9889\n",
      "Epoch 54/100\n",
      "1265/1265 [==============================] - ETA: 0s - loss: 0.1161 - acc: 1.000 - ETA: 0s - loss: 0.1161 - acc: 0.990 - ETA: 0s - loss: 0.1212 - acc: 0.989 - 0s 103us/step - loss: 0.1234 - acc: 0.9881\n",
      "Epoch 55/100\n",
      "1265/1265 [==============================] - ETA: 0s - loss: 0.1006 - acc: 1.000 - ETA: 0s - loss: 0.1222 - acc: 0.985 - ETA: 0s - loss: 0.1171 - acc: 0.989 - 0s 104us/step - loss: 0.1190 - acc: 0.9889\n",
      "Epoch 56/100\n",
      "1265/1265 [==============================] - ETA: 0s - loss: 0.0748 - acc: 1.000 - ETA: 0s - loss: 0.1204 - acc: 0.989 - ETA: 0s - loss: 0.1109 - acc: 0.992 - 0s 106us/step - loss: 0.1164 - acc: 0.9881\n",
      "Epoch 57/100\n",
      "1265/1265 [==============================] - ETA: 0s - loss: 0.1723 - acc: 0.958 - ETA: 0s - loss: 0.1185 - acc: 0.986 - ETA: 0s - loss: 0.1132 - acc: 0.989 - 0s 104us/step - loss: 0.1133 - acc: 0.9889\n",
      "Epoch 58/100\n",
      "1265/1265 [==============================] - ETA: 0s - loss: 0.0928 - acc: 1.000 - ETA: 0s - loss: 0.1182 - acc: 0.983 - ETA: 0s - loss: 0.1127 - acc: 0.988 - 0s 106us/step - loss: 0.1102 - acc: 0.9897\n",
      "Epoch 59/100\n",
      "1265/1265 [==============================] - ETA: 0s - loss: 0.0922 - acc: 1.000 - ETA: 0s - loss: 0.1124 - acc: 0.987 - ETA: 0s - loss: 0.1098 - acc: 0.988 - 0s 100us/step - loss: 0.1077 - acc: 0.9889\n",
      "Epoch 60/100\n",
      "1265/1265 [==============================] - ETA: 0s - loss: 0.1236 - acc: 0.958 - ETA: 0s - loss: 0.1205 - acc: 0.981 - ETA: 0s - loss: 0.1075 - acc: 0.988 - 0s 103us/step - loss: 0.1042 - acc: 0.9897\n",
      "Epoch 61/100\n",
      "1265/1265 [==============================] - ETA: 0s - loss: 0.1007 - acc: 1.000 - ETA: 0s - loss: 0.1067 - acc: 0.987 - ETA: 0s - loss: 0.1022 - acc: 0.990 - 0s 101us/step - loss: 0.1025 - acc: 0.9897\n",
      "Epoch 62/100\n",
      "1265/1265 [==============================] - ETA: 0s - loss: 0.0945 - acc: 1.000 - ETA: 0s - loss: 0.1033 - acc: 0.989 - ETA: 0s - loss: 0.0968 - acc: 0.990 - 0s 102us/step - loss: 0.0993 - acc: 0.9905\n",
      "Epoch 63/100\n",
      "1265/1265 [==============================] - ETA: 0s - loss: 0.0735 - acc: 1.000 - ETA: 0s - loss: 0.1015 - acc: 0.987 - ETA: 0s - loss: 0.1004 - acc: 0.988 - 0s 103us/step - loss: 0.0982 - acc: 0.9905\n",
      "Epoch 64/100\n",
      "1265/1265 [==============================] - ETA: 0s - loss: 0.0632 - acc: 1.000 - ETA: 0s - loss: 0.0934 - acc: 0.992 - ETA: 0s - loss: 0.0955 - acc: 0.990 - 0s 101us/step - loss: 0.0948 - acc: 0.9913\n",
      "Epoch 65/100\n",
      "1265/1265 [==============================] - ETA: 0s - loss: 0.0692 - acc: 1.000 - ETA: 0s - loss: 0.1038 - acc: 0.985 - ETA: 0s - loss: 0.0958 - acc: 0.989 - 0s 106us/step - loss: 0.0930 - acc: 0.9913\n",
      "Epoch 66/100\n",
      "1265/1265 [==============================] - ETA: 0s - loss: 0.0720 - acc: 1.000 - ETA: 0s - loss: 0.0949 - acc: 0.990 - ETA: 0s - loss: 0.0905 - acc: 0.992 - 0s 101us/step - loss: 0.0911 - acc: 0.9913\n",
      "Epoch 67/100\n",
      "1265/1265 [==============================] - ETA: 0s - loss: 0.0654 - acc: 1.000 - ETA: 0s - loss: 0.0774 - acc: 0.995 - ETA: 0s - loss: 0.0875 - acc: 0.992 - 0s 98us/step - loss: 0.0889 - acc: 0.9913\n",
      "Epoch 68/100\n",
      "1265/1265 [==============================] - ETA: 0s - loss: 0.1498 - acc: 0.958 - ETA: 0s - loss: 0.1005 - acc: 0.984 - ETA: 0s - loss: 0.0884 - acc: 0.989 - 0s 104us/step - loss: 0.0876 - acc: 0.9905\n",
      "Epoch 69/100\n",
      "1265/1265 [==============================] - ETA: 0s - loss: 0.1637 - acc: 0.958 - ETA: 0s - loss: 0.0917 - acc: 0.988 - ETA: 0s - loss: 0.0877 - acc: 0.990 - 0s 104us/step - loss: 0.0856 - acc: 0.9913\n",
      "Epoch 70/100\n",
      "1265/1265 [==============================] - ETA: 0s - loss: 0.1182 - acc: 0.958 - ETA: 0s - loss: 0.0823 - acc: 0.989 - ETA: 0s - loss: 0.0826 - acc: 0.990 - 0s 98us/step - loss: 0.0839 - acc: 0.9905\n",
      "Epoch 71/100\n",
      "1265/1265 [==============================] - ETA: 0s - loss: 0.0669 - acc: 1.000 - ETA: 0s - loss: 0.0692 - acc: 0.996 - ETA: 0s - loss: 0.0787 - acc: 0.992 - 0s 100us/step - loss: 0.0813 - acc: 0.9921\n",
      "Epoch 72/100\n",
      "1265/1265 [==============================] - ETA: 0s - loss: 0.0599 - acc: 1.000 - ETA: 0s - loss: 0.0802 - acc: 0.991 - ETA: 0s - loss: 0.0783 - acc: 0.992 - 0s 101us/step - loss: 0.0802 - acc: 0.9921\n",
      "Epoch 73/100\n",
      "1265/1265 [==============================] - ETA: 0s - loss: 0.0632 - acc: 1.000 - ETA: 0s - loss: 0.0782 - acc: 0.990 - ETA: 0s - loss: 0.0774 - acc: 0.992 - 0s 106us/step - loss: 0.0778 - acc: 0.9921\n",
      "Epoch 74/100\n",
      "1265/1265 [==============================] - ETA: 0s - loss: 0.0524 - acc: 1.000 - ETA: 0s - loss: 0.0853 - acc: 0.988 - ETA: 0s - loss: 0.0768 - acc: 0.992 - 0s 104us/step - loss: 0.0764 - acc: 0.9921\n",
      "Epoch 75/100\n",
      "1265/1265 [==============================] - ETA: 0s - loss: 0.0614 - acc: 1.000 - ETA: 0s - loss: 0.0785 - acc: 0.989 - ETA: 0s - loss: 0.0783 - acc: 0.990 - 0s 105us/step - loss: 0.0748 - acc: 0.9921\n",
      "Epoch 76/100\n",
      "1265/1265 [==============================] - ETA: 0s - loss: 0.0515 - acc: 1.000 - ETA: 0s - loss: 0.0702 - acc: 0.994 - ETA: 0s - loss: 0.0724 - acc: 0.992 - 0s 103us/step - loss: 0.0736 - acc: 0.9921\n",
      "Epoch 77/100\n"
     ]
    },
    {
     "name": "stdout",
     "output_type": "stream",
     "text": [
      "1265/1265 [==============================] - ETA: 0s - loss: 0.0538 - acc: 1.000 - ETA: 0s - loss: 0.0728 - acc: 0.991 - ETA: 0s - loss: 0.0743 - acc: 0.991 - 0s 98us/step - loss: 0.0726 - acc: 0.9921\n",
      "Epoch 78/100\n",
      "1265/1265 [==============================] - ETA: 0s - loss: 0.0430 - acc: 1.000 - ETA: 0s - loss: 0.0623 - acc: 0.996 - ETA: 0s - loss: 0.0694 - acc: 0.992 - 0s 100us/step - loss: 0.0710 - acc: 0.9921\n",
      "Epoch 79/100\n",
      "1265/1265 [==============================] - ETA: 0s - loss: 0.0553 - acc: 1.000 - ETA: 0s - loss: 0.0692 - acc: 0.990 - ETA: 0s - loss: 0.0684 - acc: 0.992 - 0s 102us/step - loss: 0.0695 - acc: 0.9921\n",
      "Epoch 80/100\n",
      "1265/1265 [==============================] - ETA: 0s - loss: 0.1359 - acc: 0.958 - ETA: 0s - loss: 0.0680 - acc: 0.991 - ETA: 0s - loss: 0.0680 - acc: 0.991 - 0s 103us/step - loss: 0.0708 - acc: 0.9905\n",
      "Epoch 81/100\n",
      "1265/1265 [==============================] - ETA: 0s - loss: 0.0520 - acc: 1.000 - ETA: 0s - loss: 0.0589 - acc: 0.996 - ETA: 0s - loss: 0.0680 - acc: 0.992 - 0s 104us/step - loss: 0.0666 - acc: 0.9929\n",
      "Epoch 82/100\n",
      "1265/1265 [==============================] - ETA: 0s - loss: 0.0303 - acc: 1.000 - ETA: 0s - loss: 0.0561 - acc: 0.996 - ETA: 0s - loss: 0.0668 - acc: 0.992 - 0s 100us/step - loss: 0.0648 - acc: 0.9937\n",
      "Epoch 83/100\n",
      "1265/1265 [==============================] - ETA: 0s - loss: 0.0504 - acc: 1.000 - ETA: 0s - loss: 0.0587 - acc: 0.994 - ETA: 0s - loss: 0.0664 - acc: 0.992 - 0s 100us/step - loss: 0.0658 - acc: 0.9929\n",
      "Epoch 84/100\n",
      "1265/1265 [==============================] - ETA: 0s - loss: 0.0632 - acc: 1.000 - ETA: 0s - loss: 0.0637 - acc: 0.994 - ETA: 0s - loss: 0.0622 - acc: 0.994 - 0s 100us/step - loss: 0.0635 - acc: 0.9945\n",
      "Epoch 85/100\n",
      "1265/1265 [==============================] - ETA: 0s - loss: 0.0572 - acc: 1.000 - ETA: 0s - loss: 0.0666 - acc: 0.990 - ETA: 0s - loss: 0.0621 - acc: 0.993 - 0s 100us/step - loss: 0.0629 - acc: 0.9937\n",
      "Epoch 86/100\n",
      "1265/1265 [==============================] - ETA: 0s - loss: 0.0419 - acc: 1.000 - ETA: 0s - loss: 0.0568 - acc: 0.994 - ETA: 0s - loss: 0.0609 - acc: 0.992 - 0s 102us/step - loss: 0.0609 - acc: 0.9929\n",
      "Epoch 87/100\n",
      "1265/1265 [==============================] - ETA: 0s - loss: 0.0640 - acc: 1.000 - ETA: 0s - loss: 0.0722 - acc: 0.990 - ETA: 0s - loss: 0.0627 - acc: 0.994 - 0s 103us/step - loss: 0.0600 - acc: 0.9953\n",
      "Epoch 88/100\n",
      "1265/1265 [==============================] - ETA: 0s - loss: 0.1721 - acc: 0.958 - ETA: 0s - loss: 0.0652 - acc: 0.990 - ETA: 0s - loss: 0.0591 - acc: 0.993 - 0s 106us/step - loss: 0.0590 - acc: 0.9937\n",
      "Epoch 89/100\n",
      "1265/1265 [==============================] - ETA: 0s - loss: 0.0457 - acc: 1.000 - ETA: 0s - loss: 0.0588 - acc: 0.992 - ETA: 0s - loss: 0.0596 - acc: 0.992 - 0s 101us/step - loss: 0.0581 - acc: 0.9929\n",
      "Epoch 90/100\n",
      "1265/1265 [==============================] - ETA: 0s - loss: 0.0407 - acc: 1.000 - ETA: 0s - loss: 0.0532 - acc: 0.994 - ETA: 0s - loss: 0.0727 - acc: 0.982 - 0s 102us/step - loss: 0.0699 - acc: 0.9842\n",
      "Epoch 91/100\n",
      "1265/1265 [==============================] - ETA: 0s - loss: 0.0473 - acc: 1.000 - ETA: 0s - loss: 0.0711 - acc: 0.986 - ETA: 0s - loss: 0.0640 - acc: 0.989 - 0s 100us/step - loss: 0.0608 - acc: 0.9905\n",
      "Epoch 92/100\n",
      "1265/1265 [==============================] - ETA: 0s - loss: 0.0514 - acc: 1.000 - ETA: 0s - loss: 0.0559 - acc: 0.992 - ETA: 0s - loss: 0.0565 - acc: 0.993 - 0s 104us/step - loss: 0.0580 - acc: 0.9929\n",
      "Epoch 93/100\n",
      "1265/1265 [==============================] - ETA: 0s - loss: 0.0395 - acc: 1.000 - ETA: 0s - loss: 0.0491 - acc: 0.998 - ETA: 0s - loss: 0.0513 - acc: 0.995 - 0s 100us/step - loss: 0.0551 - acc: 0.9945\n",
      "Epoch 94/100\n",
      "1265/1265 [==============================] - ETA: 0s - loss: 0.0347 - acc: 1.000 - ETA: 0s - loss: 0.0557 - acc: 0.993 - ETA: 0s - loss: 0.0573 - acc: 0.993 - 0s 100us/step - loss: 0.0548 - acc: 0.9945\n",
      "Epoch 95/100\n",
      "1265/1265 [==============================] - ETA: 0s - loss: 0.0458 - acc: 1.000 - ETA: 0s - loss: 0.0444 - acc: 0.998 - ETA: 0s - loss: 0.0500 - acc: 0.995 - 0s 99us/step - loss: 0.0524 - acc: 0.9945\n",
      "Epoch 96/100\n",
      "1265/1265 [==============================] - ETA: 0s - loss: 0.0456 - acc: 1.000 - ETA: 0s - loss: 0.0472 - acc: 0.996 - ETA: 0s - loss: 0.0507 - acc: 0.994 - 0s 103us/step - loss: 0.0520 - acc: 0.9937\n",
      "Epoch 97/100\n",
      "1265/1265 [==============================] - ETA: 0s - loss: 0.0488 - acc: 1.000 - ETA: 0s - loss: 0.0537 - acc: 0.992 - ETA: 0s - loss: 0.0505 - acc: 0.994 - 0s 101us/step - loss: 0.0519 - acc: 0.9937\n",
      "Epoch 98/100\n",
      "1265/1265 [==============================] - ETA: 0s - loss: 0.0392 - acc: 1.000 - ETA: 0s - loss: 0.0660 - acc: 0.989 - ETA: 0s - loss: 0.0529 - acc: 0.993 - 0s 100us/step - loss: 0.0519 - acc: 0.9937\n",
      "Epoch 99/100\n",
      "1265/1265 [==============================] - ETA: 0s - loss: 0.0588 - acc: 1.000 - ETA: 0s - loss: 0.0499 - acc: 0.993 - ETA: 0s - loss: 0.0502 - acc: 0.993 - 0s 98us/step - loss: 0.0497 - acc: 0.9945\n",
      "Epoch 100/100\n",
      "1265/1265 [==============================] - ETA: 0s - loss: 0.0584 - acc: 1.000 - ETA: 0s - loss: 0.0498 - acc: 0.994 - ETA: 0s - loss: 0.0495 - acc: 0.994 - 0s 99us/step - loss: 0.0485 - acc: 0.9945\n"
     ]
    },
    {
     "data": {
      "text/plain": [
       "<keras.callbacks.History at 0x9c10044ac8>"
      ]
     },
     "execution_count": 735,
     "metadata": {},
     "output_type": "execute_result"
    }
   ],
   "source": [
    "# fitting the ANN to the Training set\n",
    "\n",
    "# For concatenated Dataset\n",
    "classifier_concat.fit(X_train_concat,y_train_concat,batch_size=24,epochs=100)"
   ]
  },
  {
   "cell_type": "code",
   "execution_count": 736,
   "metadata": {},
   "outputs": [
    {
     "name": "stdout",
     "output_type": "stream",
     "text": [
      "Epoch 1/100\n",
      "1265/1265 [==============================] - ETA: 36s - loss: 0.6936 - acc: 0.50 - ETA: 5s - loss: 0.6935 - acc: 0.3750 - ETA: 0s - loss: 0.6933 - acc: 0.458 - ETA: 0s - loss: 0.6932 - acc: 0.483 - 1s 695us/step - loss: 0.6931 - acc: 0.5075\n",
      "Epoch 2/100\n",
      "1265/1265 [==============================] - ETA: 0s - loss: 0.6926 - acc: 0.791 - ETA: 0s - loss: 0.6925 - acc: 0.685 - ETA: 0s - loss: 0.6923 - acc: 0.652 - 0s 99us/step - loss: 0.6922 - acc: 0.6751\n",
      "Epoch 3/100\n",
      "1265/1265 [==============================] - ETA: 0s - loss: 0.6920 - acc: 0.750 - ETA: 0s - loss: 0.6916 - acc: 0.573 - ETA: 0s - loss: 0.6914 - acc: 0.618 - 0s 100us/step - loss: 0.6913 - acc: 0.6530\n",
      "Epoch 4/100\n",
      "1265/1265 [==============================] - ETA: 0s - loss: 0.6904 - acc: 0.916 - ETA: 0s - loss: 0.6906 - acc: 0.686 - ETA: 0s - loss: 0.6905 - acc: 0.753 - 0s 100us/step - loss: 0.6904 - acc: 0.7676\n",
      "Epoch 5/100\n",
      "1265/1265 [==============================] - ETA: 0s - loss: 0.6905 - acc: 0.833 - ETA: 0s - loss: 0.6897 - acc: 0.838 - ETA: 0s - loss: 0.6894 - acc: 0.817 - 0s 98us/step - loss: 0.6894 - acc: 0.8126\n",
      "Epoch 6/100\n",
      "1265/1265 [==============================] - ETA: 0s - loss: 0.6888 - acc: 0.750 - ETA: 0s - loss: 0.6886 - acc: 0.836 - ETA: 0s - loss: 0.6884 - acc: 0.820 - 0s 99us/step - loss: 0.6884 - acc: 0.8158\n",
      "Epoch 7/100\n",
      "1265/1265 [==============================] - ETA: 0s - loss: 0.6894 - acc: 0.750 - ETA: 0s - loss: 0.6878 - acc: 0.801 - ETA: 0s - loss: 0.6874 - acc: 0.816 - 0s 105us/step - loss: 0.6873 - acc: 0.8206\n",
      "Epoch 8/100\n",
      "1265/1265 [==============================] - ETA: 0s - loss: 0.6850 - acc: 0.875 - ETA: 0s - loss: 0.6862 - acc: 0.795 - ETA: 0s - loss: 0.6864 - acc: 0.797 - 0s 102us/step - loss: 0.6861 - acc: 0.8055\n",
      "Epoch 9/100\n",
      "1265/1265 [==============================] - ETA: 0s - loss: 0.6867 - acc: 0.750 - ETA: 0s - loss: 0.6853 - acc: 0.817 - ETA: 0s - loss: 0.6850 - acc: 0.817 - 0s 100us/step - loss: 0.6849 - acc: 0.8213\n",
      "Epoch 10/100\n",
      "1265/1265 [==============================] - ETA: 0s - loss: 0.6835 - acc: 0.791 - ETA: 0s - loss: 0.6840 - acc: 0.825 - ETA: 0s - loss: 0.6840 - acc: 0.815 - 0s 103us/step - loss: 0.6835 - acc: 0.8213\n",
      "Epoch 11/100\n",
      "1265/1265 [==============================] - ETA: 0s - loss: 0.6828 - acc: 0.833 - ETA: 0s - loss: 0.6822 - acc: 0.831 - ETA: 0s - loss: 0.6820 - acc: 0.823 - 0s 100us/step - loss: 0.6820 - acc: 0.8245\n",
      "Epoch 12/100\n",
      "1265/1265 [==============================] - ETA: 0s - loss: 0.6808 - acc: 0.875 - ETA: 0s - loss: 0.6804 - acc: 0.816 - ETA: 0s - loss: 0.6805 - acc: 0.808 - 0s 101us/step - loss: 0.6803 - acc: 0.8142\n",
      "Epoch 13/100\n",
      "1265/1265 [==============================] - ETA: 0s - loss: 0.6778 - acc: 0.916 - ETA: 0s - loss: 0.6788 - acc: 0.816 - ETA: 0s - loss: 0.6788 - acc: 0.819 - 0s 100us/step - loss: 0.6785 - acc: 0.8158\n",
      "Epoch 14/100\n",
      "1265/1265 [==============================] - ETA: 0s - loss: 0.6760 - acc: 0.750 - ETA: 0s - loss: 0.6775 - acc: 0.813 - ETA: 0s - loss: 0.6764 - acc: 0.823 - 0s 108us/step - loss: 0.6764 - acc: 0.8142\n",
      "Epoch 15/100\n",
      "1265/1265 [==============================] - ETA: 0s - loss: 0.6786 - acc: 0.833 - ETA: 0s - loss: 0.6743 - acc: 0.809 - ETA: 0s - loss: 0.6747 - acc: 0.812 - 0s 102us/step - loss: 0.6742 - acc: 0.8119\n",
      "Epoch 16/100\n",
      "1265/1265 [==============================] - ETA: 0s - loss: 0.6800 - acc: 0.750 - ETA: 0s - loss: 0.6724 - acc: 0.791 - ETA: 0s - loss: 0.6720 - acc: 0.808 - 0s 99us/step - loss: 0.6716 - acc: 0.8119\n",
      "Epoch 17/100\n",
      "1265/1265 [==============================] - ETA: 0s - loss: 0.6751 - acc: 0.750 - ETA: 0s - loss: 0.6710 - acc: 0.801 - ETA: 0s - loss: 0.6693 - acc: 0.807 - 0s 100us/step - loss: 0.6689 - acc: 0.8126\n",
      "Epoch 18/100\n",
      "1265/1265 [==============================] - ETA: 0s - loss: 0.6784 - acc: 0.625 - ETA: 0s - loss: 0.6660 - acc: 0.812 - ETA: 0s - loss: 0.6657 - acc: 0.815 - 0s 100us/step - loss: 0.6658 - acc: 0.8150\n",
      "Epoch 19/100\n",
      "1265/1265 [==============================] - ETA: 0s - loss: 0.6725 - acc: 0.750 - ETA: 0s - loss: 0.6633 - acc: 0.826 - ETA: 0s - loss: 0.6627 - acc: 0.820 - 0s 100us/step - loss: 0.6625 - acc: 0.8166\n",
      "Epoch 20/100\n",
      "1265/1265 [==============================] - ETA: 0s - loss: 0.6670 - acc: 0.791 - ETA: 0s - loss: 0.6599 - acc: 0.817 - ETA: 0s - loss: 0.6590 - acc: 0.825 - 0s 103us/step - loss: 0.6587 - acc: 0.8190\n",
      "Epoch 21/100\n",
      "1265/1265 [==============================] - ETA: 0s - loss: 0.6681 - acc: 0.708 - ETA: 0s - loss: 0.6571 - acc: 0.817 - ETA: 0s - loss: 0.6547 - acc: 0.821 - 0s 103us/step - loss: 0.6547 - acc: 0.8166\n",
      "Epoch 22/100\n",
      "1265/1265 [==============================] - ETA: 0s - loss: 0.6483 - acc: 0.833 - ETA: 0s - loss: 0.6497 - acc: 0.831 - ETA: 0s - loss: 0.6495 - acc: 0.828 - 0s 105us/step - loss: 0.6502 - acc: 0.8198\n",
      "Epoch 23/100\n",
      "1265/1265 [==============================] - ETA: 0s - loss: 0.6657 - acc: 0.583 - ETA: 0s - loss: 0.6511 - acc: 0.812 - ETA: 0s - loss: 0.6463 - acc: 0.822 - 0s 99us/step - loss: 0.6454 - acc: 0.8261\n",
      "Epoch 24/100\n",
      "1265/1265 [==============================] - ETA: 0s - loss: 0.6606 - acc: 0.708 - ETA: 0s - loss: 0.6354 - acc: 0.833 - ETA: 0s - loss: 0.6400 - acc: 0.829 - 0s 100us/step - loss: 0.6401 - acc: 0.8221\n",
      "Epoch 25/100\n",
      "1265/1265 [==============================] - ETA: 0s - loss: 0.6274 - acc: 0.916 - ETA: 0s - loss: 0.6333 - acc: 0.849 - ETA: 0s - loss: 0.6332 - acc: 0.833 - 0s 100us/step - loss: 0.6344 - acc: 0.8269\n",
      "Epoch 26/100\n",
      "1265/1265 [==============================] - ETA: 0s - loss: 0.6553 - acc: 0.708 - ETA: 0s - loss: 0.6328 - acc: 0.814 - ETA: 0s - loss: 0.6290 - acc: 0.826 - 0s 104us/step - loss: 0.6283 - acc: 0.8285\n",
      "Epoch 27/100\n",
      "1265/1265 [==============================] - ETA: 0s - loss: 0.6321 - acc: 0.916 - ETA: 0s - loss: 0.6261 - acc: 0.817 - ETA: 0s - loss: 0.6214 - acc: 0.829 - 0s 99us/step - loss: 0.6217 - acc: 0.8277\n",
      "Epoch 28/100\n",
      "1265/1265 [==============================] - ETA: 0s - loss: 0.6235 - acc: 0.708 - ETA: 0s - loss: 0.6185 - acc: 0.829 - ETA: 0s - loss: 0.6155 - acc: 0.827 - 0s 101us/step - loss: 0.6146 - acc: 0.8292\n",
      "Epoch 29/100\n",
      "1265/1265 [==============================] - ETA: 0s - loss: 0.6181 - acc: 0.833 - ETA: 0s - loss: 0.6104 - acc: 0.815 - ETA: 0s - loss: 0.6073 - acc: 0.828 - 0s 104us/step - loss: 0.6071 - acc: 0.8269\n",
      "Epoch 30/100\n",
      "1265/1265 [==============================] - ETA: 0s - loss: 0.6292 - acc: 0.708 - ETA: 0s - loss: 0.6058 - acc: 0.829 - ETA: 0s - loss: 0.6001 - acc: 0.828 - 0s 102us/step - loss: 0.5991 - acc: 0.8308\n",
      "Epoch 31/100\n",
      "1265/1265 [==============================] - ETA: 0s - loss: 0.5673 - acc: 0.916 - ETA: 0s - loss: 0.5923 - acc: 0.843 - ETA: 0s - loss: 0.5933 - acc: 0.822 - 0s 101us/step - loss: 0.5908 - acc: 0.8277\n",
      "Epoch 32/100\n",
      "1265/1265 [==============================] - ETA: 0s - loss: 0.5888 - acc: 0.791 - ETA: 0s - loss: 0.5894 - acc: 0.811 - ETA: 0s - loss: 0.5837 - acc: 0.822 - 0s 100us/step - loss: 0.5819 - acc: 0.8292\n",
      "Epoch 33/100\n",
      "1265/1265 [==============================] - ETA: 0s - loss: 0.5364 - acc: 0.916 - ETA: 0s - loss: 0.5679 - acc: 0.855 - ETA: 0s - loss: 0.5719 - acc: 0.838 - 0s 100us/step - loss: 0.5728 - acc: 0.8356\n",
      "Epoch 34/100\n",
      "1265/1265 [==============================] - ETA: 0s - loss: 0.5561 - acc: 0.791 - ETA: 0s - loss: 0.5585 - acc: 0.845 - ETA: 0s - loss: 0.5631 - acc: 0.836 - 0s 100us/step - loss: 0.5635 - acc: 0.8316\n",
      "Epoch 35/100\n",
      "1265/1265 [==============================] - ETA: 0s - loss: 0.5886 - acc: 0.791 - ETA: 0s - loss: 0.5682 - acc: 0.829 - ETA: 0s - loss: 0.5563 - acc: 0.834 - 0s 103us/step - loss: 0.5543 - acc: 0.8316\n",
      "Epoch 36/100\n",
      "1265/1265 [==============================] - ETA: 0s - loss: 0.5082 - acc: 0.916 - ETA: 0s - loss: 0.5430 - acc: 0.842 - ETA: 0s - loss: 0.5429 - acc: 0.829 - 0s 100us/step - loss: 0.5451 - acc: 0.8292\n",
      "Epoch 37/100\n",
      "1265/1265 [==============================] - ETA: 0s - loss: 0.5433 - acc: 0.750 - ETA: 0s - loss: 0.5357 - acc: 0.840 - ETA: 0s - loss: 0.5401 - acc: 0.827 - 0s 103us/step - loss: 0.5358 - acc: 0.8324\n",
      "Epoch 38/100\n",
      "1265/1265 [==============================] - ETA: 0s - loss: 0.5293 - acc: 0.791 - ETA: 0s - loss: 0.5315 - acc: 0.831 - ETA: 0s - loss: 0.5300 - acc: 0.828 - 0s 103us/step - loss: 0.5268 - acc: 0.8348\n"
     ]
    },
    {
     "name": "stdout",
     "output_type": "stream",
     "text": [
      "Epoch 39/100\n",
      "1265/1265 [==============================] - ETA: 0s - loss: 0.5648 - acc: 0.708 - ETA: 0s - loss: 0.5208 - acc: 0.822 - ETA: 0s - loss: 0.5180 - acc: 0.837 - 0s 99us/step - loss: 0.5180 - acc: 0.8332\n",
      "Epoch 40/100\n",
      "1265/1265 [==============================] - ETA: 0s - loss: 0.5147 - acc: 0.958 - ETA: 0s - loss: 0.5123 - acc: 0.835 - ETA: 0s - loss: 0.5063 - acc: 0.839 - 0s 100us/step - loss: 0.5094 - acc: 0.8348\n",
      "Epoch 41/100\n",
      "1265/1265 [==============================] - ETA: 0s - loss: 0.5022 - acc: 0.833 - ETA: 0s - loss: 0.5140 - acc: 0.827 - ETA: 0s - loss: 0.5026 - acc: 0.838 - 0s 103us/step - loss: 0.5010 - acc: 0.8372\n",
      "Epoch 42/100\n",
      "1265/1265 [==============================] - ETA: 0s - loss: 0.4344 - acc: 0.875 - ETA: 0s - loss: 0.4771 - acc: 0.845 - ETA: 0s - loss: 0.4888 - acc: 0.842 - 0s 103us/step - loss: 0.4930 - acc: 0.8372\n",
      "Epoch 43/100\n",
      "1265/1265 [==============================] - ETA: 0s - loss: 0.4026 - acc: 0.958 - ETA: 0s - loss: 0.4795 - acc: 0.840 - ETA: 0s - loss: 0.4842 - acc: 0.838 - 0s 101us/step - loss: 0.4853 - acc: 0.8356\n",
      "Epoch 44/100\n",
      "1265/1265 [==============================] - ETA: 0s - loss: 0.4495 - acc: 0.875 - ETA: 0s - loss: 0.4726 - acc: 0.838 - ETA: 0s - loss: 0.4792 - acc: 0.837 - 0s 99us/step - loss: 0.4782 - acc: 0.8364\n",
      "Epoch 45/100\n",
      "1265/1265 [==============================] - ETA: 0s - loss: 0.4653 - acc: 0.833 - ETA: 0s - loss: 0.4727 - acc: 0.831 - ETA: 0s - loss: 0.4704 - acc: 0.833 - 0s 101us/step - loss: 0.4711 - acc: 0.8364\n",
      "Epoch 46/100\n",
      "1265/1265 [==============================] - ETA: 0s - loss: 0.4715 - acc: 0.791 - ETA: 0s - loss: 0.4690 - acc: 0.835 - ETA: 0s - loss: 0.4628 - acc: 0.840 - 0s 100us/step - loss: 0.4645 - acc: 0.8387\n",
      "Epoch 47/100\n",
      "1265/1265 [==============================] - ETA: 0s - loss: 0.4030 - acc: 0.958 - ETA: 0s - loss: 0.4481 - acc: 0.846 - ETA: 0s - loss: 0.4533 - acc: 0.844 - 0s 99us/step - loss: 0.4585 - acc: 0.8403\n",
      "Epoch 48/100\n",
      "1265/1265 [==============================] - ETA: 0s - loss: 0.4224 - acc: 0.916 - ETA: 0s - loss: 0.4551 - acc: 0.846 - ETA: 0s - loss: 0.4506 - acc: 0.840 - 0s 101us/step - loss: 0.4525 - acc: 0.8379\n",
      "Epoch 49/100\n",
      "1265/1265 [==============================] - ETA: 0s - loss: 0.3888 - acc: 0.833 - ETA: 0s - loss: 0.4376 - acc: 0.855 - ETA: 0s - loss: 0.4502 - acc: 0.837 - 0s 100us/step - loss: 0.4473 - acc: 0.8395\n",
      "Epoch 50/100\n",
      "1265/1265 [==============================] - ETA: 0s - loss: 0.4745 - acc: 0.875 - ETA: 0s - loss: 0.4305 - acc: 0.852 - ETA: 0s - loss: 0.4455 - acc: 0.833 - 0s 98us/step - loss: 0.4420 - acc: 0.8387\n",
      "Epoch 51/100\n",
      "1265/1265 [==============================] - ETA: 0s - loss: 0.4423 - acc: 0.833 - ETA: 0s - loss: 0.4407 - acc: 0.840 - ETA: 0s - loss: 0.4371 - acc: 0.841 - 0s 102us/step - loss: 0.4372 - acc: 0.8403\n",
      "Epoch 52/100\n",
      "1265/1265 [==============================] - ETA: 0s - loss: 0.4095 - acc: 0.916 - ETA: 0s - loss: 0.4310 - acc: 0.838 - ETA: 0s - loss: 0.4289 - acc: 0.846 - 0s 98us/step - loss: 0.4331 - acc: 0.8387\n",
      "Epoch 53/100\n",
      "1265/1265 [==============================] - ETA: 0s - loss: 0.4550 - acc: 0.833 - ETA: 0s - loss: 0.4080 - acc: 0.858 - ETA: 0s - loss: 0.4214 - acc: 0.846 - 0s 101us/step - loss: 0.4284 - acc: 0.8387\n",
      "Epoch 54/100\n",
      "1265/1265 [==============================] - ETA: 0s - loss: 0.3671 - acc: 0.916 - ETA: 0s - loss: 0.4284 - acc: 0.833 - ETA: 0s - loss: 0.4195 - acc: 0.844 - 0s 98us/step - loss: 0.4250 - acc: 0.8379\n",
      "Epoch 55/100\n",
      "1265/1265 [==============================] - ETA: 0s - loss: 0.3471 - acc: 0.916 - ETA: 0s - loss: 0.4281 - acc: 0.833 - ETA: 0s - loss: 0.4204 - acc: 0.839 - 0s 97us/step - loss: 0.4213 - acc: 0.8403\n",
      "Epoch 56/100\n",
      "1265/1265 [==============================] - ETA: 0s - loss: 0.4041 - acc: 0.833 - ETA: 0s - loss: 0.4288 - acc: 0.829 - ETA: 0s - loss: 0.4187 - acc: 0.840 - 0s 100us/step - loss: 0.4175 - acc: 0.8411\n",
      "Epoch 57/100\n",
      "1265/1265 [==============================] - ETA: 0s - loss: 0.3345 - acc: 0.916 - ETA: 0s - loss: 0.4053 - acc: 0.857 - ETA: 0s - loss: 0.4168 - acc: 0.838 - 0s 97us/step - loss: 0.4151 - acc: 0.8387\n",
      "Epoch 58/100\n",
      "1265/1265 [==============================] - ETA: 0s - loss: 0.3805 - acc: 0.833 - ETA: 0s - loss: 0.4021 - acc: 0.855 - ETA: 0s - loss: 0.4087 - acc: 0.848 - 0s 98us/step - loss: 0.4119 - acc: 0.8435\n",
      "Epoch 59/100\n",
      "1265/1265 [==============================] - ETA: 0s - loss: 0.3257 - acc: 0.916 - ETA: 0s - loss: 0.4236 - acc: 0.837 - ETA: 0s - loss: 0.4149 - acc: 0.838 - 0s 101us/step - loss: 0.4090 - acc: 0.8395\n",
      "Epoch 60/100\n",
      "1265/1265 [==============================] - ETA: 0s - loss: 0.4642 - acc: 0.833 - ETA: 0s - loss: 0.4228 - acc: 0.835 - ETA: 0s - loss: 0.4081 - acc: 0.841 - 0s 100us/step - loss: 0.4063 - acc: 0.8411\n",
      "Epoch 61/100\n",
      "1265/1265 [==============================] - ETA: 0s - loss: 0.4145 - acc: 0.875 - ETA: 0s - loss: 0.4241 - acc: 0.824 - ETA: 0s - loss: 0.3992 - acc: 0.845 - 0s 102us/step - loss: 0.4038 - acc: 0.8411\n",
      "Epoch 62/100\n",
      "1265/1265 [==============================] - ETA: 0s - loss: 0.4032 - acc: 0.833 - ETA: 0s - loss: 0.4006 - acc: 0.835 - ETA: 0s - loss: 0.3981 - acc: 0.841 - 0s 101us/step - loss: 0.4019 - acc: 0.8395\n",
      "Epoch 63/100\n",
      "1265/1265 [==============================] - ETA: 0s - loss: 0.4615 - acc: 0.708 - ETA: 0s - loss: 0.3827 - acc: 0.852 - ETA: 0s - loss: 0.3939 - acc: 0.844 - 0s 98us/step - loss: 0.3999 - acc: 0.8387\n",
      "Epoch 64/100\n",
      "1265/1265 [==============================] - ETA: 0s - loss: 0.4893 - acc: 0.750 - ETA: 0s - loss: 0.3956 - acc: 0.838 - ETA: 0s - loss: 0.3956 - acc: 0.840 - 0s 100us/step - loss: 0.3980 - acc: 0.8419\n",
      "Epoch 65/100\n",
      "1265/1265 [==============================] - ETA: 0s - loss: 0.3689 - acc: 0.833 - ETA: 0s - loss: 0.4065 - acc: 0.836 - ETA: 0s - loss: 0.3953 - acc: 0.838 - 0s 96us/step - loss: 0.3971 - acc: 0.8379\n",
      "Epoch 66/100\n",
      "1265/1265 [==============================] - ETA: 0s - loss: 0.4705 - acc: 0.750 - ETA: 0s - loss: 0.3823 - acc: 0.854 - ETA: 0s - loss: 0.3896 - acc: 0.844 - 0s 99us/step - loss: 0.3947 - acc: 0.8403\n",
      "Epoch 67/100\n",
      "1265/1265 [==============================] - ETA: 0s - loss: 0.3405 - acc: 0.916 - ETA: 0s - loss: 0.3885 - acc: 0.845 - ETA: 0s - loss: 0.3959 - acc: 0.839 - 0s 97us/step - loss: 0.3926 - acc: 0.8427\n",
      "Epoch 68/100\n",
      "1265/1265 [==============================] - ETA: 0s - loss: 0.2561 - acc: 0.958 - ETA: 0s - loss: 0.3960 - acc: 0.842 - ETA: 0s - loss: 0.3922 - acc: 0.842 - 0s 103us/step - loss: 0.3912 - acc: 0.8435\n",
      "Epoch 69/100\n",
      "1265/1265 [==============================] - ETA: 0s - loss: 0.3061 - acc: 0.958 - ETA: 0s - loss: 0.3852 - acc: 0.847 - ETA: 0s - loss: 0.3973 - acc: 0.834 - 0s 99us/step - loss: 0.3899 - acc: 0.8411\n",
      "Epoch 70/100\n",
      "1265/1265 [==============================] - ETA: 0s - loss: 0.5497 - acc: 0.708 - ETA: 0s - loss: 0.3842 - acc: 0.838 - ETA: 0s - loss: 0.3894 - acc: 0.839 - 0s 98us/step - loss: 0.3890 - acc: 0.8419\n",
      "Epoch 71/100\n",
      "1265/1265 [==============================] - ETA: 0s - loss: 0.2734 - acc: 0.958 - ETA: 0s - loss: 0.3793 - acc: 0.846 - ETA: 0s - loss: 0.3868 - acc: 0.836 - 0s 100us/step - loss: 0.3875 - acc: 0.8395\n",
      "Epoch 72/100\n",
      "1265/1265 [==============================] - ETA: 0s - loss: 0.4512 - acc: 0.791 - ETA: 0s - loss: 0.3877 - acc: 0.840 - ETA: 0s - loss: 0.3866 - acc: 0.842 - 0s 97us/step - loss: 0.3863 - acc: 0.8411\n",
      "Epoch 73/100\n",
      "1265/1265 [==============================] - ETA: 0s - loss: 0.4484 - acc: 0.708 - ETA: 0s - loss: 0.3962 - acc: 0.826 - ETA: 0s - loss: 0.3931 - acc: 0.832 - 0s 98us/step - loss: 0.3852 - acc: 0.8419\n",
      "Epoch 74/100\n",
      "1265/1265 [==============================] - ETA: 0s - loss: 0.2999 - acc: 0.958 - ETA: 0s - loss: 0.3841 - acc: 0.837 - ETA: 0s - loss: 0.3819 - acc: 0.846 - 0s 99us/step - loss: 0.3838 - acc: 0.8443\n",
      "Epoch 75/100\n",
      "1265/1265 [==============================] - ETA: 0s - loss: 0.3147 - acc: 0.916 - ETA: 0s - loss: 0.3711 - acc: 0.845 - ETA: 0s - loss: 0.3830 - acc: 0.838 - 0s 97us/step - loss: 0.3830 - acc: 0.8379\n",
      "Epoch 76/100\n",
      "1265/1265 [==============================] - ETA: 0s - loss: 0.3598 - acc: 0.833 - ETA: 0s - loss: 0.3939 - acc: 0.836 - ETA: 0s - loss: 0.3843 - acc: 0.842 - 0s 100us/step - loss: 0.3823 - acc: 0.8443\n",
      "Epoch 77/100\n",
      "1265/1265 [==============================] - ETA: 0s - loss: 0.4267 - acc: 0.791 - ETA: 0s - loss: 0.3761 - acc: 0.840 - ETA: 0s - loss: 0.3800 - acc: 0.842 - 0s 97us/step - loss: 0.3812 - acc: 0.8411\n",
      "Epoch 78/100\n",
      "1265/1265 [==============================] - ETA: 0s - loss: 0.3602 - acc: 0.833 - ETA: 0s - loss: 0.3638 - acc: 0.853 - ETA: 0s - loss: 0.3817 - acc: 0.843 - 0s 100us/step - loss: 0.3804 - acc: 0.8443\n",
      "Epoch 79/100\n",
      "1265/1265 [==============================] - ETA: 0s - loss: 0.4582 - acc: 0.750 - ETA: 0s - loss: 0.3758 - acc: 0.846 - ETA: 0s - loss: 0.3804 - acc: 0.841 - 0s 100us/step - loss: 0.3800 - acc: 0.8427\n",
      "Epoch 80/100\n",
      "1265/1265 [==============================] - ETA: 0s - loss: 0.4144 - acc: 0.791 - ETA: 0s - loss: 0.3824 - acc: 0.838 - ETA: 0s - loss: 0.3798 - acc: 0.846 - 0s 98us/step - loss: 0.3789 - acc: 0.8458\n",
      "Epoch 81/100\n",
      "1265/1265 [==============================] - ETA: 0s - loss: 0.5058 - acc: 0.750 - ETA: 0s - loss: 0.3938 - acc: 0.831 - ETA: 0s - loss: 0.3795 - acc: 0.843 - 0s 104us/step - loss: 0.3786 - acc: 0.8435\n",
      "Epoch 82/100\n",
      "1265/1265 [==============================] - ETA: 0s - loss: 0.3087 - acc: 0.916 - ETA: 0s - loss: 0.3873 - acc: 0.831 - ETA: 0s - loss: 0.3770 - acc: 0.843 - 0s 98us/step - loss: 0.3771 - acc: 0.8427\n",
      "Epoch 83/100\n",
      "1265/1265 [==============================] - ETA: 0s - loss: 0.2565 - acc: 0.916 - ETA: 0s - loss: 0.3682 - acc: 0.852 - ETA: 0s - loss: 0.3719 - acc: 0.846 - 0s 100us/step - loss: 0.3766 - acc: 0.8435\n",
      "Epoch 84/100\n",
      "1265/1265 [==============================] - ETA: 0s - loss: 0.2658 - acc: 0.916 - ETA: 0s - loss: 0.3552 - acc: 0.853 - ETA: 0s - loss: 0.3730 - acc: 0.843 - 0s 105us/step - loss: 0.3758 - acc: 0.8411\n",
      "Epoch 85/100\n",
      "1265/1265 [==============================] - ETA: 0s - loss: 0.2831 - acc: 0.916 - ETA: 0s - loss: 0.3717 - acc: 0.849 - ETA: 0s - loss: 0.3796 - acc: 0.843 - 0s 100us/step - loss: 0.3749 - acc: 0.8466\n",
      "Epoch 86/100\n",
      "1265/1265 [==============================] - ETA: 0s - loss: 0.4365 - acc: 0.833 - ETA: 0s - loss: 0.3623 - acc: 0.855 - ETA: 0s - loss: 0.3693 - acc: 0.846 - 0s 99us/step - loss: 0.3741 - acc: 0.8427\n",
      "Epoch 87/100\n",
      "1265/1265 [==============================] - ETA: 0s - loss: 0.2816 - acc: 0.875 - ETA: 0s - loss: 0.3859 - acc: 0.829 - ETA: 0s - loss: 0.3744 - acc: 0.841 - 0s 102us/step - loss: 0.3734 - acc: 0.8451\n",
      "Epoch 88/100\n",
      "1265/1265 [==============================] - ETA: 0s - loss: 0.3097 - acc: 0.875 - ETA: 0s - loss: 0.3613 - acc: 0.846 - ETA: 0s - loss: 0.3787 - acc: 0.840 - 0s 98us/step - loss: 0.3738 - acc: 0.8427\n",
      "Epoch 89/100\n",
      "1265/1265 [==============================] - ETA: 0s - loss: 0.3641 - acc: 0.833 - ETA: 0s - loss: 0.3480 - acc: 0.856 - ETA: 0s - loss: 0.3614 - acc: 0.850 - 0s 102us/step - loss: 0.3728 - acc: 0.8427\n",
      "Epoch 90/100\n",
      "1265/1265 [==============================] - ETA: 0s - loss: 0.3413 - acc: 0.875 - ETA: 0s - loss: 0.3849 - acc: 0.833 - ETA: 0s - loss: 0.3626 - acc: 0.848 - 0s 100us/step - loss: 0.3712 - acc: 0.8427\n",
      "Epoch 91/100\n",
      "1265/1265 [==============================] - ETA: 0s - loss: 0.5911 - acc: 0.708 - ETA: 0s - loss: 0.3517 - acc: 0.856 - ETA: 0s - loss: 0.3748 - acc: 0.839 - 0s 101us/step - loss: 0.3714 - acc: 0.8403\n",
      "Epoch 92/100\n",
      "1265/1265 [==============================] - ETA: 0s - loss: 0.3331 - acc: 0.875 - ETA: 0s - loss: 0.3867 - acc: 0.827 - ETA: 0s - loss: 0.3708 - acc: 0.845 - 0s 100us/step - loss: 0.3708 - acc: 0.8458\n",
      "Epoch 93/100\n",
      "1265/1265 [==============================] - ETA: 0s - loss: 0.3759 - acc: 0.875 - ETA: 0s - loss: 0.3528 - acc: 0.853 - ETA: 0s - loss: 0.3637 - acc: 0.846 - 0s 100us/step - loss: 0.3706 - acc: 0.8427\n",
      "Epoch 94/100\n",
      "1265/1265 [==============================] - ETA: 0s - loss: 0.2931 - acc: 0.875 - ETA: 0s - loss: 0.3482 - acc: 0.859 - ETA: 0s - loss: 0.3669 - acc: 0.844 - 0s 99us/step - loss: 0.3695 - acc: 0.8427\n",
      "Epoch 95/100\n",
      "1265/1265 [==============================] - ETA: 0s - loss: 0.5823 - acc: 0.625 - ETA: 0s - loss: 0.3465 - acc: 0.861 - ETA: 0s - loss: 0.3705 - acc: 0.842 - 0s 97us/step - loss: 0.3689 - acc: 0.8427\n",
      "Epoch 96/100\n",
      "1265/1265 [==============================] - ETA: 0s - loss: 0.2564 - acc: 0.958 - ETA: 0s - loss: 0.3681 - acc: 0.844 - ETA: 0s - loss: 0.3678 - acc: 0.846 - 0s 99us/step - loss: 0.3680 - acc: 0.8451\n",
      "Epoch 97/100\n",
      "1265/1265 [==============================] - ETA: 0s - loss: 0.1519 - acc: 1.000 - ETA: 0s - loss: 0.3545 - acc: 0.853 - ETA: 0s - loss: 0.3710 - acc: 0.846 - 0s 100us/step - loss: 0.3681 - acc: 0.8443\n",
      "Epoch 98/100\n",
      "1265/1265 [==============================] - ETA: 0s - loss: 0.2378 - acc: 0.958 - ETA: 0s - loss: 0.3717 - acc: 0.846 - ETA: 0s - loss: 0.3640 - acc: 0.850 - 0s 95us/step - loss: 0.3666 - acc: 0.8474\n",
      "Epoch 99/100\n",
      "1265/1265 [==============================] - ETA: 0s - loss: 0.2812 - acc: 0.875 - ETA: 0s - loss: 0.3562 - acc: 0.846 - ETA: 0s - loss: 0.3682 - acc: 0.842 - 0s 100us/step - loss: 0.3653 - acc: 0.8435\n",
      "Epoch 100/100\n",
      "1265/1265 [==============================] - ETA: 0s - loss: 0.2682 - acc: 0.958 - ETA: 0s - loss: 0.3631 - acc: 0.847 - ETA: 0s - loss: 0.3607 - acc: 0.851 - 0s 98us/step - loss: 0.3668 - acc: 0.8451\n"
     ]
    },
    {
     "data": {
      "text/plain": [
       "<keras.callbacks.History at 0x9c11f62198>"
      ]
     },
     "execution_count": 736,
     "metadata": {},
     "output_type": "execute_result"
    }
   ],
   "source": [
    "# fitting the ANN to the Training set\n",
    "\n",
    "# For subtracted Dataset\n",
    "classifier_subtract.fit(X_train_subtract,y_train_subtract,batch_size=24,epochs=100)"
   ]
  },
  {
   "cell_type": "code",
   "execution_count": 737,
   "metadata": {},
   "outputs": [],
   "source": [
    "# For concatenated Dataset\n",
    "\n",
    "y_pred_concat = classifier_concat.predict(X_test_concat)\n",
    "\n",
    "# For subtracted Dataset\n",
    "\n",
    "y_pred_subtract = classifier_subtract.predict(X_test_subtract)"
   ]
  },
  {
   "cell_type": "code",
   "execution_count": 738,
   "metadata": {},
   "outputs": [],
   "source": [
    "y_pred_concat = (y_pred_concat > 0.5)\n",
    "y_pred_concat =y_pred_concat.astype(int)\n",
    "y_pred_concat = [y_pred_concat[i][0] for i in range(len(y_pred_subtract))]\n",
    "\n",
    "y_pred_subtract = (y_pred_subtract > 0.5)\n",
    "y_pred_subtract = y_pred_subtract.astype(int)\n",
    "y_pred_subtract = [y_pred_subtract[i][0] for i in range(len(y_pred_subtract))]"
   ]
  },
  {
   "cell_type": "code",
   "execution_count": 739,
   "metadata": {},
   "outputs": [],
   "source": [
    "def evaluation(predict,Target):\n",
    "    right = 0\n",
    "    wrong = 0\n",
    "    \n",
    "    for i in range(len(Target)):\n",
    "        if predict[i] == Target[i]:\n",
    "            right += 1\n",
    "        else:\n",
    "            wrong +=1\n",
    "    return right, wrong"
   ]
  },
  {
   "cell_type": "code",
   "execution_count": 740,
   "metadata": {},
   "outputs": [
    {
     "name": "stdout",
     "output_type": "stream",
     "text": [
      "Accuracy is 98.42271293375394\n",
      "Error is 1.5772870662460567\n",
      "\n",
      "Accuracy is 83.2807570977918\n",
      "Error is 16.7192429022082\n"
     ]
    }
   ],
   "source": [
    "# For concatenatedfeatures\n",
    "\n",
    "Right_concat, Wrong_concat = evaluation(y_pred_concat,y_test_concat)\n",
    "print(\"Accuracy is \" + str(Right_concat/len(y_test_concat)*100))\n",
    "print(\"Error is \" + str(Wrong_concat/len(y_test_concat)*100))\n",
    "\n",
    "print()\n",
    "# For subtractedfeatures\n",
    "\n",
    "Right_subtract, Wrong_subtract = evaluation(y_pred_subtract,y_test_subtract)\n",
    "print(\"Accuracy is \" + str(Right_subtract/len(y_test_subtract)*100))\n",
    "print(\"Error is \" + str(Wrong_subtract/len(y_test_subtract)*100))"
   ]
  },
  {
   "cell_type": "code",
   "execution_count": null,
   "metadata": {},
   "outputs": [],
   "source": []
  }
 ],
 "metadata": {
  "kernelspec": {
   "display_name": "Python [default]",
   "language": "python",
   "name": "python3"
  },
  "language_info": {
   "codemirror_mode": {
    "name": "ipython",
    "version": 3
   },
   "file_extension": ".py",
   "mimetype": "text/x-python",
   "name": "python",
   "nbconvert_exporter": "python",
   "pygments_lexer": "ipython3",
   "version": "3.5.4"
  }
 },
 "nbformat": 4,
 "nbformat_minor": 2
}
